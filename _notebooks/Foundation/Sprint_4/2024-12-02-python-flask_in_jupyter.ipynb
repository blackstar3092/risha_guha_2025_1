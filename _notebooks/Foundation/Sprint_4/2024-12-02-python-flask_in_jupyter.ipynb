{
 "cells": [
  {
   "cell_type": "code",
   "execution_count": null,
   "metadata": {},
   "outputs": [],
   "source": [
    "---\n",
    "toc: true\n",
    "comments: false\n",
    "layout: post\n",
    "title: BI 4.1 Internet - Web Server \n",
    "description: Quick launch into Flask, sending and receiving data from a web server.\n",
    "courses: { csp: {week: 14 } }\n",
    "type: ccc\n",
    "menu: nav/sprint_4.html\n",
    "permalink: /sprint/4/flask-intro\n",
    "---"
   ]
  },
  {
   "cell_type": "markdown",
   "metadata": {},
   "source": [
    "## Introduction\n",
    "\n",
    "Welcome to this journey into the world of web servers and the Flask framework! In the previous weeks, you've successfully set up a web server using GitHub Pages, converting Jupyter Notebooks into Markdown for a seamless online presentation. Today, we'll take that knowledge to the next level as we dive into creating your very own web server using Flask.\n",
    "\n",
    "### Understanding Web Servers\n",
    "What is a Web Server?\n",
    "\n",
    "Traditionally, we had librarians at libraries that would help you find books or information. Today in the digital world, thousands upon thousands of home pages, search engines, and digital archives have been built using web servers.\n",
    "\n",
    "### GitHub Pages vs. Flask\n",
    "\n",
    "You've already experienced a form of web server through GitHub Pages. Think of GitHub Pages as a library that has established rules for publishing Markdown notes and Jupyter Notebooks neatly on a bookshelf.\n",
    "\n",
    "Now, let's introduce Flask, your personal web server. Flask can create and manage any type of content, including customizing everything according to your preferences, and even serve additional information (like a database with APIs).\n",
    "\n",
    "The Flask Framework\n",
    "Flask is a micro web framework written in Python. It's designed to be minimal and easy to use, making it perfect for building web applications, APIs, and, yes, even your web server. Today, we will start with the basics of Flask and see how it empowers you to create and manage web content."
   ]
  },
  {
   "attachments": {},
   "cell_type": "markdown",
   "metadata": {},
   "source": [
    "##  Our Goals for Today\n",
    "Here's what we'll accomplish in this session:\n",
    "\n",
    "- Create a minimal Flask server.\n",
    "- Explore the Python/Flask process.\n",
    "- Access data from our Flask server using Python.\n",
    "- Access data from our Flask server using JavaScript.\n",
    "- Learn how to stop the Python/Flask process gracefully.\n",
    "\n"
   ]
  },
  {
   "cell_type": "markdown",
   "metadata": {},
   "source": [
    "### Install required libraries\n",
    "These libraries are required to run and interact with the Python web server."
   ]
  },
  {
   "cell_type": "code",
   "execution_count": 1,
   "metadata": {},
   "outputs": [
    {
     "name": "stdout",
     "output_type": "stream",
     "text": [
      "Collecting flask\n",
      "  Downloading flask-3.1.0-py3-none-any.whl.metadata (2.7 kB)\n",
      "Collecting flask-cors\n",
      "  Using cached Flask_Cors-5.0.0-py2.py3-none-any.whl.metadata (5.5 kB)\n",
      "Requirement already satisfied: requests in /home/rguha/nighthawk/risha_guha_2025_1/venv/lib/python3.12/site-packages (2.32.3)\n",
      "Collecting Werkzeug>=3.1 (from flask)\n",
      "  Downloading werkzeug-3.1.3-py3-none-any.whl.metadata (3.7 kB)\n",
      "Requirement already satisfied: Jinja2>=3.1.2 in /home/rguha/nighthawk/risha_guha_2025_1/venv/lib/python3.12/site-packages (from flask) (3.1.4)\n",
      "Collecting itsdangerous>=2.2 (from flask)\n",
      "  Using cached itsdangerous-2.2.0-py3-none-any.whl.metadata (1.9 kB)\n",
      "Collecting click>=8.1.3 (from flask)\n",
      "  Using cached click-8.1.7-py3-none-any.whl.metadata (3.0 kB)\n",
      "Collecting blinker>=1.9 (from flask)\n",
      "  Downloading blinker-1.9.0-py3-none-any.whl.metadata (1.6 kB)\n",
      "Requirement already satisfied: charset-normalizer<4,>=2 in /home/rguha/nighthawk/risha_guha_2025_1/venv/lib/python3.12/site-packages (from requests) (3.4.0)\n",
      "Requirement already satisfied: idna<4,>=2.5 in /home/rguha/nighthawk/risha_guha_2025_1/venv/lib/python3.12/site-packages (from requests) (3.10)\n",
      "Requirement already satisfied: urllib3<3,>=1.21.1 in /home/rguha/nighthawk/risha_guha_2025_1/venv/lib/python3.12/site-packages (from requests) (2.2.3)\n",
      "Requirement already satisfied: certifi>=2017.4.17 in /home/rguha/nighthawk/risha_guha_2025_1/venv/lib/python3.12/site-packages (from requests) (2024.8.30)\n",
      "Requirement already satisfied: MarkupSafe>=2.0 in /home/rguha/nighthawk/risha_guha_2025_1/venv/lib/python3.12/site-packages (from Jinja2>=3.1.2->flask) (3.0.1)\n",
      "Downloading flask-3.1.0-py3-none-any.whl (102 kB)\n",
      "\u001b[2K   \u001b[90m━━━━━━━━━━━━━━━━━━━━━━━━━━━━━━━━━━━━━━━━\u001b[0m \u001b[32m103.0/103.0 kB\u001b[0m \u001b[31m1.5 MB/s\u001b[0m eta \u001b[36m0:00:00\u001b[0m00:01\u001b[0m\n",
      "\u001b[?25hUsing cached Flask_Cors-5.0.0-py2.py3-none-any.whl (14 kB)\n",
      "Downloading blinker-1.9.0-py3-none-any.whl (8.5 kB)\n",
      "Using cached click-8.1.7-py3-none-any.whl (97 kB)\n",
      "Using cached itsdangerous-2.2.0-py3-none-any.whl (16 kB)\n",
      "Downloading werkzeug-3.1.3-py3-none-any.whl (224 kB)\n",
      "\u001b[2K   \u001b[90m━━━━━━━━━━━━━━━━━━━━━━━━━━━━━━━━━━━━━━━━\u001b[0m \u001b[32m224.5/224.5 kB\u001b[0m \u001b[31m2.9 MB/s\u001b[0m eta \u001b[36m0:00:00\u001b[0ma \u001b[36m0:00:01\u001b[0m\n",
      "\u001b[?25hInstalling collected packages: Werkzeug, itsdangerous, click, blinker, flask, flask-cors\n",
      "Successfully installed Werkzeug-3.1.3 blinker-1.9.0 click-8.1.7 flask-3.1.0 flask-cors-5.0.0 itsdangerous-2.2.0\n"
     ]
    }
   ],
   "source": [
    "!pip install flask flask-cors requests"
   ]
  },
  {
   "cell_type": "markdown",
   "metadata": {},
   "source": [
    "### Start Web Server\n",
    "This Python code provides a simple server with an accessible API.\n",
    "\n",
    "Note: Jupyter magic commmand `%%python --bg` that follows runs the server in background.  This enables us to continue interacting with the subsequent Notebook cells."
   ]
  },
  {
   "cell_type": "code",
   "execution_count": 17,
   "metadata": {},
   "outputs": [],
   "source": [
    "%%python --bg\n",
    "\n",
    "from flask import Flask, jsonify\n",
    "from flask_cors import CORS\n",
    "\n",
    "# initialize a flask application (app)\n",
    "app = Flask(__name__)\n",
    "CORS(app, supports_credentials=True, origins='*')  # Allow all origins (*)\n",
    "\n",
    "# ... your existing Flask\n",
    "\n",
    "# add an api endpoint to flask app\n",
    "@app.route('/api/data')\n",
    "def get_data():\n",
    "    # start a list, to be used like a information database\n",
    "    InfoDb = []\n",
    "\n",
    "    # add a row to list, an Info record\n",
    "    InfoDb.append({\n",
    "        \"FirstName\": \"John\",\n",
    "        \"LastName\": \"Mortensen\",\n",
    "        \"DOB\": \"October 21\",\n",
    "        \"Residence\": \"San Diego\",\n",
    "        \"Email\": \"jmortensen@powayusd.com\",\n",
    "        \"Owns_Cars\": [\"2015-Fusion\", \"2011-Ranger\", \"2003-Excursion\", \"1997-F350\", \"1969-Cadillac\"]\n",
    "    })\n",
    "\n",
    "    # add a row to list, an Info record\n",
    "    InfoDb.append({\n",
    "        \"FirstName\": \"Risha\",\n",
    "        \"LastName\": \"Guha\",\n",
    "        \"DOB\": \"October 22\",\n",
    "        \"Residence\": \"San Diego\",\n",
    "        \"Email\": \"rishag22742@stu.powayusd.com\",\n",
    "        \"Owns_Cars\": [\"None\"]\n",
    "    })\n",
    "    \n",
    "    return jsonify(InfoDb)\n",
    "\n",
    "# add an HTML endpoint to flask app\n",
    "@app.route('/')\n",
    "def say_hello():\n",
    "    html_content = \"\"\"\n",
    "    <html>\n",
    "    <head>\n",
    "        <title>Hellox</title>\n",
    "    </head>\n",
    "    <body>\n",
    "        <h2>Hello, World!</h2>\n",
    "    </body>\n",
    "    </html>\n",
    "    \"\"\"\n",
    "    return html_content\n",
    "\n",
    "if __name__ == '__main__':\n",
    "    # starts flask server on default port, http://127.0.0.1:5001\n",
    "    app.run(port=5001)"
   ]
  },
  {
   "cell_type": "markdown",
   "metadata": {},
   "source": [
    "### Explore the Python/Flask process with Linux\n",
    "This script discovers the running flask process on your machine using Linux commands.\n",
    "\n",
    "1. lsof - list open files\n",
    "2. `lsof` and `awk` return the process id, so `ps` can list details, the vericle bar is called a `pipe`.  A pipe flows output from one command to the next.\n",
    "3. `curl` is a Linux utiltity that is easiest way to test if web server is responding"
   ]
  },
  {
   "cell_type": "code",
   "execution_count": 18,
   "metadata": {
    "vscode": {
     "languageId": "bat"
    }
   },
   "outputs": [
    {
     "name": "stdout",
     "output_type": "stream",
     "text": [
      "Python open files on port 5001\n",
      "COMMAND     PID  USER   FD   TYPE   DEVICE SIZE/OFF NODE NAME\n",
      "python  1255539 rguha    3u  IPv4 22203657      0t0  TCP localhost:5001 (LISTEN)\n",
      "\n",
      "Python process\n"
     ]
    },
    {
     "name": "stderr",
     "output_type": "stream",
     "text": [
      "your 131072x1 screen size is bogus. expect trouble\n"
     ]
    },
    {
     "name": "stdout",
     "output_type": "stream",
     "text": [
      "    PID TTY          TIME CMD\n",
      "    401 pts/0    00:00:00 sh\n",
      "    402 pts/0    00:00:00 sh\n",
      "    407 pts/0    00:00:00 sh\n",
      "    411 pts/0    00:16:00 node\n",
      "   1608 pts/0    00:16:11 node\n",
      " 934453 pts/0    00:00:31 node\n",
      " 934467 pts/0    00:42:48 node\n",
      " 934515 pts/0    00:00:09 node\n",
      " 934592 pts/0    00:00:04 pet\n",
      " 935858 pts/0    00:00:07 node\n",
      " 935958 pts/0    00:00:18 node\n",
      " 936290 pts/0    00:00:18 node\n",
      "1051569 pts/0    00:00:18 node\n",
      "1051580 pts/0    00:26:53 node\n",
      "1051667 pts/0    00:00:01 pet\n",
      "1052758 pts/0    00:00:04 node\n",
      "1055117 pts/0    00:00:03 node\n",
      "1055123 pts/0    00:00:03 node\n",
      "1055153 pts/0    00:00:03 node\n",
      "1056140 pts/0    00:02:27 node\n",
      "1057025 pts/0    00:00:00 sqlite3-editor-\n",
      "1242964 pts/0    00:00:12 node\n",
      "1242975 pts/0    00:02:46 node\n",
      "1243088 pts/0    00:00:06 node\n",
      "1243139 pts/0    00:00:04 pet\n",
      "1244420 pts/0    00:00:07 node\n",
      "1244485 pts/0    00:00:00 node\n",
      "1244625 pts/0    00:00:33 node\n",
      "1248721 pts/0    00:01:18 node\n",
      "1248732 pts/0    00:00:02 node\n",
      "1248775 pts/0    00:00:03 node\n",
      "1248848 pts/0    00:00:00 pet\n",
      "1249082 pts/0    00:00:21 node\n",
      "1249093 pts/0    00:00:00 node\n",
      "1251483 pts/0    00:00:03 python\n",
      "1255539 pts/0    00:00:00 python\n",
      "1259691 pts/0    00:00:00 bash\n",
      "1259692 pts/0    00:00:00 bash\n",
      "1259694 pts/0    00:00:00 awk\n",
      "1261081 pts/0    00:00:00 bash\n",
      "1261085 pts/0    00:00:00 xargs\n",
      "1261086 pts/0    00:00:00 ps\n",
      "\n",
      "Content of the Python root endpoint (aka /), using curl,\n",
      "\n",
      "    <html>\n",
      "    <head>\n",
      "        <title>Hellox</title>\n",
      "    </head>\n",
      "    <body>\n",
      "        <h2>Hello, World!</h2>\n",
      "    </body>\n",
      "    </html>\n"
     ]
    },
    {
     "name": "stderr",
     "output_type": "stream",
     "text": [
      "  % Total    % Received % Xferd  Average Speed   Time    Time     Time  Current\n",
      "                                 Dload  Upload   Total   Spent    Left  Speed\n",
      "100   135  100   135    0     0  29980      0 --:--:-- --:--:-- --:--:-- 33750\n"
     ]
    },
    {
     "name": "stdout",
     "output_type": "stream",
     "text": [
      "    "
     ]
    }
   ],
   "source": [
    "%%script bash\n",
    "\n",
    "# After app.run(), see the the Python open files on port 5001\n",
    "echo \"Python open files on port 5001\" \n",
    "lsof -i :5001\n",
    "# see the the Python process \n",
    "echo\n",
    "echo \"Python process\"\n",
    "lsof -i :5001 | awk '/Python/ {print $2}' | xargs ps\n",
    "# show ontent of the Python server using curl\n",
    "echo\n",
    "echo \"Content of the Python root endpoint (aka /), using curl\",  \n",
    "curl http://localhost:5001/\n",
    "\n"
   ]
  },
  {
   "cell_type": "markdown",
   "metadata": {},
   "source": [
    "### Access data from our Flask server using Python\n",
    "The code block below shows alternate ways to access the Web Server.\n",
    "1. Import requests and use it to obtain response from endpoints\n",
    "2. The response is a Python object that contains status codes and data\n",
    "3. The data can be in different forms, we will be focussed on JSON responses in Full-Stack."
   ]
  },
  {
   "cell_type": "code",
   "execution_count": 19,
   "metadata": {},
   "outputs": [
    {
     "name": "stdout",
     "output_type": "stream",
     "text": [
      "Print Status Message: <Response [200]>\n",
      "\n",
      "Print Raw HTML:\n",
      " \n",
      "    <html>\n",
      "    <head>\n",
      "        <title>Hellox</title>\n",
      "    </head>\n",
      "    <body>\n",
      "        <h2>Hello, World!</h2>\n",
      "    </body>\n",
      "    </html>\n",
      "    \n"
     ]
    },
    {
     "data": {
      "text/html": [
       "\n",
       "    <html>\n",
       "    <head>\n",
       "        <title>Hellox</title>\n",
       "    </head>\n",
       "    <body>\n",
       "        <h2>Hello, World!</h2>\n",
       "    </body>\n",
       "    </html>\n",
       "    "
      ],
      "text/plain": [
       "<IPython.core.display.HTML object>"
      ]
     },
     "metadata": {},
     "output_type": "display_data"
    },
    {
     "name": "stdout",
     "output_type": "stream",
     "text": [
      "Print Status Message: <Response [404]>\n",
      "Print Status Message: <Response [200]>\n"
     ]
    }
   ],
   "source": [
    "import requests\n",
    "from IPython.display import HTML, display\n",
    "\n",
    "# call api root endpoint (aka '/'), often called home page\n",
    "response = requests.get('http://127.0.0.1:5001/')\n",
    "# output response in different forms\n",
    "print(\"Print Status Message:\", response)\n",
    "print(\"\\nPrint Raw HTML:\\n\", response.text)\n",
    "display(HTML(response.text))\n",
    "\n",
    "# call unknown api endpoint\n",
    "response = requests.get('http://127.0.0.1:5001/unknown-page')\n",
    "print(\"Print Status Message:\", response)\n",
    "\n",
    "response = requests.get('http://127.0.0.1:5001/')\n",
    "print(\"Print Status Message:\", response)"
   ]
  },
  {
   "cell_type": "code",
   "execution_count": 20,
   "metadata": {},
   "outputs": [
    {
     "data": {
      "text/plain": [
       "[{'DOB': 'October 21',\n",
       "  'Email': 'jmortensen@powayusd.com',\n",
       "  'FirstName': 'John',\n",
       "  'LastName': 'Mortensen',\n",
       "  'Owns_Cars': ['2015-Fusion',\n",
       "   '2011-Ranger',\n",
       "   '2003-Excursion',\n",
       "   '1997-F350',\n",
       "   '1969-Cadillac'],\n",
       "  'Residence': 'San Diego'},\n",
       " {'DOB': 'October 22',\n",
       "  'Email': 'rishag22742@stu.powayusd.com',\n",
       "  'FirstName': 'Risha',\n",
       "  'LastName': 'Guha',\n",
       "  'Owns_Cars': ['None'],\n",
       "  'Residence': 'San Diego'}]"
      ]
     },
     "execution_count": 20,
     "metadata": {},
     "output_type": "execute_result"
    }
   ],
   "source": [
    "import requests\n",
    "# an api endpoint most commonly returns JSON data\n",
    "response = requests.get('http://127.0.0.1:5001/api/data')\n",
    "response.json()"
   ]
  },
  {
   "cell_type": "markdown",
   "metadata": {},
   "source": [
    "### Access data from our Flask server using JavaScript\n",
    "This sample is very similar to Full-Stack as the JavaScript is running through Jupyter and the Web server is a Python Process running on our machine (local server).\n",
    "\n",
    "1. HTML is used to setup basics of a table\n",
    "2. The script block, has javascript fetch that passes endpoint (url) and options.  The options are critical to communicating request requirements.\n",
    "3. Similar to python examples, data is extracted and that data is written to the document, which is what is viewable to the user as the page is rendered.  Headings are static in the document, but rows are dynamically extracted according to the information contained in the server."
   ]
  },
  {
   "cell_type": "code",
   "execution_count": 33,
   "metadata": {
    "vscode": {
     "languageId": "html"
    }
   },
   "outputs": [
    {
     "data": {
      "text/html": [
       "\n",
       "<h1>Access data from our Flask server using JavaScript</h1>\n",
       "\n",
       "<p>This code extracts data \"live\" from a local Web Server with JavaScript fetch. Additionally, it formats the data into a table.</p>\n",
       "\n",
       "<!-- Head contains information to Support the Document -->\n",
       "\n",
       "<!-- HTML table fragment for page -->\n",
       "<table id=\"demo\" class=\"table\">\n",
       "  <thead>\n",
       "      <tr>\n",
       "          <th>First Name</th>\n",
       "          <th>Last Name</th>\n",
       "          <th>Residence</th>\n",
       "      </tr>\n",
       "  </thead>\n",
       "  <tbody id=\"result\">\n",
       "    <!-- javascript generated data -->\n",
       "  </tbody>\n",
       "</table>\n",
       "\n",
       "<script>\n",
       "  function dataLocalStoreAndDisplay() {\n",
       "    // prepare HTML result container for new output\n",
       "    let resultContainer = document.getElementById(\"result\");\n",
       "\n",
       "    // prepare URL\n",
       "    url = \"http://127.0.0.1:5001/api/data\";\n",
       "\n",
       "    // set options for cross-origin header request\n",
       "    let options = {\n",
       "      method: 'GET', // *GET, POST, PUT, DELETE, etc.\n",
       "      mode: 'cors', // no-cors, *cors, same-origin\n",
       "      cache: 'default', // *default, no-cache, reload, force-cache, only-if-cached\n",
       "      credentials: 'include', // include, *same-origin, omit\n",
       "      headers: {\n",
       "        'Content-Type': 'application/json',\n",
       "      },\n",
       "    };\n",
       "\n",
       "    // fetch the API\n",
       "    fetch(url, options)\n",
       "      // response is a RESTful \"promise\" on any successful fetch\n",
       "      .then(response => {\n",
       "        // check for response errors and display\n",
       "        if (response.status !== 200) {\n",
       "            console.error(response.status);\n",
       "            return;\n",
       "        }\n",
       "        // valid response will contain JSON data\n",
       "        response.json().then(data => {\n",
       "          console.log(data);\n",
       "          for (const row of data) {\n",
       "            // tr and td build out for each row\n",
       "            const tr = document.createElement(\"tr\");\n",
       "            const firstname = document.createElement(\"td\");\n",
       "            const lastname = document.createElement(\"td\");\n",
       "            const residence = document.createElement(\"td\");\n",
       "            // data is specific to the API\n",
       "            firstname.innerHTML = row.FirstName; \n",
       "            lastname.innerHTML = row.LastName; \n",
       "            residence.innerHTML = row.Residence; \n",
       "            // this builds each td into tr\n",
       "            tr.appendChild(firstname);\n",
       "            tr.appendChild(lastname);\n",
       "            tr.appendChild(residence);\n",
       "            // add HTML to container\n",
       "            resultContainer.appendChild(tr);\n",
       "          }\n",
       "        });\n",
       "      })\n",
       "      .catch(error => console.error(\"Fetch error:\", error));\n",
       "  }\n",
       "\n",
       "  dataLocalStoreAndDisplay();\n",
       "</script>\n"
      ],
      "text/plain": [
       "<IPython.core.display.HTML object>"
      ]
     },
     "metadata": {},
     "output_type": "display_data"
    }
   ],
   "source": [
    "%%html\n",
    "\n",
    "<h1>Access data from our Flask server using JavaScript</h1>\n",
    "\n",
    "<p>This code extracts data \"live\" from a local Web Server with JavaScript fetch. Additionally, it formats the data into a table.</p>\n",
    "\n",
    "<!-- Head contains information to Support the Document -->\n",
    "\n",
    "<!-- HTML table fragment for page -->\n",
    "<table id=\"demo\" class=\"table\">\n",
    "  <thead>\n",
    "      <tr>\n",
    "          <th>First Name</th>\n",
    "          <th>Last Name</th>\n",
    "          <th>Residence</th>\n",
    "      </tr>\n",
    "  </thead>\n",
    "  <tbody id=\"result\">\n",
    "    <!-- javascript generated data -->\n",
    "  </tbody>\n",
    "</table>\n",
    "\n",
    "<script>\n",
    "  function dataLocalStoreAndDisplay() {\n",
    "    // prepare HTML result container for new output\n",
    "    let resultContainer = document.getElementById(\"result\");\n",
    "\n",
    "    // prepare URL\n",
    "    url = \"http://127.0.0.1:5001/api/data\";\n",
    "\n",
    "    // set options for cross-origin header request\n",
    "    let options = {\n",
    "      method: 'GET', // *GET, POST, PUT, DELETE, etc.\n",
    "      mode: 'cors', // no-cors, *cors, same-origin\n",
    "      cache: 'default', // *default, no-cache, reload, force-cache, only-if-cached\n",
    "      credentials: 'include', // include, *same-origin, omit\n",
    "      headers: {\n",
    "        'Content-Type': 'application/json',\n",
    "      },\n",
    "    };\n",
    "\n",
    "    // fetch the API\n",
    "    fetch(url, options)\n",
    "      // response is a RESTful \"promise\" on any successful fetch\n",
    "      .then(response => {\n",
    "        // check for response errors and display\n",
    "        if (response.status !== 200) {\n",
    "            console.error(response.status);\n",
    "            return;\n",
    "        }\n",
    "        // valid response will contain JSON data\n",
    "        response.json().then(data => {\n",
    "          console.log(data);\n",
    "          for (const row of data) {\n",
    "            // tr and td build out for each row\n",
    "            const tr = document.createElement(\"tr\");\n",
    "            const firstname = document.createElement(\"td\");\n",
    "            const lastname = document.createElement(\"td\");\n",
    "            const residence = document.createElement(\"td\");\n",
    "            // data is specific to the API\n",
    "            firstname.innerHTML = row.FirstName; \n",
    "            lastname.innerHTML = row.LastName; \n",
    "            residence.innerHTML = row.Residence; \n",
    "            // this builds each td into tr\n",
    "            tr.appendChild(firstname);\n",
    "            tr.appendChild(lastname);\n",
    "            tr.appendChild(residence);\n",
    "            // add HTML to container\n",
    "            resultContainer.appendChild(tr);\n",
    "          }\n",
    "        });\n",
    "      })\n",
    "      .catch(error => console.error(\"Fetch error:\", error));\n",
    "  }\n",
    "\n",
    "  dataLocalStoreAndDisplay();\n",
    "</script>\n"
   ]
  },
  {
   "cell_type": "markdown",
   "metadata": {},
   "source": [
    "### Stop the Python/Flask process\n",
    "This script ends Python/Flask process using pipes to obtain the python process.  Then echo the python process to `kill -9`.  "
   ]
  },
  {
   "cell_type": "code",
   "execution_count": null,
   "metadata": {
    "vscode": {
     "languageId": "bat"
    }
   },
   "outputs": [],
   "source": [
    "%%script bash\n",
    "\n",
    "python_ps=$(sudo lsof -i :5001 | awk '/python/ {print $2}')\n",
    "echo \"Killing python process with PID: $python_ps\"\n",
    "echo $python_ps | sudo kill -9"
   ]
  },
  {
   "cell_type": "markdown",
   "metadata": {},
   "source": [
    "## Hacks\n",
    "Edit, stop and start the web server.\n",
    "- Add to the Home Page\n",
    "- Add your own information to the Web API\n",
    "- Use from Template to start your own Team Flask project https://github.com/nighthawkcoders/flocker_backend"
   ]
  }
 ],
 "metadata": {
  "kernelspec": {
   "display_name": "venv",
   "language": "python",
   "name": "python3"
  },
  "language_info": {
   "codemirror_mode": {
    "name": "ipython",
    "version": 3
   },
   "file_extension": ".py",
   "mimetype": "text/x-python",
   "name": "python",
   "nbconvert_exporter": "python",
   "pygments_lexer": "ipython3",
   "version": "3.12.3"
  },
  "orig_nbformat": 4
 },
 "nbformat": 4,
 "nbformat_minor": 2
}
