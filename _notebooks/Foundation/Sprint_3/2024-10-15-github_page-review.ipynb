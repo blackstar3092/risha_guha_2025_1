{
 "cells": [
  {
   "cell_type": "code",
   "execution_count": null,
   "metadata": {
    "vscode": {
     "languageId": "plaintext"
    }
   },
   "outputs": [],
   "source": [
    "---\n",
    "layout: post\n",
    "title: Trimester 1 Sprints 1-3 Review Ticket\n",
    "categories: [Javascript]\n",
    "permalink: /sprint/3/review\n",
    "type: ccc\n",
    "author: Risha Guha\n",
    "menu: nav/sprint_3.html\n",
    "---"
   ]
  },
  {
   "cell_type": "markdown",
   "metadata": {},
   "source": [
    "### **Trimester 1 Sprint 1-3 Review Ticket**  \n",
    "---  \n",
    "#### ✨ **Sprint 1: Frontend Development & SASS on a Personal Website**   \n",
    "**Summary:** In Sprint 1, our focus was on frontend design, with an emphasis on learning SASS (Syntactically Awesome Style Sheets) and creating custom web pages. This served as my introduction to styling websites with SASS variables, mixins, and nested rules.  \n",
    "\n",
    "**Key Learnings:**  \n",
    "- **CSS Organization with SASS:** I learned how to use SASS to make my CSS more modular and readable by breaking styles into smaller components. This aligns with College Board web development standards.  \n",
    "- **Design Principles:** Building my own web pages allowed me to apply design fundamentals, such as consistent layout, color schemes, and typography.  \n",
    "\n",
    "**Improvements:**  \n",
    "- **Streamlined Code Structure:** I learned how to write organized, reusable CSS. Utilizing SASS features like mixins helped eliminate repetitive code, making my stylesheets simpler to update and manage.  \n",
    "\n",
    "**Challenges:**  \n",
    "- **Learning Curve with SASS Syntax:** I had some difficulty working with creating Javascript games and embedding the functions in the HTML of the page, but overcame it through trial and error and taking inspiration from the Nighthawk Coders code. Working with Javascript for basic loops and coding also aligns with College Board standards (ex. [my Javascript calculator](https://blackstar3092.github.io/risha_guha_2025_1/javascript/project/calculator)).  \n",
    "\n",
    "---  \n",
    "#### 📚 **Sprint 2: Teaching Big Idea 3 with Python & JavaScript**   \n",
    "\n",
    "**Summary:** In Sprint 2, I developed a lesson plan focused on programming fundamentals, such as variables, loops, and conditionals, based on Big Idea 3. I also delivered a “Tech Talk” and organized popcorn and homework hacks to actively engage students.  \n",
    "\n",
    "**Key Learnings:**  \n",
    "- **Cross-Language Fundamentals:** Using both Python and JavaScript highlighted how programming concepts carry over between languages, which deepened my understanding of each one. Our [lesson](https://nighthawkcoders.github.io/portfolio_2025/csp/big-idea/p4/3-7-1) also aligns with College Board frameworks for conditionals and nested conditionals.  \n",
    "- **Lesson Planning and Grading:** Creating a lesson focused on hands-on activities helped me learn how to break down complex topics and keep students engaged. I also gained experience in designing a fair grading system that provides consistent and useful feedback for students.  \n",
    "\n",
    "**Improvements:**  \n",
    "- **Communication Skills:** I improved my technical communication skills because I was able to engage students while still providing enough information for the College Board exam.  \n",
    "- **Confidence in Leading Activities:** Running our Kahoot and popcorn hacks enabled me to guide others through coding challenges. By the end, I felt much more comfortable leading tech-related activities.  \n",
    "\n",
    "**Challenges:**  \n",
    "- **Balancing Tech Talk & Activities:** Keeping the Tech Talk under five minutes while including sufficient background information was challenging. I had to revise my material several times to achieve a balance between being clear and concise. I also had to apply these skills to my two-minute overall Sprint 2 speech. I also had challenges creating my NPC game for Sprint 2, but I overcame those challenges through diligent research to create the final project linked [here](https://blackstar3092.github.io/risha_guha_2025_1/javascript/project/npc-game).  \n",
    "\n",
    "---  \n",
    "#### 💻 **Sprint 3: Social Media Page with Frontend and Backend Integration**   \n",
    "\n",
    "**Summary:** In Sprint 3, we created a social media page that captures and saves user-uploaded posts in a backend database linked to the frontend. This required integrating frontend and backend elements to create an interactive web experience. Link to page: [Dnero Store](https://nighthawkcoders.github.io/flocker_frontend/voteforthegoat/dnerostore/)  \n",
    "\n",
    "**Key Learnings:**  \n",
    "- **Backend Integration & Database Management:** I learned the basics of configuring a backend, collecting user data, and saving it in a database. Understanding how the frontend communicates with the backend to update and fetch data was a crucial skill.  \n",
    "- **Full-Stack Development:** This sprint introduced me to full-stack development. I saw firsthand how frontend design and backend logic work together to provide a seamless user experience.  \n",
    "\n",
    "**Improvements:**  \n",
    "- **Database Skills:** Working with databases improved my skills in data structuring and retrieval. I now feel more confident using CRUD (Create, Read, Update, Delete) operations to manage data. Our work with the Flask backend also aligns with College Board standards for backend development.  \n",
    "- **Debugging Across Systems:** I got better at debugging by identifying issues in both the frontend and backend, which involved inspecting network requests, database entries, and frontend visuals.  \n",
    "\n",
    "**Challenges:**  \n",
    "- **Connecting Frontend and Backend Components:** Integrating the backend with the frontend required troubleshooting various connectivity issues. Resolving these helped me become more resilient in problem-solving. Working with Mr. Mortensen to fix the issues we were facing taught me many skills in debugging and general programming.  \n",
    "\n",
    "---  \n",
    "#### 🌟 **Overall Reflection**   \n",
    "\n",
    "These three sprints greatly enhanced my web development and programming abilities. I learned to apply theoretical knowledge in real-world scenarios and built confidence in both frontend and backend development. Furthermore, I developed important soft skills, including teaching, explaining technical ideas, and effectively managing time for project tasks.  \n"
   ]
  }
 ],
 "metadata": {
  "language_info": {
   "name": "python"
  }
 },
 "nbformat": 4,
 "nbformat_minor": 2
}
