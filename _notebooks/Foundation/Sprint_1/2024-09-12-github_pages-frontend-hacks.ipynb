{
 "cells": [
  {
   "cell_type": "raw",
   "metadata": {
    "vscode": {
     "languageId": "raw"
    }
   },
   "source": [
    "---\n",
    "layout: post\n",
    "title: Frontend Hacks\n",
    "description: Data Types, DOM, JavaScript, Input, Output, and Debugging Hacks\n",
    "categories: [Javascript]\n",
    "permalink: /sprint/1/frontend-hacks\n",
    "type: ccc\n",
    "author: Risha Guha\n",
    "menu: nav/sprint_1.html\n",
    "---"
   ]
  },
  {
   "cell_type": "markdown",
   "metadata": {},
   "source": [
    "\n",
    "# Hacks Below\n",
    "\n",
    "- HTML(see index.md)\n",
    "- Data Types\n",
    "- DOM\n",
    "- JavaScript\n",
    "- Input\n",
    "- Output\n",
    "- Debugging"
   ]
  },
  {
   "cell_type": "markdown",
   "metadata": {},
   "source": [
    "## Data Types Hacks"
   ]
  },
  {
   "cell_type": "code",
   "execution_count": 21,
   "metadata": {
    "vscode": {
     "languageId": "javascript"
    }
   },
   "outputs": [
    {
     "data": {
      "application/javascript": "\nconsole.log(\"Object: assigning key-value objects\");\nvar obj_risha = {\n    name: \"Risha\",\n    age: 15,\n    grade: 10,\n    classes: [\"AP Chemistry\", \"AP World History\", \"Honors Principles of Engineering\", \"AP Computer Science Principles\", \"AP Calculus BC\"],\n    interests: [\"Cybersecurity\", \"piano\", \"biking\"],\n    color_fav: [\"green\"],\n    food_fav: [\"pasta\"]\n};\n\n\n// print obj to the console\nconsole.log(obj_risha);\n\n// Changing favorite color from green to blue\nconsole.log(\"Object: mutating the key color_fav from green to blue\")\nobj_risha.color_fav = \"blue\"\nconsole.log(obj_risha);\nconsole.log(obj_risha.color_fav);\n\n\n// Calculating years until graduation\nconsole.log(\"Object: calculating # of years until graduation from grade key\")\nlet yearstograduation = 12 - obj_risha.grade\nconsole.log(\"Years until I graduate:\", yearstograduation)\n\n// Determining types of field:\nconsole.log(\"Type of var grade:\", typeof obj_risha.grade)\nconsole.log(\"Type of var classes:\", typeof obj_risha.classes)\nconsole.log(\"Type of var color_fav:\", typeof obj_risha.color_fav)\nconsole.log(\"Type of var food_fav:\", typeof obj_risha.food_fav)\n",
      "text/plain": [
       "<IPython.core.display.Javascript object>"
      ]
     },
     "metadata": {},
     "output_type": "display_data"
    }
   ],
   "source": [
    "%%js\n",
    "\n",
    "console.log(\"Object: assigning key-value objects\");\n",
    "var obj_risha = {\n",
    "    name: \"Risha\",\n",
    "    age: 15,\n",
    "    grade: 10,\n",
    "    classes: [\"AP Chemistry\", \"AP World History\", \"Honors Principles of Engineering\", \"AP Computer Science Principles\", \"AP Calculus BC\"],\n",
    "    interests: [\"Cybersecurity\", \"piano\", \"biking\"],\n",
    "    color_fav: [\"green\"],\n",
    "    food_fav: [\"pasta\"]\n",
    "};\n",
    "\n",
    "\n",
    "// print obj to the console\n",
    "console.log(obj_risha);\n",
    "\n",
    "// Changing favorite color from green to blue\n",
    "console.log(\"Object: mutating the key color_fav from green to blue\")\n",
    "obj_risha.color_fav = \"blue\"\n",
    "console.log(obj_risha);\n",
    "console.log(obj_risha.color_fav);\n",
    "\n",
    "\n",
    "// Calculating years until graduation\n",
    "console.log(\"Object: calculating # of years until graduation from grade key\")\n",
    "let yearstograduation = 12 - obj_risha.grade\n",
    "console.log(\"Years until I graduate:\", yearstograduation)\n",
    "\n",
    "// Determining types of field:\n",
    "console.log(\"Type of var grade:\", typeof obj_risha.grade)\n",
    "console.log(\"Type of var classes:\", typeof obj_risha.classes)\n",
    "console.log(\"Type of var color_fav:\", typeof obj_risha.color_fav)\n",
    "console.log(\"Type of var food_fav:\", typeof obj_risha.food_fav)\n"
   ]
  },
  {
   "cell_type": "markdown",
   "metadata": {},
   "source": [
    "### DOM Hacks"
   ]
  },
  {
   "cell_type": "code",
   "execution_count": 1,
   "metadata": {
    "vscode": {
     "languageId": "html"
    }
   },
   "outputs": [
    {
     "data": {
      "text/html": [
       "\n",
       "<div style=\"background-color: #05034b;\"></div>\n",
       "<a id=\"aboutLink\" href=\"about/\">\n",
       "    <button class=\"block\"><b>About Page</b></button>\n",
       "</a>\n",
       "<p></p>\n",
       "<a id=\"toolsLink\" href=\"tools/\">\n",
       "    <button class=\"block\"><b>Tools Page</b></button>\n",
       "</a>\n",
       "<p></p>\n",
       "<p style=\"color: white;\"> Use the buttons above to navigate to important pages on this site. </p>\n",
       "<p style=\"color: white;\" id=\"switchedParagraph\"> Not Switched Yet!</p>\n",
       "</div>\n",
       "\n",
       "<script>\n",
       "const aboutLink = document.getElementById(\"aboutLink\");\n",
       "const toolsLink = document.getElementById(\"toolsLink\");\n",
       "const switchedText = document.getElementById(\"switchedParagraph\");\n",
       "const switchButton = document.getElementById(\"switchLinks\"); // Get the new button\n",
       "\n",
       "const switchLinks = () => {\n",
       "    const aboutHref = aboutLink.href;\n",
       "    const toolsHref = toolsLink.href;\n",
       "\n",
       "    aboutLink.href = toolsHref;\n",
       "    toolsLink.href = aboutHref;\n",
       "\n",
       "    switchedText.textContent = \"Switched!\";\n",
       "};\n",
       "\n",
       "// Add event listeners to the buttons\n",
       "aboutLink.addEventListener(\"click\", switchLinks);\n",
       "toolsLink.addEventListener(\"click\", switchLinks);\n",
       "switchButton.addEventListener(\"click\", switchLinks); // Add event listener to the new button\n",
       "</script>\n",
       "\n",
       "<a>\n",
       "    <button class=\"block\" id=\"switchLinks\"><b>Switch!</b></button>\n",
       "</a>\n"
      ],
      "text/plain": [
       "<IPython.core.display.HTML object>"
      ]
     },
     "metadata": {},
     "output_type": "display_data"
    }
   ],
   "source": [
    "%%html\n",
    "\n",
    "<div style=\"background-color: #05034b;\">\n",
    "    <a id=\"aboutLink\" href=\"/risha_guha_2025_1/about/\">\n",
    "        <button class=\"block\"><b>About Page</b></button>\n",
    "    </a>\n",
    "    <p></p>\n",
    "    <a id=\"indexLink\" href=\"/risha_guha_2025_1/\">\n",
    "        <button class=\"block\"><b>Index Page</b></button>\n",
    "    </a>\n",
    "    <p></p>\n",
    "    <p style=\"color: white;\">Use the buttons above to navigate to important pages on this site.</p>\n",
    "    <p style=\"color: white;\" id=\"switchedParagraph\">Not Switched Yet!</p>\n",
    "    \n",
    "    <!-- Switch button placed outside the links -->\n",
    "    <button class=\"block\" id=\"switchLinks\"><b>Switch!</b></button>\n",
    "</div>\n",
    "\n",
    "<script>\n",
    "    const aboutLink = document.getElementById(\"aboutLink\");\n",
    "    const indexLink = document.getElementById(\"indexLink\");\n",
    "    const switchedText = document.getElementById(\"switchedParagraph\");\n",
    "    const switchButton = document.getElementById(\"switchLinks\");\n",
    "\n",
    "    const switchLinks = () => {\n",
    "        // Swap the hrefs of the links\n",
    "        const aboutHref = aboutLink.href;\n",
    "        const indexHref = indexLink.href;\n",
    "\n",
    "        aboutLink.href = indexHref;\n",
    "        indexLink.href = aboutHref;\n",
    "\n",
    "        // Change the text of the paragraph\n",
    "        switchedText.textContent = \"Switched!\";\n",
    "    };\n",
    "\n",
    "    // Add an event listener to the \"Switch!\" button\n",
    "    switchButton.addEventListener(\"click\", switchLinks);\n",
    "</script>"
   ]
  },
  {
   "cell_type": "markdown",
   "metadata": {},
   "source": [
    "## A copy of this code is on the **tools.md page** to run."
   ]
  },
  {
   "cell_type": "markdown",
   "metadata": {},
   "source": [
    "## JavaScript Hacks"
   ]
  },
  {
   "cell_type": "code",
   "execution_count": 33,
   "metadata": {
    "vscode": {
     "languageId": "javascript"
    }
   },
   "outputs": [
    {
     "data": {
      "application/javascript": "\nlet a = 2343;\nlet b = 393821;\n\nif (a > b) {\n  console.log(\"a is greater\");\n} else if (b > a) {\n  console.log(\"b is greater\");\n} else {\n  console.log(\"both are equal\");\n}\n\n// Perform arithmetic operations\nlet x = 10;\nlet y = 5;\n\nlet addition = x + y;\nlet subtraction = x - y;\nlet multiplication = x * y;\nlet division = x / y;\n\nconsole.log(\"Addition:\", addition);\nconsole.log(\"Subtraction:\", subtraction);\nconsole.log(\"Multiplication:\", multiplication);\nconsole.log(\"Division:\", division);   \n",
      "text/plain": [
       "<IPython.core.display.Javascript object>"
      ]
     },
     "metadata": {},
     "output_type": "display_data"
    }
   ],
   "source": [
    "%%js\n",
    "\n",
    "let a = 2343;\n",
    "let b = 393821;\n",
    "\n",
    "if (a > b) {\n",
    "  console.log(\"a is greater\");\n",
    "} else if (b > a) {\n",
    "  console.log(\"b is greater\");\n",
    "} else {\n",
    "  console.log(\"both are equal\");\n",
    "}\n",
    "\n",
    "// Perform arithmetic operations\n",
    "let x = 10;\n",
    "let y = 5;\n",
    "\n",
    "let addition = x + y;\n",
    "let subtraction = x - y;\n",
    "let multiplication = x * y;\n",
    "let division = x / y;\n",
    "\n",
    "console.log(\"Addition:\", addition);\n",
    "console.log(\"Subtraction:\", subtraction);\n",
    "console.log(\"Multiplication:\", multiplication);\n",
    "console.log(\"Division:\", division);   "
   ]
  },
  {
   "cell_type": "markdown",
   "metadata": {},
   "source": [
    "## Input Hacks"
   ]
  },
  {
   "cell_type": "code",
   "execution_count": 39,
   "metadata": {
    "vscode": {
     "languageId": "html"
    }
   },
   "outputs": [
    {
     "data": {
      "text/html": [
       "\n",
       "<!-- Help Message -->\n",
       "<h3>Input scores, press tab to add each new number.</h3>\n",
       "<!-- Totals -->\n",
       "<ul>\n",
       "<li>\n",
       "    Total : <span id=\"total\">0.0</span>\n",
       "    Count : <span id=\"count\">0.0</span>\n",
       "    Average : <span id=\"average\">0.0</span>\n",
       "    Grade: <span id=\"Grade\">N/A</span>\n",
       "</li>\n",
       "</ul>\n",
       "<!-- Rows added using scores ID -->\n",
       "<div id=\"scores\">\n",
       "    <!-- javascript generated inputs -->\n",
       "</div>\n",
       "\n",
       "<script>\n",
       "// Executes on input event and calculates totals\n",
       "function calculator(event) {\n",
       "    var key = event.key;\n",
       "    // Check if the pressed key is the \"Tab\" key (key code 9) or \"Enter\" key (key code 13)\n",
       "    if (key === \"Tab\" || key === \"Enter\") { \n",
       "        event.preventDefault(); // Prevent default behavior (tabbing to the next element)\n",
       "   \n",
       "        var array = document.getElementsByName('score'); // setup array of scores\n",
       "        var total = 0;  // running total\n",
       "        var count = 0;  // count of input elements with valid values\n",
       "\n",
       "        for (var i = 0; i < array.length; i++) {  // iterate through array\n",
       "            var value = array[i].value;\n",
       "            if (parseFloat(value)) {\n",
       "                var parsedValue = parseFloat(value);\n",
       "                total += parsedValue;  // add to running total\n",
       "                count++;\n",
       "            }\n",
       "        }\n",
       "\n",
       "        // update totals\n",
       "        document.getElementById('total').innerHTML = total.toFixed(2); // show two decimals\n",
       "        document.getElementById('count').innerHTML = count;\n",
       "\n",
       "        if (count > 0) {\n",
       "            document.getElementById('average').innerHTML = (total / count).toFixed(2);\n",
       "\n",
       "            var average = parseFloat(document.getElementById('average').innerHTML);\n",
       "            var grade = \"\";\n",
       "            if (average >= 90) {\n",
       "                grade = \"A\";\n",
       "            } else if (average >= 80) {\n",
       "                grade = \"B\";\n",
       "            } else if (average >= 70) {\n",
       "                grade = \"C\";\n",
       "            } else if (average >= 60) {\n",
       "                grade = \"D\";\n",
       "            } else {\n",
       "                grade = \"F\";\n",
       "            }\n",
       "            document.getElementById('Grade').innerHTML  \n",
       " = grade;\n",
       "      } else {\n",
       "        document.getElementById('average').innerHTML = \"0.0\";\n",
       "        document.getElementById('Grade').innerHTML = \"N/A\";\n",
       "      }\n",
       "        } else {\n",
       "            document.getElementById('average').innerHTML = \"0.0\";\n",
       "        }\n",
       "\n",
       "        // adds newInputLine, only if all array values satisfy parseFloat \n",
       "        if (count === document.getElementsByName('score').length) {\n",
       "            newInputLine(count); // make a new input line\n",
       "        }\n",
       "    }\n",
       "\n",
       "// Creates a new input box\n",
       "function newInputLine(index) {\n",
       "\n",
       "    // Add a label for each score element\n",
       "    var title = document.createElement('label');\n",
       "    title.htmlFor = index;\n",
       "    title.innerHTML = index + \". \";    \n",
       "    document.getElementById(\"scores\").appendChild(title); // add to HTML\n",
       "\n",
       "    // Setup score element and attributes\n",
       "    var score = document.createElement(\"input\"); // input element\n",
       "    score.id =  index;  // id of input element\n",
       "    score.onkeydown = calculator // Each key triggers event (using function as a value)\n",
       "    score.type = \"number\"; // Use text type to allow typing multiple characters\n",
       "    score.name = \"score\";  // name is used to group all \"score\" elements (array)\n",
       "    score.style.textAlign = \"right\";\n",
       "    score.style.width = \"5em\";\n",
       "    document.getElementById(\"scores\").appendChild(score);  // add to HTML\n",
       "\n",
       "    // Create and add blank line after input box\n",
       "    var br = document.createElement(\"br\");  // line break element\n",
       "    document.getElementById(\"scores\").appendChild(br); // add to HTML\n",
       "\n",
       "    // Set focus on the new input line\n",
       "    document.getElementById(index).focus();\n",
       "}\n",
       "\n",
       "// Creates 1st input box on Window load\n",
       "newInputLine(0);\n",
       "\n",
       "</script>\n"
      ],
      "text/plain": [
       "<IPython.core.display.HTML object>"
      ]
     },
     "metadata": {},
     "output_type": "display_data"
    }
   ],
   "source": [
    "%%html\n",
    "\n",
    "<!-- Help Message -->\n",
    "<h3>Input scores, press tab to add each new number.</h3>\n",
    "<!-- Totals -->\n",
    "<ul>\n",
    "<li>\n",
    "    Total : <span id=\"total\">0.0</span>\n",
    "    Count : <span id=\"count\">0.0</span>\n",
    "    Average : <span id=\"average\">0.0</span>\n",
    "    Grade: <span id=\"Grade\">N/A</span>\n",
    "</li>\n",
    "</ul>\n",
    "<!-- Rows added using scores ID -->\n",
    "<div id=\"scores\">\n",
    "    <!-- javascript generated inputs -->\n",
    "</div>\n",
    "\n",
    "<script>\n",
    "// Executes on input event and calculates totals\n",
    "function calculator(event) {\n",
    "    var key = event.key;\n",
    "    // Check if the pressed key is the \"Tab\" key (key code 9) or \"Enter\" key (key code 13)\n",
    "    if (key === \"Tab\" || key === \"Enter\") { \n",
    "        event.preventDefault(); // Prevent default behavior (tabbing to the next element)\n",
    "   \n",
    "        var array = document.getElementsByName('score'); // setup array of scores\n",
    "        var total = 0;  // running total\n",
    "        var count = 0;  // count of input elements with valid values\n",
    "\n",
    "        for (var i = 0; i < array.length; i++) {  // iterate through array\n",
    "            var value = array[i].value;\n",
    "            if (parseFloat(value)) {\n",
    "                var parsedValue = parseFloat(value);\n",
    "                total += parsedValue;  // add to running total\n",
    "                count++;\n",
    "            }\n",
    "        }\n",
    "\n",
    "        // update totals\n",
    "        document.getElementById('total').innerHTML = total.toFixed(2); // show two decimals\n",
    "        document.getElementById('count').innerHTML = count;\n",
    "\n",
    "        if (count > 0) {\n",
    "            document.getElementById('average').innerHTML = (total / count).toFixed(2);\n",
    "\n",
    "            var average = parseFloat(document.getElementById('average').innerHTML);\n",
    "            var grade = \"\";\n",
    "            if (average >= 90) {\n",
    "                grade = \"A\";\n",
    "            } else if (average >= 80) {\n",
    "                grade = \"B\";\n",
    "            } else if (average >= 70) {\n",
    "                grade = \"C\";\n",
    "            } else if (average >= 60) {\n",
    "                grade = \"D\";\n",
    "            } else {\n",
    "                grade = \"F\";\n",
    "            }\n",
    "            document.getElementById('Grade').innerHTML  \n",
    " = grade;\n",
    "      } else {\n",
    "        document.getElementById('average').innerHTML = \"0.0\";\n",
    "        document.getElementById('Grade').innerHTML = \"N/A\";\n",
    "      }\n",
    "        } else {\n",
    "            document.getElementById('average').innerHTML = \"0.0\";\n",
    "        }\n",
    "\n",
    "        // adds newInputLine, only if all array values satisfy parseFloat \n",
    "        if (count === document.getElementsByName('score').length) {\n",
    "            newInputLine(count); // make a new input line\n",
    "        }\n",
    "    }\n",
    "\n",
    "// Creates a new input box\n",
    "function newInputLine(index) {\n",
    "\n",
    "    // Add a label for each score element\n",
    "    var title = document.createElement('label');\n",
    "    title.htmlFor = index;\n",
    "    title.innerHTML = index + \". \";    \n",
    "    document.getElementById(\"scores\").appendChild(title); // add to HTML\n",
    "\n",
    "    // Setup score element and attributes\n",
    "    var score = document.createElement(\"input\"); // input element\n",
    "    score.id =  index;  // id of input element\n",
    "    score.onkeydown = calculator // Each key triggers event (using function as a value)\n",
    "    score.type = \"number\"; // Use text type to allow typing multiple characters\n",
    "    score.name = \"score\";  // name is used to group all \"score\" elements (array)\n",
    "    score.style.textAlign = \"right\";\n",
    "    score.style.width = \"5em\";\n",
    "    document.getElementById(\"scores\").appendChild(score);  // add to HTML\n",
    "\n",
    "    // Create and add blank line after input box\n",
    "    var br = document.createElement(\"br\");  // line break element\n",
    "    document.getElementById(\"scores\").appendChild(br); // add to HTML\n",
    "\n",
    "    // Set focus on the new input line\n",
    "    document.getElementById(index).focus();\n",
    "}\n",
    "\n",
    "// Creates 1st input box on Window load\n",
    "newInputLine(0);\n",
    "\n",
    "</script>\n"
   ]
  },
  {
   "cell_type": "markdown",
   "metadata": {},
   "source": [
    "## Output Hacks"
   ]
  },
  {
   "cell_type": "code",
   "execution_count": 7,
   "metadata": {
    "vscode": {
     "languageId": "javascript"
    }
   },
   "outputs": [
    {
     "data": {
      "application/javascript": "\nconsole.log(\"Classroom object\");\n\n/* class: Person\n * Description: A collection of Person data\n*/\nclass Person {\n  /* method: constructor\n   * parameters: name, ghID - GitHub ID, classOf - Graduation Class \n   * description: returns object when \"new Person()\" is called with matching parameters\n   * assignment: this.name, this.ghID, ... are properties retained in the returned object\n   * default: this.role is a default property retained in object, it is set to \"Student\"\n  */\n  constructor(name, ghID, classOf, role=\"Student\") {\n    this.name = name;\n    this.ghID = ghID;\n    this.classOf = classOf;\n    this.role = role;\n  }\n\n  /* method: setter\n   * parameters: role - role in classroom\n   * description: this.role is updated from default value to value contained in role parameter\n  */\n  setRole(role) {\n    this.role = role;\n  }\n  \n  /* method: getter\n   * description: turns properties of object into JSON object\n   * return value: JSON object\n  */\n  getJSON() {\n    const obj = {type: typeof this, name: this.name, ghID: this.ghID, classOf: this.classOf, role: this.role};\n    const json = JSON.stringify(obj);\n    return json;\n  }\n\n  /* method: logIT\n   * description: this Person object is logged to console\n  */\n  logIt() {\n    //Person Object\n    console.info(this);\n    // HTML output tag\n    document.getElementById(\"output\").textContent = this.getJSON();\n\n    //Log to Jupter\n    element.append(\"Person json <br>\");\n    element.append(this.getJSON() + \"<br>\"); \n\n    //alert(this.getJSON());\n  }\n    \n}\n\n/* class: Classroom\n * Description: A collection of Person objects\n*/\nclass Classroom {\n  /* method: constructor\n   * parameters: teacher - a Person object, students - an array of Person objects\n   * description: returns object when \"new Classroom()\" is called containing properties and methods of a Classroom\n   * assignment: this.classroom, this.teacher, ... are properties retained in the returned object\n  */\n  constructor(teacher, students) {\n    /* spread: this.classroom contains Teacher object and all Student objects\n     * map: this.json contains of map of all persons to JSON\n    */\n    this.teacher = teacher;\n    this.students = students;\n    this.classroom = [teacher, ...students]; // ... spread option\n    this.json = '{\"classroom\":[' + this.classroom.map(person => person.getJSON()) + ']}';\n  }\n\n  /* method: logIT\n   * description: this Classroom object is logged to console\n  */\n  logIt() {\n    //Classroom object\n    console.log(this);\n\n    // HTML output\n    document.getElementById(\"data\").textContent = this.json;\n    document.getElementById(\"output\").textContent = this.json;\n\n    //Classroom json\n    element.append(\"Classroom object in JSON: \");\n    element.append(this.json);\n\n    //alert(this.json);\n  }\n}\n\n/* function: constructCompSciClassroom\n * Description: Create data for Classroom and Person objects\n * Returns: A Classroom Object\n*/\nfunction constructCompSciClassroom() {\n    // define a Teacher object\n    const teacher = new Person(\"Mr M\", \"jm1021\", 1977, \"Teacher\");  // optional 4th parameter\n\n    // define a student Array of Person objects\n    const students = [ \n        new Person(\"Risha\", \"blackstar3092\", 2027),\n        new Person(\"Vibha\", \"vibha1019\", 2027),\n        new Person(\"Ava\", \"ava-dn\", 2025),\n    ];\n\n    // make a CompSci classroom from formerly defined teacher and student objects\n    return new Classroom(teacher, students);  // returns object\n}\n\n// assigns compsci to the object returned by \"constructCompSciClassroom()\" function\nconst compsci = constructCompSciClassroom();\n// output of Objects and JSON in CompSci classroom\ncompsci.logIt();\n\n\nconsole.log(\"Classroom Web Page\");\n\n// extract JSON text from output element in HTML page\nconst jsonText = document.getElementById(\"data\").innerHTML;\n\n// convert JSON text to a JavaScript Object to process\nconst classroom = JSON.parse(jsonText).classroom;\nconsole.log(classroom);\n\n// make an HTML Out format for pretty display\n/* Template literals (`), can make HTML generation more concise;\n * the map functions generates row strings and the join method combines them;\n * this replaces longer and ugly for loop and string concatenation.\n*/\nconst htmlOut = `\n    <table>\n        <thead>\n            <tr>\n                <th>Name</th>\n                <th>GitHub ID</th>\n                <th>Class Of</th>\n                <th>Role</th>\n            </tr>\n        </thead>\n        <tbody>\n            ${classroom.map(row => `\n                <tr>\n                    <td>${row.name}</td>\n                    <td>${row.ghID}</td>\n                    <td>${row.classOf}</td>\n                    <td>${row.role}</td>\n                </tr>\n            `).join('')}\n        </tbody>\n    </table>\n`;\n\n// assign/set htmlOut to output element in HTML page\ndocument.getElementById(\"output\").innerHTML = htmlOut;\n\n// show raw HTML\nconsole.log(htmlOut);\nelement.append(htmlOut);\n",
      "text/plain": [
       "<IPython.core.display.Javascript object>"
      ]
     },
     "metadata": {},
     "output_type": "display_data"
    }
   ],
   "source": [
    "%%js\n",
    "\n",
    "console.log(\"Classroom object\");\n",
    "\n",
    "/* class: Person\n",
    " * Description: A collection of Person data\n",
    "*/\n",
    "class Person {\n",
    "  /* method: constructor\n",
    "   * parameters: name, ghID - GitHub ID, classOf - Graduation Class \n",
    "   * description: returns object when \"new Person()\" is called with matching parameters\n",
    "   * assignment: this.name, this.ghID, ... are properties retained in the returned object\n",
    "   * default: this.role is a default property retained in object, it is set to \"Student\"\n",
    "  */\n",
    "  constructor(name, ghID, classOf, role=\"Student\") {\n",
    "    this.name = name;\n",
    "    this.ghID = ghID;\n",
    "    this.classOf = classOf;\n",
    "    this.role = role;\n",
    "  }\n",
    "\n",
    "  /* method: setter\n",
    "   * parameters: role - role in classroom\n",
    "   * description: this.role is updated from default value to value contained in role parameter\n",
    "  */\n",
    "  setRole(role) {\n",
    "    this.role = role;\n",
    "  }\n",
    "  \n",
    "  /* method: getter\n",
    "   * description: turns properties of object into JSON object\n",
    "   * return value: JSON object\n",
    "  */\n",
    "  getJSON() {\n",
    "    const obj = {type: typeof this, name: this.name, ghID: this.ghID, classOf: this.classOf, role: this.role};\n",
    "    const json = JSON.stringify(obj);\n",
    "    return json;\n",
    "  }\n",
    "\n",
    "  /* method: logIT\n",
    "   * description: this Person object is logged to console\n",
    "  */\n",
    "  logIt() {\n",
    "    //Person Object\n",
    "    console.info(this);\n",
    "    // HTML output tag\n",
    "    document.getElementById(\"output\").textContent = this.getJSON();\n",
    "\n",
    "    //Log to Jupter\n",
    "    element.append(\"Person json <br>\");\n",
    "    element.append(this.getJSON() + \"<br>\"); \n",
    "\n",
    "    //alert(this.getJSON());\n",
    "  }\n",
    "    \n",
    "}\n",
    "\n",
    "/* class: Classroom\n",
    " * Description: A collection of Person objects\n",
    "*/\n",
    "class Classroom {\n",
    "  /* method: constructor\n",
    "   * parameters: teacher - a Person object, students - an array of Person objects\n",
    "   * description: returns object when \"new Classroom()\" is called containing properties and methods of a Classroom\n",
    "   * assignment: this.classroom, this.teacher, ... are properties retained in the returned object\n",
    "  */\n",
    "  constructor(teacher, students) {\n",
    "    /* spread: this.classroom contains Teacher object and all Student objects\n",
    "     * map: this.json contains of map of all persons to JSON\n",
    "    */\n",
    "    this.teacher = teacher;\n",
    "    this.students = students;\n",
    "    this.classroom = [teacher, ...students]; // ... spread option\n",
    "    this.json = '{\"classroom\":[' + this.classroom.map(person => person.getJSON()) + ']}';\n",
    "  }\n",
    "\n",
    "  /* method: logIT\n",
    "   * description: this Classroom object is logged to console\n",
    "  */\n",
    "  logIt() {\n",
    "    //Classroom object\n",
    "    console.log(this);\n",
    "\n",
    "    // HTML output\n",
    "    document.getElementById(\"data\").textContent = this.json;\n",
    "    document.getElementById(\"output\").textContent = this.json;\n",
    "\n",
    "    //Classroom json\n",
    "    element.append(\"Classroom object in JSON: \");\n",
    "    element.append(this.json);\n",
    "\n",
    "    //alert(this.json);\n",
    "  }\n",
    "}\n",
    "\n",
    "/* function: constructCompSciClassroom\n",
    " * Description: Create data for Classroom and Person objects\n",
    " * Returns: A Classroom Object\n",
    "*/\n",
    "function constructCompSciClassroom() {\n",
    "    // define a Teacher object\n",
    "    const teacher = new Person(\"Mr M\", \"jm1021\", 1977, \"Teacher\");  // optional 4th parameter\n",
    "\n",
    "    // define a student Array of Person objects\n",
    "    const students = [ \n",
    "        new Person(\"Risha\", \"blackstar3092\", 2027),\n",
    "        new Person(\"Vibha\", \"vibha1019\", 2027),\n",
    "        new Person(\"Ava\", \"ava-dn\", 2025),\n",
    "    ];\n",
    "\n",
    "    // make a CompSci classroom from formerly defined teacher and student objects\n",
    "    return new Classroom(teacher, students);  // returns object\n",
    "}\n",
    "\n",
    "// assigns compsci to the object returned by \"constructCompSciClassroom()\" function\n",
    "const compsci = constructCompSciClassroom();\n",
    "// output of Objects and JSON in CompSci classroom\n",
    "compsci.logIt();\n",
    "\n",
    "\n",
    "console.log(\"Classroom Web Page\");\n",
    "\n",
    "// extract JSON text from output element in HTML page\n",
    "const jsonText = document.getElementById(\"data\").innerHTML;\n",
    "\n",
    "// convert JSON text to a JavaScript Object to process\n",
    "const classroom = JSON.parse(jsonText).classroom;\n",
    "console.log(classroom);\n",
    "\n",
    "// make an HTML Out format for pretty display\n",
    "/* Template literals (`), can make HTML generation more concise;\n",
    " * the map functions generates row strings and the join method combines them;\n",
    " * this replaces longer and ugly for loop and string concatenation.\n",
    "*/\n",
    "const htmlOut = `\n",
    "    <table>\n",
    "        <thead>\n",
    "            <tr>\n",
    "                <th>Name</th>\n",
    "                <th>GitHub ID</th>\n",
    "                <th>Class Of</th>\n",
    "                <th>Role</th>\n",
    "            </tr>\n",
    "        </thead>\n",
    "        <tbody>\n",
    "            ${classroom.map(row => `\n",
    "                <tr>\n",
    "                    <td>${row.name}</td>\n",
    "                    <td>${row.ghID}</td>\n",
    "                    <td>${row.classOf}</td>\n",
    "                    <td>${row.role}</td>\n",
    "                </tr>\n",
    "            `).join('')}\n",
    "        </tbody>\n",
    "    </table>\n",
    "`;\n",
    "\n",
    "// assign/set htmlOut to output element in HTML page\n",
    "document.getElementById(\"output\").innerHTML = htmlOut;\n",
    "\n",
    "// show raw HTML\n",
    "console.log(htmlOut);\n",
    "element.append(htmlOut);"
   ]
  },
  {
   "cell_type": "markdown",
   "metadata": {},
   "source": [
    "<code>console.log()<code> helps users find errors in code by allowing you to inspect values, the flow of the code, and track down potential issues. It helps inspect variable issues, check code flow, debug function outputs, identify undefined or null values, catch errors in loops or conditional statements, and check the state of objects or arrays. "
   ]
  },
  {
   "cell_type": "markdown",
   "metadata": {},
   "source": [
    "## Debugging Hacks"
   ]
  },
  {
   "cell_type": "code",
   "execution_count": 5,
   "metadata": {
    "vscode": {
     "languageId": "javascript"
    }
   },
   "outputs": [
    {
     "data": {
      "application/javascript": "\nvar alphabet = \"abcdefghijklmnopqrstuvwxyz\";\nvar alphabetList = [];\n\nfor (var i = 0; i < 10; i++) {\n\talphabetList.push(alphabet[i]);\n}\n\nconsole.log(alphabetList);\n",
      "text/plain": [
       "<IPython.core.display.Javascript object>"
      ]
     },
     "metadata": {},
     "output_type": "display_data"
    }
   ],
   "source": [
    "%%js\n",
    "\n",
    "var alphabet = \"abcdefghijklmnopqrstuvwxyz\";\n",
    "var alphabetList = [];\n",
    "\n",
    "for (var i = 0; i < 10; i++) {\n",
    "\talphabetList.push(alphabet[i]);\n",
    "}\n",
    "\n",
    "console.log(alphabetList);"
   ]
  },
  {
   "cell_type": "markdown",
   "metadata": {},
   "source": [
    "What I changed: I changed \n",
    "\n",
    "```alphabetList.push(i);``` to ```alphabetList.push(alphabet[i]);```\n",
    "\n",
    "This allows me to actually call the alphabet variable when listing the first 10 letters; previously, it was only outputing the variable ``i``. "
   ]
  },
  {
   "cell_type": "code",
   "execution_count": 4,
   "metadata": {
    "vscode": {
     "languageId": "javascript"
    }
   },
   "outputs": [
    {
     "data": {
      "application/javascript": "\nlet letterNumber = 5\n\nfor (var i = 0; i < alphabetList.length; i++) {\n  if (i === letterNumber - 1) {\n    console.log(alphabetList[i] + \" is letter number \" + (letterNumber) + \" in the alphabet\");  \n\n  }\n}\n",
      "text/plain": [
       "<IPython.core.display.Javascript object>"
      ]
     },
     "metadata": {},
     "output_type": "display_data"
    }
   ],
   "source": [
    "%%js\n",
    "\n",
    "var alphabet = \"abcdefghijklmnopqrstuvwxyz\";\n",
    "var alphabetList = [];\n",
    "\n",
    "for (var i = 0; i < 10; i++) {\n",
    "\talphabetList.push(alphabet[i]);\n",
    "}\n",
    "\n",
    "console.log(alphabetList);\n",
    "\n",
    "//New Code Step below\n",
    "\n",
    "let letterNumber = 5\n",
    "\n",
    "for (var i = 0; i < alphabetList.length; i++) {\n",
    "  if (i === letterNumber - 1) {\n",
    "    console.log(alphabetList[i] + \" is letter number \" + (letterNumber) + \" in the alphabet\");  \n",
    "\n",
    "  }\n",
    "}"
   ]
  },
  {
   "cell_type": "markdown",
   "metadata": {},
   "source": [
    "What I changed: \n",
    "\n",
    "I changed \n",
    "\n",
    "```i === letterNumber``` to ```i === letterNumber - 1```\n",
    "\n",
    "and ```letterNumber + \" is letter number 1 in the alphabet\"``` to ```alphabetList[i] + \" is letter number \" + (letterNumber) + \" in the alphabet\"```\n",
    "\n",
    "This, once again, allows me to actually output the letter instead of just a number. Also, by subtracting a number from letterNumber, we account for the 0 number in all arrays/lists. "
   ]
  },
  {
   "cell_type": "code",
   "execution_count": 6,
   "metadata": {
    "vscode": {
     "languageId": "javascript"
    }
   },
   "outputs": [
    {
     "data": {
      "application/javascript": "\nlet odds = [];\nlet i = 1;\n\nwhile (i <= 10) {\n  odds.push(i);\n  i += 2;\n}\n\nconsole.log(odds);\n",
      "text/plain": [
       "<IPython.core.display.Javascript object>"
      ]
     },
     "metadata": {},
     "output_type": "display_data"
    }
   ],
   "source": [
    "%%js\n",
    "\n",
    "let odds = [];\n",
    "let i = 1;\n",
    "\n",
    "while (i <= 10) {\n",
    "  odds.push(i);\n",
    "  i += 2;\n",
    "}\n",
    "\n",
    "console.log(odds);"
   ]
  },
  {
   "cell_type": "markdown",
   "metadata": {},
   "source": [
    "What I changed: I changed the starting value to 1 because otherwise, adding 2 to each value will always output even numbers. I also changed the function name to odds instead of evens for consistency."
   ]
  }
 ],
 "metadata": {
  "kernelspec": {
   "display_name": "venv",
   "language": "python",
   "name": "python3"
  },
  "language_info": {
   "codemirror_mode": {
    "name": "ipython",
    "version": 3
   },
   "file_extension": ".py",
   "mimetype": "text/x-python",
   "name": "python",
   "nbconvert_exporter": "python",
   "pygments_lexer": "ipython3",
   "version": "3.12.3"
  },
  "orig_nbformat": 4
 },
 "nbformat": 4,
 "nbformat_minor": 2
}
