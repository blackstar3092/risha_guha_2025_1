{
 "cells": [
  {
   "cell_type": "raw",
   "metadata": {
    "vscode": {
     "languageId": "raw"
    }
   },
   "source": [
    "---\n",
    "layout: post\n",
    "title: Travel Guide - Italy\n",
    "description: Learn all about Italy and its delicious cuisine!\n",
    "categories: [Javascript]\n",
    "permalink: /sprint/1/italy\n",
    "type: ccc\n",
    "author: Risha Guha\n",
    "menu: nav/sprint_1.html\n",
    "---"
   ]
  },
  {
   "cell_type": "markdown",
   "metadata": {},
   "source": [
    "\n",
    "## All About Italy!\n",
    "\n",
    "Italy is a unique and awe-inspiring blend of ancient history, artistic heritage, and stunning landscapes. It has fascinating facts in all of the following categories:\n",
    "\n",
    "- Cultural History\n",
    "- Landscapes and Nature\n",
    "- Lifestyle\n",
    "- Food"
   ]
  },
  {
   "cell_type": "markdown",
   "metadata": {},
   "source": [
    "## Cultural History\n",
    "- **UNESCO World Heritage Sites:** Italy boasts the highest number of UNESCO World Heritage sites, including the Colosseum, Leaning Tower of Pisa, and historic centers of Florence, Rome, and Venice.\n",
    "- **Birthplace of the Renaissance:** The Renaissance, a pivotal period in European history, originated in Italy, with Florence as its epicenter.\n",
    "- **Vatican City:** The world's smallest independent state is located within Rome. It's the spiritual center of Catholicism.\n"
   ]
  },
  {
   "cell_type": "markdown",
   "metadata": {},
   "source": [
    "## Landscapes and Nature\n",
    "- **Amalfi Coast:** This UNESCO World Heritage site is renowned for its dramatic cliffs, picturesque towns, and stunning beaches.\n",
    "- **Cinque Terre:** Five colorful fishing villages perched on rocky cliffs, connected by hiking trails.\n",
    "- **Mount Etna:** Europe's largest active volcano, located on the island of Sicily.\n",
    "- **Italian Lakes:** The lakes of Como, Garda, and Maggiore offer serene beauty and charming towns."
   ]
  },
  {
   "cell_type": "markdown",
   "metadata": {
    "vscode": {
     "languageId": "javascript"
    }
   },
   "source": [
    "## Lifestyle\n",
    "- **Fashion Capital:** Milan is a global fashion hub, home to renowned designers and brands.\n",
    "- **Opera and Music:** Italy has a rich musical heritage, with cities like Milan and Rome being major centers for opera and classical music.\n",
    "- **Football Passion:** Football (soccer) is a national obsession, with teams like Juventus, AC Milan, and Inter Milan attracting passionate fans."
   ]
  },
  {
   "cell_type": "markdown",
   "metadata": {},
   "source": [
    "## Food\n",
    "Italy is synonymous with varied and delicious cuisines!\n",
    "\n",
    "Use the tool below to generate a random Italian dish for you to try!"
   ]
  },
  {
   "cell_type": "code",
   "execution_count": 2,
   "metadata": {
    "vscode": {
     "languageId": "javascript"
    }
   },
   "outputs": [
    {
     "data": {
      "application/javascript": "\n\nfunction getRandomItalianDish() {\n  const italianDishes = [\n    \"Pizza\",\n    \"Pasta Carbonara\",\n    \"Lasagna\",\n    \"Spaghetti Bolognese\",\n    \"Risotto\",\n    \"Tiramisu\",\n    \"Gelato\",\n    \"Parmigiana Reggiano\",\n    \"Panini\",\n    \"Ossobuco\",\n    \"Pesto\",\n    \"Caprese Salad\",\n    \"Polenta\",\n    \"Arancini\",\n    \"Cannoli\",\n    \"Panna Cotta\",\n    \"Focaccia\",\n    \"Prosciutto\",\n    \"Saltimbocca alla Romana\",\n    \"Cacciatore\",\n    \"Gnocchi\",\n    \"Suppli\",\n    \"Carpaccio\",\n    \"Scialatielli\",\n    \"Bruschetta\",\n    \"Panzanella\",\n    \"Amatriciana\",\n    \"Carbonara\",\n    \"Puttanesca\",\n    \"Arrabbiata\"\n  ];\n\n  const randomIndex = Math.floor(Math.random() * italianDishes.length);\n  return italianDishes[randomIndex];\n}\n\nconst randomDish = getRandomItalianDish();\nconsole.log(\"Your random Italian dish is: \" + randomDish);\n",
      "text/plain": [
       "<IPython.core.display.Javascript object>"
      ]
     },
     "metadata": {},
     "output_type": "display_data"
    }
   ],
   "source": [
    "%%javascript\n",
    "\n",
    "\n",
    "function getRandomItalianDish() {\n",
    "  const italianDishes = [\n",
    "    \"Pizza\",\n",
    "    \"Pasta Carbonara\",\n",
    "    \"Lasagna\",\n",
    "    \"Spaghetti Bolognese\",\n",
    "    \"Risotto\",\n",
    "    \"Tiramisu\",\n",
    "    \"Gelato\",\n",
    "    \"Parmigiana Reggiano\",\n",
    "    \"Panini\",\n",
    "    \"Ossobuco\",\n",
    "    \"Pesto\",\n",
    "    \"Caprese Salad\",\n",
    "    \"Polenta\",\n",
    "    \"Arancini\",\n",
    "    \"Cannoli\",\n",
    "    \"Panna Cotta\",\n",
    "    \"Focaccia\",\n",
    "    \"Prosciutto\",\n",
    "    \"Saltimbocca alla Romana\",\n",
    "    \"Cacciatore\",\n",
    "    \"Gnocchi\",\n",
    "    \"Suppli\",\n",
    "    \"Carpaccio\",\n",
    "    \"Scialatielli\",\n",
    "    \"Bruschetta\",\n",
    "    \"Panzanella\",\n",
    "    \"Amatriciana\",\n",
    "    \"Carbonara\",\n",
    "    \"Puttanesca\",\n",
    "    \"Arrabbiata\"\n",
    "  ];\n",
    "\n",
    "  const randomIndex = Math.floor(Math.random() * italianDishes.length);\n",
    "  return italianDishes[randomIndex];\n",
    "}\n",
    "\n",
    "const randomDish = getRandomItalianDish();\n",
    "console.log(\"Your Italian dish to try is: \" + randomDish);"
   ]
  }
 ],
 "metadata": {
  "kernelspec": {
   "display_name": "venv",
   "language": "python",
   "name": "python3"
  },
  "language_info": {
   "codemirror_mode": {
    "name": "ipython",
    "version": 3
   },
   "file_extension": ".py",
   "mimetype": "text/x-python",
   "name": "python",
   "nbconvert_exporter": "python",
   "pygments_lexer": "ipython3",
   "version": "3.12.3"
  },
  "orig_nbformat": 4
 },
 "nbformat": 4,
 "nbformat_minor": 2
}
