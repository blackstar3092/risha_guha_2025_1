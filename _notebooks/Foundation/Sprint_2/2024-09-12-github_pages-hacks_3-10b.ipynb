{
 "cells": [
  {
   "cell_type": "raw",
   "metadata": {
    "vscode": {
     "languageId": "raw"
    }
   },
   "source": [
    "---\n",
    "layout: post\n",
    "title: 3.10a Hacks\n",
    "description: Python and Javascript Popcorn and Homework Hacks for 3.10a\n",
    "categories: [Javascript]\n",
    "permalink: /sprint/2/hacks_3-10a\n",
    "type: ccc\n",
    "author: Risha Guha\n",
    "menu: nav/sprint_2.html\n",
    "---"
   ]
  },
  {
   "cell_type": "markdown",
   "metadata": {},
   "source": [
    "## Python Popcorn and Homework Hacks"
   ]
  },
  {
   "cell_type": "code",
   "execution_count": 1,
   "metadata": {},
   "outputs": [
    {
     "name": "stdout",
     "output_type": "stream",
     "text": [
      "['apple', 'banana', 'orange', 'strawberry']\n"
     ]
    }
   ],
   "source": [
    "#Popcorn Hack 1\n",
    "\n",
    "my_list = ['apple', 'banana', 'strawberry']\n",
    "\n",
    "my_list.insert(-1, 'orange')  # Inserts 'orange' at the second-to-last position\n",
    "\n",
    "# Output the updated list\n",
    "print(my_list)"
   ]
  },
  {
   "cell_type": "code",
   "execution_count": 2,
   "metadata": {},
   "outputs": [
    {
     "name": "stdout",
     "output_type": "stream",
     "text": [
      "['apple', 'banana', 'strawberry', 'orange', 'pear', 'grape']\n"
     ]
    }
   ],
   "source": [
    "# Popcorn Hack 2\n",
    "\n",
    "# First list\n",
    "list1 = ['apple', 'banana', 'strawberry']\n",
    "\n",
    "# Second list\n",
    "list2 = ['orange', 'pear', 'grape']\n",
    "\n",
    "# Combine lists using the extend() method (popcorn hack)\n",
    "list1.extend(list2)\n",
    "\n",
    "# Output the combined list\n",
    "print(list1)"
   ]
  },
  {
   "cell_type": "code",
   "execution_count": 3,
   "metadata": {},
   "outputs": [
    {
     "name": "stdout",
     "output_type": "stream",
     "text": [
      "['apple', 'banana', 'strawberry', 'orange', 'pear', 'grape']\n"
     ]
    }
   ],
   "source": [
    "# Popcorn Hack 2\n",
    "\n",
    "# First list\n",
    "list1 = ['apple', 'banana', 'strawberry']\n",
    "\n",
    "# Second list\n",
    "list2 = ['orange', 'pear', 'grape']\n",
    "\n",
    "# Combine lists using the extend() method (popcorn hack)\n",
    "list1.extend(list2)\n",
    "\n",
    "# Output the combined list\n",
    "print(list1)"
   ]
  },
  {
   "cell_type": "code",
   "execution_count": 4,
   "metadata": {},
   "outputs": [
    {
     "name": "stdout",
     "output_type": "stream",
     "text": [
      "\n",
      "Current Grocery List: ['veggies', 'milk', 'bread']\n",
      "\n",
      "Sorted Grocery List: ['bread', 'milk', 'veggies']\n",
      "\n",
      "Updated Grocery List: ['bread', 'milk']\n"
     ]
    }
   ],
   "source": [
    "# Homework Hack 1\n",
    "\n",
    "# Step 1: Create an empty list to store grocery items\n",
    "grocery_list = []\n",
    "\n",
    "# Step 2: Input three grocery items and add them to the list\n",
    "for i in range(3):\n",
    "    item = input(f\"Enter grocery item {i + 1}: \")\n",
    "    grocery_list.append(item)\n",
    "\n",
    "# Step 3: Display the current grocery list\n",
    "print(\"\\nCurrent Grocery List:\", grocery_list)\n",
    "\n",
    "# Step 4: Sort the list alphabetically and print the sorted list\n",
    "grocery_list.sort()\n",
    "print(\"\\nSorted Grocery List:\", grocery_list)\n",
    "\n",
    "# Step 5: Remove one item specified by the user\n",
    "item_to_remove = input(\"\\nEnter an item to remove from the list: \")\n",
    "if item_to_remove in grocery_list:\n",
    "    grocery_list.remove(item_to_remove)\n",
    "    print(\"\\nUpdated Grocery List:\", grocery_list)\n",
    "else:\n",
    "    print(f\"\\n'{item_to_remove}' is not in the grocery list.\")\n"
   ]
  },
  {
   "cell_type": "code",
   "execution_count": 5,
   "metadata": {},
   "outputs": [
    {
     "name": "stdout",
     "output_type": "stream",
     "text": [
      "Original List: [1, 2, 3, 4, 5, 6, 7, 8, 9, 10, 11, 12, 13, 14, 15, 16, 17, 18, 19, 20]\n",
      "Even Numbers: [2, 4, 6, 8, 10, 12, 14, 16, 18, 20]\n"
     ]
    }
   ],
   "source": [
    "# Homework Hack 2\n",
    "\n",
    "original_list = list(range(1, 21))\n",
    "\n",
    "print(\"Original List:\", original_list)\n",
    "\n",
    "even_numbers = [num for num in original_list if num % 2 == 0]\n",
    "\n",
    "print(\"Even Numbers:\", even_numbers)"
   ]
  },
  {
   "cell_type": "code",
   "execution_count": 6,
   "metadata": {},
   "outputs": [
    {
     "name": "stdout",
     "output_type": "stream",
     "text": [
      "\n",
      "List of Grades: [98, 40, 98]\n",
      "Grades above 60: [98, 98]\n"
     ]
    }
   ],
   "source": [
    "# Homework Hack 3\n",
    "\n",
    "grades = []\n",
    "\n",
    "for i in range(3):\n",
    "    while True:  # Loop until a valid integer is entered\n",
    "        try:\n",
    "            grade = int(input(f\"Enter grade {i + 1}: \"))\n",
    "            grades.append(grade)\n",
    "            break  # Exit the loop if input is valid\n",
    "        except ValueError:  # Handle invalid input\n",
    "            print(\"Please enter a valid integer.\")\n",
    "\n",
    "print(\"\\nList of Grades:\", grades)\n",
    "\n",
    "passing_grades = [grade for grade in grades if grade > 60]\n",
    "\n",
    "# Print this list\n",
    "print(\"Grades above 60:\", passing_grades)"
   ]
  },
  {
   "cell_type": "code",
   "execution_count": 7,
   "metadata": {},
   "outputs": [
    {
     "name": "stdout",
     "output_type": "stream",
     "text": [
      "Original List: [1, 2, 3, 4, 5, 6, 7, 8, 9, 10]\n",
      "Sorted in Descending Order: [10, 9, 8, 7, 6, 5, 4, 3, 2, 1]\n",
      "First Five Numbers: [10, 9, 8, 7, 6]\n",
      "Sorted in Ascending Order: [1, 2, 3, 4, 5, 6, 7, 8, 9, 10]\n"
     ]
    }
   ],
   "source": [
    "# Homework Hack 4\n",
    "\n",
    "numbers = list(range(1, 11))\n",
    "\n",
    "print(\"Original List:\", numbers)\n",
    "\n",
    "numbers.sort(reverse=True)\n",
    "print(\"Sorted in Descending Order:\", numbers)\n",
    "\n",
    "first_five = numbers[:5]\n",
    "print(\"First Five Numbers:\", first_five)\n",
    "\n",
    "numbers.sort()\n",
    "print(\"Sorted in Ascending Order:\", numbers)"
   ]
  },
  {
   "cell_type": "markdown",
   "metadata": {},
   "source": [
    "##  Javascript Popcorn and Homework Hacks"
   ]
  },
  {
   "cell_type": "code",
   "execution_count": 8,
   "metadata": {
    "vscode": {
     "languageId": "javascript"
    }
   },
   "outputs": [
    {
     "data": {
      "application/javascript": "\n/* Popcorn Hack 1 */\n\n// Create an array\nlet myArray = [1, 2, 3, 4, 5];\n\n// Reverse the array\nmyArray.reverse();\n\n// Output the reversed array\nconsole.log(myArray);\n",
      "text/plain": [
       "<IPython.core.display.Javascript object>"
      ]
     },
     "metadata": {},
     "output_type": "display_data"
    }
   ],
   "source": [
    "%%javascript\n",
    "\n",
    "/* Popcorn Hack 1 */\n",
    "\n",
    "// Create an array\n",
    "let myArray = [1, 2, 3, 4, 5];\n",
    "\n",
    "// Reverse the array\n",
    "myArray.reverse();\n",
    "\n",
    "// Output the reversed array\n",
    "console.log(myArray);"
   ]
  },
  {
   "cell_type": "code",
   "execution_count": 9,
   "metadata": {
    "vscode": {
     "languageId": "javascript"
    }
   },
   "outputs": [
    {
     "data": {
      "application/javascript": "\n// Create an empty array\nlet myArray = [];\n\n// Add elements using unshift()\nmyArray.unshift(3); // [3]\nmyArray.unshift(2); // [2, 3]\nmyArray.unshift(1); // [1, 2, 3]\n\n// Use the spread operator to add more elements\nmyArray = [0, ...myArray]; // [0, 1, 2, 3]\n\n// Output the array\nconsole.log(myArray);\n",
      "text/plain": [
       "<IPython.core.display.Javascript object>"
      ]
     },
     "metadata": {},
     "output_type": "display_data"
    }
   ],
   "source": [
    "%%javascript \n",
    "\n",
    "// Create an empty array\n",
    "let myArray = [];\n",
    "\n",
    "// Add elements using unshift()\n",
    "myArray.unshift(3); // [3]\n",
    "myArray.unshift(2); // [2, 3]\n",
    "myArray.unshift(1); // [1, 2, 3]\n",
    "\n",
    "// Use the spread operator to add more elements\n",
    "myArray = [0, ...myArray]; // [0, 1, 2, 3]\n",
    "\n",
    "// Output the array\n",
    "console.log(myArray);"
   ]
  },
  {
   "cell_type": "code",
   "execution_count": 10,
   "metadata": {
    "vscode": {
     "languageId": "javascript"
    }
   },
   "outputs": [
    {
     "data": {
      "application/javascript": "\n// Original array\nlet numbers = [10, 25, 30, 47, 50, 65];\n\n// Use filter() to create a new array with only even numbers\nlet evenNumbers = numbers.filter(num => num % 2 === 0);\n\n// Output the new array\nconsole.log(evenNumbers);\n",
      "text/plain": [
       "<IPython.core.display.Javascript object>"
      ]
     },
     "metadata": {},
     "output_type": "display_data"
    }
   ],
   "source": [
    "%%javascript\n",
    "\n",
    "// Original array\n",
    "let numbers = [10, 25, 30, 47, 50, 65];\n",
    "\n",
    "// Use filter() to create a new array with only even numbers\n",
    "let evenNumbers = numbers.filter(num => num % 2 === 0);\n",
    "\n",
    "// Output the new array\n",
    "console.log(evenNumbers);"
   ]
  },
  {
   "cell_type": "code",
   "execution_count": 11,
   "metadata": {
    "vscode": {
     "languageId": "javascript"
    }
   },
   "outputs": [
    {
     "data": {
      "application/javascript": "\n/* Homework Hack 1 */\n\n// Step 1: Create an array with at least 5 values\nlet myArray = ['apple', 'banana', 'cherry', 'date', 'fig'];\n\n// Step 2: Display the array using console.log()\nconsole.log(\"Original Array:\", myArray);\n\n// Bonus: Use the reverse() popcorn hack to reverse the array\nmyArray = [...myArray].reverse(); // Create a copy and reverse it\n\n// Display the reversed array\nconsole.log(\"Reversed Array:\", myArray);\n",
      "text/plain": [
       "<IPython.core.display.Javascript object>"
      ]
     },
     "metadata": {},
     "output_type": "display_data"
    }
   ],
   "source": [
    "%%javascript\n",
    "\n",
    "/* Homework Hack 1 */\n",
    "\n",
    "// Step 1: Create an array with at least 5 values\n",
    "let myArray = ['apple', 'banana', 'cherry', 'date', 'fig'];\n",
    "\n",
    "// Step 2: Display the array using console.log()\n",
    "console.log(\"Original Array:\", myArray);\n",
    "\n",
    "// Bonus: Use the reverse() popcorn hack to reverse the array\n",
    "myArray = [...myArray].reverse(); // Create a copy and reverse it\n",
    "\n",
    "// Display the reversed array\n",
    "console.log(\"Reversed Array:\", myArray);"
   ]
  },
  {
   "cell_type": "code",
   "execution_count": null,
   "metadata": {
    "vscode": {
     "languageId": "javascript"
    }
   },
   "outputs": [],
   "source": [
    "%%javascript\n",
    "\n",
    "/* Homework Hack 2 */\n",
    "\n",
    "// Given array\n",
    "const sports = [\"soccer\", \"football\", \"basketball\", \"wrestling\", \"swimming\"];\n",
    "\n",
    "// Display values \"soccer\" and \"wrestling\" using their indexes\n",
    "console.log(\"First sport:\", sports[0]); // Accessing 'soccer'\n",
    "console.log(\"Fourth sport:\", sports[3]); // Accessing 'wrestling'"
   ]
  },
  {
   "cell_type": "code",
   "execution_count": null,
   "metadata": {
    "vscode": {
     "languageId": "javascript"
    }
   },
   "outputs": [],
   "source": [
    "%%javascript\n",
    "\n",
    "/* Homework Hack 3 */\n",
    "\n",
    "// Create an array called choresList initialized with four items\n",
    "let choresList = [\"laundry\", \"dishes\", \"vacuuming\", \"grocery shopping\"];\n",
    "\n",
    "// Display the initial list\n",
    "console.log(\"Initial chores list:\", choresList);\n",
    "\n",
    "// Using push() to add an item\n",
    "choresList.push(\"dusting\");\n",
    "console.log(\"After push:\", choresList);\n",
    "\n",
    "// Using shift() to remove the first item\n",
    "choresList.shift();\n",
    "console.log(\"After shift:\", choresList);\n",
    "\n",
    "// Using pop() to remove the last item\n",
    "choresList.pop();\n",
    "console.log(\"After pop:\", choresList);\n",
    "\n",
    "// Using unshift() to add an item to the beginning\n",
    "choresList.unshift(\"clean windows\");\n",
    "console.log(\"After unshift:\", choresList);\n",
    "\n",
    "// Bonus: Use the push() and spread operator popcorn hack to add multiple values\n",
    "choresList.push(...[\"mopping\", \"organizing\", \"watering plants\"]);\n",
    "console.log(\"After pushing multiple values:\", choresList);\n"
   ]
  },
  {
   "cell_type": "code",
   "execution_count": null,
   "metadata": {
    "vscode": {
     "languageId": "javascript"
    }
   },
   "outputs": [],
   "source": [
    "%%javascript\n",
    "\n",
    "/* Homework Hack 3 */\n",
    "\n",
    "// Step 1: Create an array with ten random numbers (both even and odd)\n",
    "const randomNumbers = [12, 7, 19, 24, 33, 8, 5, 10, 21, 40];\n",
    "\n",
    "// Step 2: Function to count even numbers in the array\n",
    "function countEvenNumbers(arr) {\n",
    "    let count = 0; // Initialize count to zero\n",
    "    for (let num of arr) {\n",
    "        if (num % 2 === 0) { // Check if the number is even\n",
    "            count++; // Increment the count if the number is even\n",
    "        }\n",
    "    }\n",
    "    return count; // Return the final count\n",
    "}\n",
    "\n",
    "// Step 3: Call the function and display the output\n",
    "const evenCount = countEvenNumbers(randomNumbers);\n",
    "console.log(\"Count of even numbers:\", evenCount);\n"
   ]
  }
 ],
 "metadata": {
  "kernelspec": {
   "display_name": "venv",
   "language": "python",
   "name": "python3"
  },
  "language_info": {
   "codemirror_mode": {
    "name": "ipython",
    "version": 3
   },
   "file_extension": ".py",
   "mimetype": "text/x-python",
   "name": "python",
   "nbconvert_exporter": "python",
   "pygments_lexer": "ipython3",
   "version": "3.12.3"
  },
  "orig_nbformat": 4
 },
 "nbformat": 4,
 "nbformat_minor": 2
}
