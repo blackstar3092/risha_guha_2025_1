{
 "cells": [
  {
   "cell_type": "raw",
   "metadata": {
    "vscode": {
     "languageId": "raw"
    }
   },
   "source": [
    "---\n",
    "layout: post\n",
    "title: 3.10a Hacks\n",
    "description: Python and Javascript Popcorn and Homework Hacks for 3.10a\n",
    "categories: [Javascript]\n",
    "permalink: /sprint/2/hacks_3-10a\n",
    "type: ccc\n",
    "author: Risha Guha\n",
    "menu: nav/sprint_2.html\n",
    "---"
   ]
  },
  {
   "cell_type": "markdown",
   "metadata": {},
   "source": [
    "## Python Popcorn and Homework Hacks"
   ]
  },
  {
   "cell_type": "code",
   "execution_count": 1,
   "metadata": {},
   "outputs": [
    {
     "name": "stdout",
     "output_type": "stream",
     "text": [
      "Favorite foods: ['pizza', 'quesadilla', 'ice cream', 'pasta', 'tacos', 'samosa', 'cookie']\n",
      "Total number of items: 7\n"
     ]
    }
   ],
   "source": [
    "# Popcorn Hack 1\n",
    "\n",
    "# Create a list of favorite foods\n",
    "favorite_foods = [\"pizza\", \"quesadilla\", \"ice cream\", \"pasta\", \"tacos\"]\n",
    "\n",
    "# Add two more items to the list\n",
    "favorite_foods.append(\"samosa\")\n",
    "favorite_foods.append(\"cookie\")\n",
    "\n",
    "# Print the list\n",
    "print(\"Favorite foods:\", favorite_foods)\n",
    "\n",
    "# Find and print the total number of items in the list\n",
    "print(\"Total number of items:\", len(favorite_foods))\n"
   ]
  },
  {
   "cell_type": "code",
   "execution_count": 2,
   "metadata": {},
   "outputs": [
    {
     "name": "stdout",
     "output_type": "stream",
     "text": [
      "Sum of even numbers: 30\n"
     ]
    }
   ],
   "source": [
    "# Popcorn Hack 2\n",
    "\n",
    "# Define the list of integers\n",
    "nums = [1, 2, 3, 4, 5, 6, 7, 8, 9, 10]\n",
    "\n",
    "# Define a variable to store the sum of even numbers\n",
    "even_sum = 0\n",
    "\n",
    "# Iterate through the list and add even numbers to the sum\n",
    "for num in nums:\n",
    "    if num % 2 == 0:  # Check if the number is even\n",
    "        even_sum += num\n",
    "\n",
    "# Print the sum of all even numbers\n",
    "print(\"Sum of even numbers:\", even_sum)\n"
   ]
  },
  {
   "cell_type": "code",
   "execution_count": 3,
   "metadata": {},
   "outputs": [
    {
     "name": "stdout",
     "output_type": "stream",
     "text": [
      "Banana is in the list.\n"
     ]
    }
   ],
   "source": [
    "# Popcorn Hack 3\n",
    "\n",
    "fruits = [\"apple\", \"banana\", \"cherry\", \"date\"]\n",
    "\n",
    "if \"banana\" in fruits:\n",
    "    print(\"Banana is in the list.\")\n",
    "else:\n",
    "    print(\"Banana is not in the list.\")\n"
   ]
  },
  {
   "cell_type": "code",
   "execution_count": 4,
   "metadata": {},
   "outputs": [
    {
     "name": "stdout",
     "output_type": "stream",
     "text": [
      "The second element in the list is: 20\n"
     ]
    }
   ],
   "source": [
    "# Homework Hack 1\n",
    "\n",
    "numbers = [10, 20, 30, 40, 50]\n",
    "\n",
    "print(\"The second element in the list is:\", numbers[1])\n"
   ]
  },
  {
   "cell_type": "code",
   "execution_count": 5,
   "metadata": {},
   "outputs": [
    {
     "name": "stdout",
     "output_type": "stream",
     "text": [
      "\n",
      "To-Do List Menu:\n",
      "1. Add an item\n",
      "2. Remove an item\n",
      "3. View items\n",
      "4. Quit\n",
      "' new item' has been added to the list.\n",
      "\n",
      "To-Do List Menu:\n",
      "1. Add an item\n",
      "2. Remove an item\n",
      "3. View items\n",
      "4. Quit\n",
      "'new item' is not in the list.\n",
      "\n",
      "To-Do List Menu:\n",
      "1. Add an item\n",
      "2. Remove an item\n",
      "3. View items\n",
      "4. Quit\n",
      "Goodbye!\n"
     ]
    }
   ],
   "source": [
    "# Homework Hack 2\n",
    "\n",
    "def display_menu():\n",
    "    print(\"\\nTo-Do List Menu:\")\n",
    "    print(\"1. Add an item\")\n",
    "    print(\"2. Remove an item\")\n",
    "    print(\"3. View items\")\n",
    "    print(\"4. Quit\")\n",
    "\n",
    "# Initialize the to-do list\n",
    "todo_list = []\n",
    "\n",
    "while True:\n",
    "    display_menu()\n",
    "    \n",
    "    choice = input(\"Choose an option (1-4): \")\n",
    "    \n",
    "    if choice == '1':  # Add an item\n",
    "        item = input(\"Enter the item to add: \")\n",
    "        todo_list.append(item)\n",
    "        print(f\"'{item}' has been added to the list.\")\n",
    "    \n",
    "    elif choice == '2':  # Remove an item\n",
    "        item = input(\"Enter the item to remove: \")\n",
    "        if item in todo_list:\n",
    "            todo_list.remove(item)\n",
    "            print(f\"'{item}' has been removed from the list.\")\n",
    "        else:\n",
    "            print(f\"'{item}' is not in the list.\")\n",
    "    \n",
    "    elif choice == '3':  # View items\n",
    "        if todo_list:\n",
    "            print(\"\\nYour To-Do List:\")\n",
    "            for idx, item in enumerate(todo_list, start=1):\n",
    "                print(f\"{idx}. {item}\")\n",
    "        else:\n",
    "            print(\"Your to-do list is empty.\")\n",
    "    \n",
    "    elif choice == '4':  # Quit\n",
    "        print(\"Goodbye!\")\n",
    "        break\n",
    "    \n",
    "    else:\n",
    "        print(\"Invalid option, please try again.\")\n",
    "\n"
   ]
  },
  {
   "cell_type": "markdown",
   "metadata": {},
   "source": [
    "##  Javascript Popcorn and Homework Hacks"
   ]
  },
  {
   "cell_type": "code",
   "execution_count": 6,
   "metadata": {
    "vscode": {
     "languageId": "javascript"
    }
   },
   "outputs": [
    {
     "data": {
      "application/javascript": "\n/* Popcorn Hack 1 */\n\n// Create an empty array\nlet aList = [];\n\n// Input items into the array\nlet userInput = prompt(\"Enter an item (type 'done' to finish):\");\nwhile (userInput.toLowerCase() !== 'done') {\n    aList.push(userInput);\n    userInput = prompt(\"Enter another item (or type 'done' to finish):\");\n}\n\n// Use a for loop to print each item in the array\nconsole.log(\"Items in the list:\");\nfor (let i = 0; i < aList.length; i++) {\n    console.log(aList[i]);\n}\n",
      "text/plain": [
       "<IPython.core.display.Javascript object>"
      ]
     },
     "metadata": {},
     "output_type": "display_data"
    }
   ],
   "source": [
    "%%javascript\n",
    "\n",
    "/* Popcorn Hack 1 */\n",
    "\n",
    "// Create an empty array\n",
    "let aList = [];\n",
    "\n",
    "// Input items into the array\n",
    "let userInput = prompt(\"Enter an item (type 'done' to finish):\");\n",
    "while (userInput.toLowerCase() !== 'done') {\n",
    "    aList.push(userInput);\n",
    "    userInput = prompt(\"Enter another item (or type 'done' to finish):\");\n",
    "}\n",
    "\n",
    "// Use a for loop to print each item in the array\n",
    "console.log(\"Items in the list:\");\n",
    "for (let i = 0; i < aList.length; i++) {\n",
    "    console.log(aList[i]);\n",
    "}\n"
   ]
  },
  {
   "cell_type": "code",
   "execution_count": 7,
   "metadata": {
    "vscode": {
     "languageId": "javascript"
    }
   },
   "outputs": [
    {
     "data": {
      "application/javascript": "\n/* Popcorn Hack 2 */\n\n// Create an array with some items\nlet aList = [\"apple\", \"banana\", \"cherry\", \"date\"];\n\n// Display the second element (if it exists)\nif (aList.length >= 2) {\n    console.log(\"Second element:\", aList[1]);\n} else {\n    console.log(\"The list has fewer than 2 items.\");\n}\n\n// Delete the second element (if it exists)\nif (aList.length >= 2) {\n    aList.splice(1, 1);  // Removes the second element\n}\n\n// Display the updated list\nconsole.log(\"Updated list:\", aList);\n\n",
      "text/plain": [
       "<IPython.core.display.Javascript object>"
      ]
     },
     "metadata": {},
     "output_type": "display_data"
    }
   ],
   "source": [
    "%%javascript \n",
    "\n",
    "/* Popcorn Hack 2 */\n",
    "\n",
    "// Create an array with some items\n",
    "let aList = [\"apple\", \"banana\", \"cherry\", \"date\"];\n",
    "\n",
    "// Display the second element (if it exists)\n",
    "if (aList.length >= 2) {\n",
    "    console.log(\"Second element:\", aList[1]);\n",
    "} else {\n",
    "    console.log(\"The list has fewer than 2 items.\");\n",
    "}\n",
    "\n",
    "// Delete the second element (if it exists)\n",
    "if (aList.length >= 2) {\n",
    "    aList.splice(1, 1);  // Removes the second element\n",
    "}\n",
    "\n",
    "// Display the updated list\n",
    "console.log(\"Updated list:\", aList);\n",
    "\n"
   ]
  },
  {
   "cell_type": "code",
   "execution_count": 10,
   "metadata": {
    "vscode": {
     "languageId": "javascript"
    }
   },
   "outputs": [
    {
     "data": {
      "application/javascript": "\n// Original array\nlet numbers = [10, 25, 30, 47, 50, 65];\n\n// Use filter() to create a new array with only even numbers\nlet evenNumbers = numbers.filter(num => num % 2 === 0);\n\n// Output the new array\nconsole.log(evenNumbers);\n",
      "text/plain": [
       "<IPython.core.display.Javascript object>"
      ]
     },
     "metadata": {},
     "output_type": "display_data"
    }
   ],
   "source": [
    "%%javascript\n",
    "\n",
    "// Original array\n",
    "let numbers = [10, 25, 30, 47, 50, 65];\n",
    "\n",
    "// Use filter() to create a new array with only even numbers\n",
    "let evenNumbers = numbers.filter(num => num % 2 === 0);\n",
    "\n",
    "// Output the new array\n",
    "console.log(evenNumbers);"
   ]
  },
  {
   "cell_type": "code",
   "execution_count": 9,
   "metadata": {
    "vscode": {
     "languageId": "javascript"
    }
   },
   "outputs": [
    {
     "data": {
      "application/javascript": "\n/* Homework Hack 1 */\n\nlet numbers = [10, 20, 30, 40, 50];\nconsole.log(\"The second element in the array is:\", numbers[1]);\n",
      "text/plain": [
       "<IPython.core.display.Javascript object>"
      ]
     },
     "metadata": {},
     "output_type": "display_data"
    }
   ],
   "source": [
    "%%javascript\n",
    "\n",
    "/* Homework Hack 1 */\n",
    "\n",
    "let numbers = [10, 20, 30, 40, 50];\n",
    "console.log(\"The second element in the array is:\", numbers[1]);"
   ]
  },
  {
   "cell_type": "code",
   "execution_count": 10,
   "metadata": {
    "vscode": {
     "languageId": "javascript"
    }
   },
   "outputs": [
    {
     "data": {
      "application/javascript": "\n/* Homework Hack 2 */\n\n// Initialize the workout log\nlet workoutLog = [];\n\n// Function to display the menu\nfunction displayMenu() {\n    console.log(\"\\nWorkout Tracker Menu:\");\n    console.log(\"1. Log a workout\");\n    console.log(\"2. View logged workouts\");\n    console.log(\"3. Quit\");\n}\n\n// Function to log a workout\nfunction logWorkout() {\n    const type = prompt(\"Enter workout type (e.g., running, cycling):\");\n    const duration = prompt(\"Enter duration (in minutes):\");\n    const calories = prompt(\"Enter calories burned:\");\n\n    const workout = {\n        type: type,\n        duration: parseInt(duration), // Convert duration to a number\n        calories: parseInt(calories) // Convert calories to a number\n    };\n\n    workoutLog.push(workout);\n    console.log(`Workout logged: ${type}, Duration: ${duration} mins, Calories burned: ${calories}`);\n}\n\n// Function to view logged workouts\nfunction viewWorkouts() {\n    if (workoutLog.length === 0) {\n        console.log(\"No workouts logged yet.\");\n        return;\n    }\n\n    console.log(\"\\nLogged Workouts:\");\n    workoutLog.forEach((workout, index) => {\n        console.log(`${index + 1}. Type: ${workout.type}, Duration: ${workout.duration} mins, Calories burned: ${workout.calories}`);\n    });\n}\n\n// Main program loop\nwhile (true) {\n    displayMenu();\n    const choice = prompt(\"Choose an option (1-3):\");\n\n    if (choice === '1') {\n        logWorkout();\n    } else if (choice === '2') {\n        viewWorkouts();\n    } else if (choice === '3') {\n        console.log(\"Goodbye!\");\n        break;\n    } else {\n        console.log(\"Invalid option, please try again.\");\n    }\n}\n",
      "text/plain": [
       "<IPython.core.display.Javascript object>"
      ]
     },
     "metadata": {},
     "output_type": "display_data"
    }
   ],
   "source": [
    "%%javascript\n",
    "\n",
    "/* Homework Hack 2 */\n",
    "\n",
    "// Initialize the workout log\n",
    "let workoutLog = [];\n",
    "\n",
    "// Function to display the menu\n",
    "function displayMenu() {\n",
    "    console.log(\"\\nWorkout Tracker Menu:\");\n",
    "    console.log(\"1. Log a workout\");\n",
    "    console.log(\"2. View logged workouts\");\n",
    "    console.log(\"3. Quit\");\n",
    "}\n",
    "\n",
    "// Function to log a workout\n",
    "function logWorkout() {\n",
    "    const type = prompt(\"Enter workout type (e.g., running, cycling):\");\n",
    "    const duration = prompt(\"Enter duration (in minutes):\");\n",
    "    const calories = prompt(\"Enter calories burned:\");\n",
    "\n",
    "    const workout = {\n",
    "        type: type,\n",
    "        duration: parseInt(duration), // Convert duration to a number\n",
    "        calories: parseInt(calories) // Convert calories to a number\n",
    "    };\n",
    "\n",
    "    workoutLog.push(workout);\n",
    "    console.log(`Workout logged: ${type}, Duration: ${duration} mins, Calories burned: ${calories}`);\n",
    "}\n",
    "\n",
    "// Function to view logged workouts\n",
    "function viewWorkouts() {\n",
    "    if (workoutLog.length === 0) {\n",
    "        console.log(\"No workouts logged yet.\");\n",
    "        return;\n",
    "    }\n",
    "\n",
    "    console.log(\"\\nLogged Workouts:\");\n",
    "    workoutLog.forEach((workout, index) => {\n",
    "        console.log(`${index + 1}. Type: ${workout.type}, Duration: ${workout.duration} mins, Calories burned: ${workout.calories}`);\n",
    "    });\n",
    "}\n",
    "\n",
    "// Main program loop\n",
    "while (true) {\n",
    "    displayMenu();\n",
    "    const choice = prompt(\"Choose an option (1-3):\");\n",
    "\n",
    "    if (choice === '1') {\n",
    "        logWorkout();\n",
    "    } else if (choice === '2') {\n",
    "        viewWorkouts();\n",
    "    } else if (choice === '3') {\n",
    "        console.log(\"Goodbye!\");\n",
    "        break;\n",
    "    } else {\n",
    "        console.log(\"Invalid option, please try again.\");\n",
    "    }\n",
    "}\n"
   ]
  },
  {
   "cell_type": "code",
   "execution_count": null,
   "metadata": {
    "vscode": {
     "languageId": "javascript"
    }
   },
   "outputs": [],
   "source": [
    "%%javascript\n",
    "\n",
    "/* Homework Hack 3 */\n",
    "\n",
    "// Create an array called choresList initialized with four items\n",
    "let choresList = [\"laundry\", \"dishes\", \"vacuuming\", \"grocery shopping\"];\n",
    "\n",
    "// Display the initial list\n",
    "console.log(\"Initial chores list:\", choresList);\n",
    "\n",
    "// Using push() to add an item\n",
    "choresList.push(\"dusting\");\n",
    "console.log(\"After push:\", choresList);\n",
    "\n",
    "// Using shift() to remove the first item\n",
    "choresList.shift();\n",
    "console.log(\"After shift:\", choresList);\n",
    "\n",
    "// Using pop() to remove the last item\n",
    "choresList.pop();\n",
    "console.log(\"After pop:\", choresList);\n",
    "\n",
    "// Using unshift() to add an item to the beginning\n",
    "choresList.unshift(\"clean windows\");\n",
    "console.log(\"After unshift:\", choresList);\n",
    "\n",
    "// Bonus: Use the push() and spread operator popcorn hack to add multiple values\n",
    "choresList.push(...[\"mopping\", \"organizing\", \"watering plants\"]);\n",
    "console.log(\"After pushing multiple values:\", choresList);\n"
   ]
  }
 ],
 "metadata": {
  "kernelspec": {
   "display_name": "venv",
   "language": "python",
   "name": "python3"
  },
  "language_info": {
   "codemirror_mode": {
    "name": "ipython",
    "version": 3
   },
   "file_extension": ".py",
   "mimetype": "text/x-python",
   "name": "python",
   "nbconvert_exporter": "python",
   "pygments_lexer": "ipython3",
   "version": "3.12.3"
  },
  "orig_nbformat": 4
 },
 "nbformat": 4,
 "nbformat_minor": 2
}
