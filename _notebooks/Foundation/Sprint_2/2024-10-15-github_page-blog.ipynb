{
 "cells": [
  {
   "cell_type": "code",
   "execution_count": null,
   "metadata": {
    "vscode": {
     "languageId": "plaintext"
    }
   },
   "outputs": [],
   "source": [
    "---\n",
    "layout: post\n",
    "title: Sprint 2 Learnings Blog\n",
    "description: What I learned from Sprint 2 of AP CSP\n",
    "categories: [Javascript]\n",
    "permalink: /sprint/2/blog\n",
    "type: ccc\n",
    "author: Risha Guha\n",
    "menu: nav/sprint_2.html\n",
    "---"
   ]
  },
  {
   "cell_type": "markdown",
   "metadata": {},
   "source": [
    "In this Sprint, I learned about a variety of different programming functions in both Python and Javascript.\n",
    "\n",
    "<h2><span style=\"font-family: Tahoma; color:#e194ff\"> Preparation </span></h2>\n",
    "\n",
    "To prepare for this Sprint, my team and I created an issue to keep track of each task we needed to complete over the course of the project. This issue is linked below. \n",
    "\n",
    "https://github.com/blackstar3092/sprint_2/issues/1#issue-2546339211\n",
    "\n",
    "<h2><span style=\"font-family: Tahoma; color:#e194ff\">  Memory </span></h2>\n",
    "\n",
    "Here is a list of all of the skills I learned in each of the following lessons:\n",
    "\n",
    "- 3.1: Variables and Data Types (int, str, bool, float, list, and dictionary)\n",
    "- 3.2: More in-depth explanations of Integers, Floats, Strings, Lists, Tuples, Dictionaries, Sets, Booleans, and Null\n",
    "- 3.3: Mathematical Expressions ( Sequencing and various operations)\n",
    "- 3.4: Strings and Functions\n",
    "- 3.5: Booleans\n",
    "- 3.8: Loops (While Loops and For Loops)\n",
    "- 3.10: List, Dictionary, and Array Manipulation\n",
    "\n",
    "My group and I taught lessons 3.6 and 3.7: Conditionals and Nested Conditionals. In 3.6, students learned how to use conditional statements in JavaScript and Python to control what happens in their programs based on specific conditions. They explored how to use if, else, and else if statements to check if certain conditions are true or false and execute different parts of the code accordingly. They also learned to combine conditions using logical operators like && (and), || (or), and ! (not). After the lesson, students were be able to write simple interactive programs that make decisions based on user input or data, through the popcorn and homework hacks. In 3.7, students learned how to use nested conditionals. Students learned how to implement nested if, elif, and else statements to create more specific control flows in their programs. Through examples and exercises, they gained a deeper understanding of how to manage multiple conditions effectively, enhancing the logic of their code. "
   ]
  },
  {
   "cell_type": "markdown",
   "metadata": {},
   "source": [
    "<h2><span style=\"font-family: Tahoma; color:#e194ff\"> Relevancy </span></h2>\n",
    "\n",
    "The relevancy grading checklist is below\n",
    "\n",
    "| **Assignment**          | **Weightage** | **Grade** | **Comments** |\n",
    "|-------------------------|---------------|-----------|--------------|\n",
    "| College Board Coverage  | 20            | TBD       | TBD          |\n",
    "| Python Examples         | 15            | TBD       | TBD          |\n",
    "| JavaScript Examples     | 15            | TBD       | TBD          |\n",
    "| Popcorn Hack Usage      | 10            | TBD       | TBD          |\n",
    "| Homework                | 10            | TBD       | TBD          |\n",
    "| Grading Plan            | 10            | TBD       | TBD          |\n",
    "| Original an Creative    | 10            | TBD       | TBD          |\n",
    "| **Total**               | **90**        |           |              |\n",
    "\n",
    "Using this format, we graded each of the groups in the class by cross-referencing the published College Board learning standards with what was taught in the lesson. We also reflected on the effectiveness of each homework and popcorn hack, as well as the clarity of their examples and grading plan. Overall, this peer grade taught us what we can do to improve our personal lessons as well as the glows and grows of each of the other groups in our class. "
   ]
  },
  {
   "cell_type": "markdown",
   "metadata": {},
   "source": [
    "<h2><span style=\"font-family: Tahoma; color:#e194ff\"> Personal Growth </span></h2>\n",
    "\n",
    "**Unique Element:** Our team customized our lesson pages to bring engagement to the class, and we played games with the class to check their understanding and motivate them for the homework.\n",
    "\n",
    "My personal accomplishment of Sprint 2 was creating an engaging lesson that effectively taught my classmates about nested conditionals. I was able to gauge their level of understanding by the class's overall performance on the Kahoot we created. The average Kahoot score was high, and therefore, my lesson was successful. I also learned many different parts of the Python and Javascript languages and feel much more comfortable with these languages than before because of my classmates' lessons. "
   ]
  },
  {
   "cell_type": "markdown",
   "metadata": {},
   "source": [
    "## Links to My Hacks\n",
    "\n",
    "<table>\n",
    "    <tr>\n",
    "        <td><a href=\"{{site.baseurl}}/sprint/2/hacks_3-1\">3.1 Hacks</a></td>\n",
    "        <td><a href=\"{{site.baseurl}}/sprint/2/hacks_3-1\">3.2 Hacks</a></td>\n",
    "        <td><a href=\"{{site.baseurl}}/sprint/2/hacks_3-3\">3.3 Hacks</a></td>\n",
    "        <td><a href=\"{{site.baseurl}}/sprint/2/hacks_3-4\">3.4 Hacks</a></td>\n",
    "        <td><a href=\"{{site.baseurl}}/sprint/2/hacks_3-5\">3.5 Hacks</a></td>\n",
    "        <td><a href=\"{{site.baseurl}}/sprint/2/hacks_3-8\">3.8 Hacks</a></td>\n",
    "        <td><a href=\"{{site.baseurl}}/sprint/2/hacks_3-10a\">3.10a Hacks</a></td>\n",
    "        <td><a href=\"{{site.baseurl}}/sprint/2/hacks_3-10b\">3.10b Hacks</a></td>\n",
    "    </tr>\n",
    "</table>"
   ]
  },
  {
   "cell_type": "markdown",
   "metadata": {},
   "source": [
    "## Link to my Sprint 2 Final Project Game\n",
    "\n",
    "<a href=\"{{site.baseurl}}/javascript/project/npc-game\">SPRINT 2: NPC Game</a>"
   ]
  }
 ],
 "metadata": {
  "language_info": {
   "name": "python"
  }
 },
 "nbformat": 4,
 "nbformat_minor": 2
}
