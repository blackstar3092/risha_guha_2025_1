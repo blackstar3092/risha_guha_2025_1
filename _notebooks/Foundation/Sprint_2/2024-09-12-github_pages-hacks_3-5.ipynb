{
 "cells": [
  {
   "cell_type": "raw",
   "metadata": {
    "vscode": {
     "languageId": "raw"
    }
   },
   "source": [
    "---\n",
    "layout: post\n",
    "title: 3.5 Hacks\n",
    "description: Python and Javascript Popcorn and Homework Hacks for 3.5\n",
    "categories: [Javascript]\n",
    "permalink: /sprint/2/hacks_3-5\n",
    "type: ccc\n",
    "author: Risha Guha\n",
    "menu: nav/sprint_2.html\n",
    "---"
   ]
  },
  {
   "cell_type": "markdown",
   "metadata": {},
   "source": [
    "## Python Popcorn and Homework Hacks"
   ]
  },
  {
   "cell_type": "code",
   "execution_count": 1,
   "metadata": {},
   "outputs": [
    {
     "name": "stdout",
     "output_type": "stream",
     "text": [
      "Number is Positive\n"
     ]
    }
   ],
   "source": [
    "#Popcorn Hack 1\n",
    "\n",
    "number = 4\n",
    "\n",
    "if number < 0:\n",
    "    print(\"Number is negative\")\n",
    "elif number == 0:\n",
    "    print(\"Number is 0\")\n",
    "else:\n",
    "    print(\"Number is Positive\")"
   ]
  },
  {
   "cell_type": "code",
   "execution_count": 2,
   "metadata": {},
   "outputs": [
    {
     "name": "stdout",
     "output_type": "stream",
     "text": [
      "Character is a vowel!\n"
     ]
    }
   ],
   "source": [
    "#Popcorn Hack 3\n",
    "\n",
    "char = \"e\"\n",
    "\n",
    "if char in \"aeiou\":\n",
    "    print (\"Character is a vowel!\")\n",
    "else:\n",
    "    print(\"Character is a consonant.\")"
   ]
  },
  {
   "cell_type": "code",
   "execution_count": 3,
   "metadata": {},
   "outputs": [
    {
     "name": "stdout",
     "output_type": "stream",
     "text": [
      "A\tB\tC\tA AND (B OR C)\n",
      "------------------------------\n",
      "True\tTrue\tTrue\tTrue\n",
      "True\tTrue\tFalse\tTrue\n",
      "True\tFalse\tTrue\tTrue\n",
      "True\tFalse\tFalse\tFalse\n",
      "False\tTrue\tTrue\tFalse\n",
      "False\tTrue\tFalse\tFalse\n",
      "False\tFalse\tTrue\tFalse\n",
      "False\tFalse\tFalse\tFalse\n"
     ]
    }
   ],
   "source": [
    "# Homework Hack 1\n",
    "\n",
    "def truth_table():\n",
    "    print(f\"A\\tB\\tC\\tA AND (B OR C)\")\n",
    "    print(\"-\" * 30)\n",
    "    for A in [True, False]:\n",
    "        for B in [True, False]:\n",
    "            for C in [True, False]:\n",
    "                result = A and (B or C)\n",
    "                print(f\"{A}\\t{B}\\t{C}\\t{result}\")\n",
    "truth_table()"
   ]
  },
  {
   "cell_type": "code",
   "execution_count": 5,
   "metadata": {},
   "outputs": [
    {
     "name": "stdout",
     "output_type": "stream",
     "text": [
      "De Morgan's Law Game\n",
      "Congratulations! You won using De Morgan's Law!\n",
      "Hidden values were: A = True, B = True\n"
     ]
    }
   ],
   "source": [
    "# Homework Hack 2\n",
    "\n",
    "import random\n",
    "\n",
    "def de_morgan_check(A, B):\n",
    "    # not (A and B) == not A or not B\n",
    "    return not (A and B) == (not A or not B)\n",
    "\n",
    "# Function for a Yes/No input\n",
    "def get_yes_no_input(prompt):\n",
    "    while True:\n",
    "        choice = input(prompt + \" (yes/no): \").lower()\n",
    "        if choice in [\"yes\", \"no\"]:\n",
    "            return choice == \"yes\"\n",
    "        else:\n",
    "            print(\"Invalid input! Please enter 'yes' or 'no'.\")\n",
    "\n",
    "def de_morgan_game():\n",
    "    print(\"De Morgan's Law Game\")\n",
    "    A = random.choice([True, False])\n",
    "    B = random.choice([True, False])\n",
    "    \n",
    "    player_A = get_yes_no_input(\"Do you want to choose option A?\")\n",
    "    player_B = get_yes_no_input(\"Do you want to choose option B?\")\n",
    "    \n",
    "    if de_morgan_check(player_A, player_B):\n",
    "        print(\"Congratulations! You won using De Morgan's Law!\")\n",
    "    else:\n",
    "        print(\"Sorry, you lost! Try again.\")\n",
    "    \n",
    "    # Show the hidden values for A and B\n",
    "    print(f\"Hidden values were: A = {A}, B = {B}\")\n",
    "    \n",
    "# Start the game\n",
    "de_morgan_game()\n",
    "\n"
   ]
  },
  {
   "cell_type": "markdown",
   "metadata": {},
   "source": [
    "##  Javascript Popcorn and Homework Hacks"
   ]
  },
  {
   "cell_type": "code",
   "execution_count": 6,
   "metadata": {
    "vscode": {
     "languageId": "javascript"
    }
   },
   "outputs": [
    {
     "data": {
      "application/javascript": "\n/* Popcorn Hack 2 */\n\nnum_1 = 83\nnum_2 = 34\n\nif (num_1 > num_2) {\n    console.log(num_1 + \" is bigger than \" + num_2);\n} else if (num_1 < num_2) {\n    console.log(num_2 + \" is bigger than \" + num_1);\n} else {\n    console.log(num_1 + \" is equal to \" + num_2);\n}\n",
      "text/plain": [
       "<IPython.core.display.Javascript object>"
      ]
     },
     "metadata": {},
     "output_type": "display_data"
    }
   ],
   "source": [
    "%%javascript\n",
    "\n",
    "/* Popcorn Hack 2 */\n",
    "\n",
    "num_1 = 83\n",
    "num_2 = 34\n",
    "\n",
    "if (num_1 > num_2) {\n",
    "    console.log(num_1 + \" is bigger than \" + num_2);\n",
    "} else if (num_1 < num_2) {\n",
    "    console.log(num_2 + \" is bigger than \" + num_1);\n",
    "} else {\n",
    "    console.log(num_1 + \" is equal to \" + num_2);\n",
    "}"
   ]
  },
  {
   "cell_type": "code",
   "execution_count": 7,
   "metadata": {
    "vscode": {
     "languageId": "javascript"
    }
   },
   "outputs": [
    {
     "data": {
      "application/javascript": "\n/* Popcorn Hack 3 */\n\nnumber = 7\n \nif (number % 2 === 0) {\n    console.log(number + \" is even.\");\n} else {\n   console.log(number + \" is odd.\");\n}\n",
      "text/plain": [
       "<IPython.core.display.Javascript object>"
      ]
     },
     "metadata": {},
     "output_type": "display_data"
    }
   ],
   "source": [
    "%%javascript\n",
    "\n",
    "/* Popcorn Hack 3 */\n",
    "\n",
    "number = 7\n",
    " \n",
    "if (number % 2 === 0) {\n",
    "    console.log(number + \" is even.\");\n",
    "} else {\n",
    "   console.log(number + \" is odd.\");\n",
    "}"
   ]
  },
  {
   "cell_type": "code",
   "execution_count": 8,
   "metadata": {
    "vscode": {
     "languageId": "javascript"
    }
   },
   "outputs": [
    {
     "data": {
      "application/javascript": "\n/* Homework Hack 1 */\n\npassword = prompt(\"Enter a password:\")\n\nif (password.length >= 10) {\n    console.log(\"Length requirement met.\")\n}\nelse {\n    console.log(\"Longer length required\")\n    exit\n}\n    \nfunction validatePassword(password) {\n    const hasUpperCase = /[A-Z]/.test(password);    // Contains uppercase letters\n    const hasLowerCase = /[a-z]/.test(password);    // Contains lowercase letters\n    const hasNumber = /\\d/.test(password);          // Contains numbers\n    const hasNoSpaces = !/\\s/.test(password);       // Does not contain spaces\n\n    // All conditions must be true\n    return hasUpperCase && hasLowerCase && hasNumber && hasNoSpaces;\n    \n}\n\n// Function to create a password and check if it's valid\nfunction createPassword() {\n    if (validatePassword(password)) {\n        alert(\"Password is valid!\");\n    } else {\n        alert(\"Invalid password! \\nMake sure it is at least 10 characters long, includes uppercase and lowercase letters, has at least one number, and contains no spaces.\");\n    }\n}\n\n// Start the password creation process\ncreatePassword();\n",
      "text/plain": [
       "<IPython.core.display.Javascript object>"
      ]
     },
     "metadata": {},
     "output_type": "display_data"
    }
   ],
   "source": [
    "%%javascript\n",
    "\n",
    "/* Homework Hack 1 */\n",
    "\n",
    "password = prompt(\"Enter a password:\")\n",
    "\n",
    "if (password.length >= 10) {\n",
    "    console.log(\"Length requirement met.\")\n",
    "}\n",
    "else {\n",
    "    console.log(\"Longer length required\")\n",
    "    exit\n",
    "}\n",
    "    \n",
    "function validatePassword(password) {\n",
    "    const hasUpperCase = /[A-Z]/.test(password);    // Contains uppercase letters\n",
    "    const hasLowerCase = /[a-z]/.test(password);    // Contains lowercase letters\n",
    "    const hasNumber = /\\d/.test(password);          // Contains numbers\n",
    "    const hasNoSpaces = !/\\s/.test(password);       // Does not contain spaces\n",
    "\n",
    "    // All conditions must be true\n",
    "    return hasUpperCase && hasLowerCase && hasNumber && hasNoSpaces;\n",
    "    \n",
    "}\n",
    "\n",
    "// Function to create a password and check if it's valid\n",
    "function createPassword() {\n",
    "    if (validatePassword(password)) {\n",
    "        alert(\"Password is valid!\");\n",
    "    } else {\n",
    "        alert(\"Invalid password! \\nMake sure it is at least 10 characters long, includes uppercase and lowercase letters, has at least one number, and contains no spaces.\");\n",
    "    }\n",
    "}\n",
    "\n",
    "// Start the password creation process\n",
    "createPassword();"
   ]
  },
  {
   "cell_type": "code",
   "execution_count": 9,
   "metadata": {
    "vscode": {
     "languageId": "javascript"
    }
   },
   "outputs": [
    {
     "data": {
      "application/javascript": "\n/* Homework Hack 2 */\n\n// Function to start the personality quiz\nfunction startQuiz() {\n    let score = 0;\n\n    // Questions and choices\n    let questions = [\n        { question: \"1. Favorite color?\", options: [\"a) Red\", \"b) Blue\", \"c) Green\"], points: [1, 2, 3] },\n        { question: \"2. Free time?\", options: [\"a) Reading\", \"b) Outdoors\", \"c) Socializing\"], points: [2, 3, 1] },\n        { question: \"3. Which pet?\", options: [\"a) Dog\", \"b) Cat\", \"c) Bird\"], points: [1, 2, 3] },\n        { question: \"4. Ideal vacation?\", options: [\"a) Beach\", \"b) Mountains\", \"c) City\"], points: [1, 3, 2] },\n        { question: \"5. Fav movie genre?\", options: [\"a) Action\", \"b) Comedy\", \"c) Drama\"], points: [1, 2, 3] },\n        { question: \"6. Night owl?\", options: [\"a) Yes\", \"b) No\", \"c) Sometimes\"], points: [3, 2, 1] },\n        { question: \"7. Stress busting strat?\", options: [\"a) Deep breathing\", \"b) No strat!\", \"c) Distract myself\"], points: [1, 3, 2] },\n        { question: \"8. Favorite season?\", options: [\"a) Summer\", \"b) Winter\", \"c) Fall\"], points: [1, 2, 3] },\n        { question: \"9. Decision making strat?\", options: [\"a) Logic\", \"b) Emotion\", \"c) Instinct\"], points: [1, 2, 3] },\n        { question: \"10. Colaborate or no?\", options: [\"a) Yes\", \"b) No\", \"c) Depends\"], points: [1, 2, 3] }\n    ];\n    for (let i = 0; i < questions.length; i++) {\n        let answer = prompt(questions[i].question + \"\\n\" + questions[i].options.join(\"\\n\")).toLowerCase();\n    \n        if (answer === \"a\") {\n            score += questions[i].points[0];\n        } else if (answer === \"b\") {\n            score += questions[i].points[1];\n        } else if (answer === \"c\") {\n            score += questions[i].points[2];\n        }\n    }\n\n    if (score <= 15) {\n        alert(\"Your personality type is: Outdoorsy. You touch grass very often\");\n    } else if (score <= 22) {\n        alert(\"Your personality type is: Intellectual. Have fun reading that textbook\");\n    } else {\n        alert(\"Your personality type is: Whimsical. You like clouds probably\");\n    }\n}\n\nstartQuiz();\n\n",
      "text/plain": [
       "<IPython.core.display.Javascript object>"
      ]
     },
     "metadata": {},
     "output_type": "display_data"
    }
   ],
   "source": [
    "%%javascript\n",
    "\n",
    "/* Homework Hack 2 */\n",
    "\n",
    "// Function to start the personality quiz\n",
    "function startQuiz() {\n",
    "    let score = 0;\n",
    "\n",
    "    // Questions and choices\n",
    "    let questions = [\n",
    "        { question: \"1. Favorite color?\", options: [\"a) Red\", \"b) Blue\", \"c) Green\"], points: [1, 2, 3] },\n",
    "        { question: \"2. Free time?\", options: [\"a) Reading\", \"b) Outdoors\", \"c) Socializing\"], points: [2, 3, 1] },\n",
    "        { question: \"3. Which pet?\", options: [\"a) Dog\", \"b) Cat\", \"c) Bird\"], points: [1, 2, 3] },\n",
    "        { question: \"4. Ideal vacation?\", options: [\"a) Beach\", \"b) Mountains\", \"c) City\"], points: [1, 3, 2] },\n",
    "        { question: \"5. Fav movie genre?\", options: [\"a) Action\", \"b) Comedy\", \"c) Drama\"], points: [1, 2, 3] },\n",
    "        { question: \"6. Night owl?\", options: [\"a) Yes\", \"b) No\", \"c) Sometimes\"], points: [3, 2, 1] },\n",
    "        { question: \"7. Stress busting strat?\", options: [\"a) Deep breathing\", \"b) No strat!\", \"c) Distract myself\"], points: [1, 3, 2] },\n",
    "        { question: \"8. Favorite season?\", options: [\"a) Summer\", \"b) Winter\", \"c) Fall\"], points: [1, 2, 3] },\n",
    "        { question: \"9. Decision making strat?\", options: [\"a) Logic\", \"b) Emotion\", \"c) Instinct\"], points: [1, 2, 3] },\n",
    "        { question: \"10. Colaborate or no?\", options: [\"a) Yes\", \"b) No\", \"c) Depends\"], points: [1, 2, 3] }\n",
    "    ];\n",
    "    for (let i = 0; i < questions.length; i++) {\n",
    "        let answer = prompt(questions[i].question + \"\\n\" + questions[i].options.join(\"\\n\")).toLowerCase();\n",
    "    \n",
    "        if (answer === \"a\") {\n",
    "            score += questions[i].points[0];\n",
    "        } else if (answer === \"b\") {\n",
    "            score += questions[i].points[1];\n",
    "        } else if (answer === \"c\") {\n",
    "            score += questions[i].points[2];\n",
    "        }\n",
    "    }\n",
    "\n",
    "    if (score <= 15) {\n",
    "        alert(\"Your personality type is: Outdoorsy. You touch grass very often\");\n",
    "    } else if (score <= 22) {\n",
    "        alert(\"Your personality type is: Intellectual. Have fun reading that textbook\");\n",
    "    } else {\n",
    "        alert(\"Your personality type is: Whimsical. You like clouds probably\");\n",
    "    }\n",
    "}\n",
    "\n",
    "startQuiz();\n",
    "\n"
   ]
  }
 ],
 "metadata": {
  "kernelspec": {
   "display_name": "venv",
   "language": "python",
   "name": "python3"
  },
  "language_info": {
   "codemirror_mode": {
    "name": "ipython",
    "version": 3
   },
   "file_extension": ".py",
   "mimetype": "text/x-python",
   "name": "python",
   "nbconvert_exporter": "python",
   "pygments_lexer": "ipython3",
   "version": "3.12.3"
  },
  "orig_nbformat": 4
 },
 "nbformat": 4,
 "nbformat_minor": 2
}
