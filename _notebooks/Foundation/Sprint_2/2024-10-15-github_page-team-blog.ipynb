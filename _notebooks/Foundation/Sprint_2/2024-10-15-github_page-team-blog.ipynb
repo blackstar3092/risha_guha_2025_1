{
 "cells": [
  {
   "cell_type": "code",
   "execution_count": null,
   "metadata": {
    "vscode": {
     "languageId": "plaintext"
    }
   },
   "outputs": [],
   "source": [
    "---\n",
    "layout: post\n",
    "title: Sprint 2 Team Blog\n",
    "description: Links to each team member's personal learning blog\n",
    "categories: [Javascript]\n",
    "permalink: /sprint/2/team-blog\n",
    "type: ccc\n",
    "author: Risha Guha, Vibha Mandayam, Ava Shalon\n",
    "menu: nav/sprint_2.html\n",
    "---"
   ]
  },
  {
   "cell_type": "markdown",
   "metadata": {},
   "source": [
    "<h2><span style=\"font-family: Tahoma; color:#e194ff\"> Team Blogs </span></h2>\n",
    "\n",
    "Risha Guha: <a href=\"https://blackstar3092.github.io/risha_guha_2025_1/sprint/2/blog\"> Link</a>\n",
    "\n",
    "Vibha Mandayam: <a href=\"https://vibha1019.github.io/vibha_mandayam/github/pages/sprint_2\"> Link</a>\n",
    "\n",
    "Ava Shalon: <a href=\"https://vibha1019.github.io/vibha_mandayam/github/pages/sprint_2\"> Link</a>"
   ]
  },
  {
   "cell_type": "markdown",
   "metadata": {},
   "source": [
    "## Link to our lessons\n",
    "\n",
    "<a href=\"https://nighthawkcoders.github.io/portfolio_2025/csp/big-idea/p4/3-6-1\">3.6 Conditionals</a>\n",
    "\n",
    "<a href=\"https://nighthawkcoders.github.io/portfolio_2025/csp/big-idea/p4/3-6-1\">3.7 Nested Conditionals</a>"
   ]
  }
 ],
 "metadata": {
  "language_info": {
   "name": "python"
  }
 },
 "nbformat": 4,
 "nbformat_minor": 2
}
