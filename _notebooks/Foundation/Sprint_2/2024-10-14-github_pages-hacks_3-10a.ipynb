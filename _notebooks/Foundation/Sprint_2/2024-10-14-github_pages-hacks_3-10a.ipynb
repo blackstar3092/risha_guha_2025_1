{
 "cells": [
  {
   "cell_type": "raw",
   "metadata": {
    "vscode": {
     "languageId": "raw"
    }
   },
   "source": [
    "---\n",
    "layout: post\n",
    "title: 3.10a Hacks\n",
    "description: Python and Javascript Popcorn and Homework Hacks for 3.10a\n",
    "categories: [Javascript]\n",
    "permalink: /sprint/2/hacks_3-10a\n",
    "type: ccc\n",
    "author: Risha Guha\n",
    "menu: nav/sprint_2.html\n",
    "---"
   ]
  },
  {
   "cell_type": "markdown",
   "metadata": {},
   "source": [
    "## Popcorn and Homework Hacks"
   ]
  },
  {
   "cell_type": "code",
   "execution_count": 1,
   "metadata": {},
   "outputs": [
    {
     "name": "stdout",
     "output_type": "stream",
     "text": [
      "apple\n",
      "banana\n",
      "strawberry\n"
     ]
    }
   ],
   "source": [
    "# 10.1 Popcorn Hack 1\n",
    "\n",
    "a_list = []\n",
    "user_input = None\n",
    "\n",
    "# Simulate user inputs (you can replace these with real inputs)\n",
    "user_input = \"apple\"\n",
    "a_list.append(user_input)\n",
    "\n",
    "user_input = \"banana\"\n",
    "a_list.append(user_input)\n",
    "\n",
    "user_input = \"strawberry\"\n",
    "a_list.append(user_input)\n",
    "\n",
    "# Use a for loop to print each item in the list\n",
    "for item in a_list:\n",
    "    print(item)\n"
   ]
  },
  {
   "cell_type": "code",
   "execution_count": 8,
   "metadata": {
    "vscode": {
     "languageId": "javascript"
    }
   },
   "outputs": [
    {
     "data": {
      "application/javascript": "\n/* 10.1 Popcorn Hack 1 Javascript*/\n\nlet a_list = [];\nlet user_input;\n\n// Simulate user inputs (you can replace these with real inputs, e.g., from a form or prompt)\nuser_input = \"apple\";\na_list.push(user_input);\n\nuser_input = \"banana\";\na_list.push(user_input);\n\nuser_input = \"strawberry\";\na_list.push(user_input);\n\n// Use a for loop to print each item in the list\nfor (let i = 0; i < a_list.length; i++) {\n    console.log(a_list[i]);\n}\n",
      "text/plain": [
       "<IPython.core.display.Javascript object>"
      ]
     },
     "metadata": {},
     "output_type": "display_data"
    }
   ],
   "source": [
    "%%javascript\n",
    "\n",
    "/* 10.1 Popcorn Hack 1 Javascript*/\n",
    "\n",
    "let a_list = [];\n",
    "let user_input;\n",
    "\n",
    "// Simulate user inputs (you can replace these with real inputs, e.g., from a form or prompt)\n",
    "user_input = \"apple\";\n",
    "a_list.push(user_input);\n",
    "\n",
    "user_input = \"banana\";\n",
    "a_list.push(user_input);\n",
    "\n",
    "user_input = \"strawberry\";\n",
    "a_list.push(user_input);\n",
    "\n",
    "// Use a for loop to print each item in the list\n",
    "for (let i = 0; i < a_list.length; i++) {\n",
    "    console.log(a_list[i]);\n",
    "}\n"
   ]
  },
  {
   "cell_type": "code",
   "execution_count": 3,
   "metadata": {},
   "outputs": [
    {
     "name": "stdout",
     "output_type": "stream",
     "text": [
      "Second element: pencil\n",
      "Updated list after deleting second element: ['book', 'pen', 'computer']\n"
     ]
    }
   ],
   "source": [
    "# 10.2 Popcorn Hack\n",
    "\n",
    "def secondElementfunc(aList):\n",
    "    if len(aList) >= 2:\n",
    "        print(f\"Second element: {aList[1]}\")\n",
    "        del aList[1]\n",
    "        print(f\"Updated list after deleting second element: {aList}\")\n",
    "    else:\n",
    "        print(\"There is no second element in the list.\")\n",
    "\n",
    "# Example usage\n",
    "aList = [\"book\", \"pencil\", \"pen\", \"computer\"]\n",
    "secondElementfunc(aList)\n"
   ]
  },
  {
   "cell_type": "code",
   "execution_count": 5,
   "metadata": {
    "vscode": {
     "languageId": "javascript"
    }
   },
   "outputs": [
    {
     "data": {
      "application/javascript": "\n/* 10.2 Popcorn Hack Javascript */\n\nfunction secondElementfunc(aList) {\n    if (aList.length >= 2) {\n        console.log(\"Second element:\", aList[1]);\n        aList.splice(1, 1);  // Delete the second element\n        console.log(\"Updated list after deleting second element:\", aList);\n    } else {\n        console.log(\"There is no second element in the list.\");\n    }\n}\n\n// Example usage\nlet aList = [\"book\", \"pencil\", \"pen\", \"computer\"];\nsecondElementfunc(aList);\n",
      "text/plain": [
       "<IPython.core.display.Javascript object>"
      ]
     },
     "metadata": {},
     "output_type": "display_data"
    }
   ],
   "source": [
    "%%javascript\n",
    "\n",
    "/* 10.2 Popcorn Hack Javascript */\n",
    "\n",
    "function secondElementfunc(aList) {\n",
    "    if (aList.length >= 2) {\n",
    "        console.log(\"Second element:\", aList[1]);\n",
    "        aList.splice(1, 1);  // Delete the second element\n",
    "        console.log(\"Updated list after deleting second element:\", aList);\n",
    "    } else {\n",
    "        console.log(\"There is no second element in the list.\");\n",
    "    }\n",
    "}\n",
    "\n",
    "// Example usage\n",
    "let aList = [\"book\", \"pencil\", \"pen\", \"computer\"];\n",
    "secondElementfunc(aList);"
   ]
  },
  {
   "cell_type": "code",
   "execution_count": 7,
   "metadata": {},
   "outputs": [
    {
     "name": "stdout",
     "output_type": "stream",
     "text": [
      "Favorite foods: ['pizza', 'quesadilla', 'ice cream', 'pasta', 'tacos', 'samosa', 'cookie']\n",
      "Total number of items: 7\n"
     ]
    }
   ],
   "source": [
    "# 10.3 Popcorn Hack\n",
    "\n",
    "# Create a list of favorite foods\n",
    "favorite_foods = [\"pizza\", \"quesadilla\", \"ice cream\", \"pasta\", \"tacos\"]\n",
    "\n",
    "# Add two more items to the list\n",
    "favorite_foods.append(\"samosa\")\n",
    "favorite_foods.append(\"cookie\")\n",
    "\n",
    "# Print the list\n",
    "print(\"Favorite foods:\", favorite_foods)\n",
    "\n",
    "# Find and print the total number of items in the list\n",
    "print(\"Total number of items:\", len(favorite_foods))\n"
   ]
  },
  {
   "cell_type": "code",
   "execution_count": null,
   "metadata": {
    "vscode": {
     "languageId": "javascript"
    }
   },
   "outputs": [],
   "source": [
    "%%javascript\n",
    "\n",
    "/* 10.3 Popcorn Hack Javascript*/\n",
    "\n",
    "let favorite_foods = [\"pizza\", \"quesadilla\", \"ice cream\", \"pasta\", \"tacos\"];\n",
    "\n",
    "// Add two more items to the list\n",
    "favorite_foods.push(\"samosa\");\n",
    "favorite_foods.push(\"cookie\");\n",
    "\n",
    "// Print the list\n",
    "console.log(\"Favorite foods:\", favorite_foods);\n",
    "\n",
    "// Find and print the total number of items in the list\n",
    "console.log(\"Total number of items:\", favorite_foods.length);"
   ]
  },
  {
   "cell_type": "code",
   "execution_count": 10,
   "metadata": {},
   "outputs": [
    {
     "name": "stdout",
     "output_type": "stream",
     "text": [
      "Sum of even numbers: 30\n"
     ]
    }
   ],
   "source": [
    "# 10.4 Python Popcorn Hack\n",
    "nums = [1, 2, 3, 4, 5, 6, 7, 8, 9, 10]\n",
    "\n",
    "sum_evens = 0\n",
    "\n",
    "for num in nums:\n",
    "    if num % 2 == 0:  # Check if the number is even\n",
    "        sum_evens += num\n",
    "print(\"Sum of even numbers:\", sum_evens)\n"
   ]
  },
  {
   "cell_type": "code",
   "execution_count": 11,
   "metadata": {
    "vscode": {
     "languageId": "javascript"
    }
   },
   "outputs": [
    {
     "data": {
      "application/javascript": "\nlet nums = [1, 2, 3, 4, 5, 6, 7, 8, 9, 10];\n\nlet sum_evens = 0;\n\nfor (let num of nums) {\n    if (num % 2 === 0) {  // Check if the number is even\n        sum_evens += num;\n    }\n}\n\nconsole.log(\"Sum of even numbers:\", sum_evens);\n",
      "text/plain": [
       "<IPython.core.display.Javascript object>"
      ]
     },
     "metadata": {},
     "output_type": "display_data"
    }
   ],
   "source": [
    "%%javascript\n",
    "\n",
    "let nums = [1, 2, 3, 4, 5, 6, 7, 8, 9, 10];\n",
    "\n",
    "let sum_evens = 0;\n",
    "\n",
    "for (let num of nums) {\n",
    "    if (num % 2 === 0) {  // Check if the number is even\n",
    "        sum_evens += num;\n",
    "    }\n",
    "}\n",
    "\n",
    "console.log(\"Sum of even numbers:\", sum_evens);\n"
   ]
  },
  {
   "cell_type": "code",
   "execution_count": 12,
   "metadata": {},
   "outputs": [
    {
     "name": "stdout",
     "output_type": "stream",
     "text": [
      "Banana is in the list.\n"
     ]
    }
   ],
   "source": [
    "# 10.4 Python Popcorn Hack\n",
    "\n",
    "fruits = [\"apple\", \"orange\", \"banana\", \"grape\", \"pear\"]\n",
    "\n",
    "if \"banana\" in fruits:\n",
    "    print(\"Banana is in the list.\")\n",
    "else:\n",
    "    print(\"Banana is not in the list.\")"
   ]
  },
  {
   "cell_type": "code",
   "execution_count": 14,
   "metadata": {
    "vscode": {
     "languageId": "javascript"
    }
   },
   "outputs": [
    {
     "data": {
      "application/javascript": "\n/* 10.4 Popcorn Hack Javascript */\n\nlet fruits = [\"apple\", \"orange\", \"banana\", \"grape\", \"pear\"];\n\nif (fruits.includes(\"banana\")) {\n    console.log(\"Banana is in the list.\");\n} else {\n    console.log(\"Banana is not in the list.\");\n}\n",
      "text/plain": [
       "<IPython.core.display.Javascript object>"
      ]
     },
     "metadata": {},
     "output_type": "display_data"
    }
   ],
   "source": [
    "%%javascript\n",
    "\n",
    "/* 10.4 Popcorn Hack Javascript */\n",
    "\n",
    "let fruits = [\"apple\", \"orange\", \"banana\", \"grape\", \"pear\"];\n",
    "\n",
    "if (fruits.includes(\"banana\")) {\n",
    "    console.log(\"Banana is in the list.\");\n",
    "} else {\n",
    "    console.log(\"Banana is not in the list.\");\n",
    "}"
   ]
  },
  {
   "cell_type": "code",
   "execution_count": 15,
   "metadata": {},
   "outputs": [
    {
     "name": "stdout",
     "output_type": "stream",
     "text": [
      "Second element: 20\n"
     ]
    }
   ],
   "source": [
    "# Homework Hack 1\n",
    "\n",
    "nums = [10, 20, 30, 40, 50]\n",
    "\n",
    "print(\"Second element:\", nums[1])\n"
   ]
  },
  {
   "cell_type": "code",
   "execution_count": 16,
   "metadata": {
    "vscode": {
     "languageId": "javascript"
    }
   },
   "outputs": [
    {
     "data": {
      "application/javascript": "\n/* Homework Hack 1 in Javascript */ \nlet numbers = [10, 20, 30, 40, 50];\nconsole.log(\"Second element:\", numbers[1]);\n",
      "text/plain": [
       "<IPython.core.display.Javascript object>"
      ]
     },
     "metadata": {},
     "output_type": "display_data"
    }
   ],
   "source": [
    "%%javascript\n",
    "\n",
    "/* Homework Hack 2 in Javascript */\n",
    " \n",
    "let numbers = [10, 20, 30, 40, 50];\n",
    "console.log(\"Second element:\", numbers[1]);\n"
   ]
  },
  {
   "cell_type": "code",
   "execution_count": 17,
   "metadata": {},
   "outputs": [
    {
     "name": "stdout",
     "output_type": "stream",
     "text": [
      "\n",
      "To-Do List Menu:\n",
      "1. Add an item\n",
      "2. Remove an item\n",
      "3. View items\n",
      "4. Exit\n",
      "'homework' has been added to your to-do list.\n",
      "\n",
      "To-Do List Menu:\n",
      "1. Add an item\n",
      "2. Remove an item\n",
      "3. View items\n",
      "4. Exit\n",
      "\n",
      "Your To-Do List:\n",
      "1. homework\n",
      "\n",
      "To-Do List Menu:\n",
      "1. Add an item\n",
      "2. Remove an item\n",
      "3. View items\n",
      "4. Exit\n",
      "'homework' has been removed from your to-do list.\n",
      "\n",
      "To-Do List Menu:\n",
      "1. Add an item\n",
      "2. Remove an item\n",
      "3. View items\n",
      "4. Exit\n",
      "Exiting the to-do list program. Goodbye!\n"
     ]
    }
   ],
   "source": [
    "#Homework Hack 3 \n",
    "\n",
    "def display_menu():\n",
    "    print(\"\\nTo-Do List Menu:\")\n",
    "    print(\"1. Add an item\")\n",
    "    print(\"2. Remove an item\")\n",
    "    print(\"3. View items\")\n",
    "    print(\"4. Exit\")\n",
    "\n",
    "def main():\n",
    "    todo_list = []\n",
    "\n",
    "    while True:\n",
    "        display_menu()\n",
    "        choice = input(\"Choose an option (1-4): \")\n",
    "\n",
    "        if choice == '1':\n",
    "            item = input(\"Enter the item to add: \")\n",
    "            todo_list.append(item)\n",
    "            print(f\"'{item}' has been added to your to-do list.\")\n",
    "\n",
    "        elif choice == '2':\n",
    "            item = input(\"Enter the item to remove: \")\n",
    "            if item in todo_list:\n",
    "                todo_list.remove(item)\n",
    "                print(f\"'{item}' has been removed from your to-do list.\")\n",
    "            else:\n",
    "                print(f\"'{item}' not found in your to-do list.\")\n",
    "\n",
    "        elif choice == '3':\n",
    "            if todo_list:\n",
    "                print(\"\\nYour To-Do List:\")\n",
    "                for idx, item in enumerate(todo_list, start=1):\n",
    "                    print(f\"{idx}. {item}\")\n",
    "            else:\n",
    "                print(\"Your to-do list is empty.\")\n",
    "\n",
    "        elif choice == '4':\n",
    "            print(\"Exiting the to-do list program. Goodbye!\")\n",
    "            break\n",
    "\n",
    "        else:\n",
    "            print(\"Invalid option. Please choose a valid option (1-4).\")\n",
    "\n",
    "if __name__ == \"__main__\":\n",
    "    main()\n"
   ]
  },
  {
   "cell_type": "code",
   "execution_count": 19,
   "metadata": {
    "vscode": {
     "languageId": "javascript"
    }
   },
   "outputs": [
    {
     "data": {
      "application/javascript": "\n// Function to display the menu\nfunction displayMenu() {\n    console.log(\"\\nWorkout Tracker Menu:\");\n    console.log(\"1. Log a workout\");\n    console.log(\"2. View workouts\");\n    console.log(\"3. Exit\");\n}\n\n// Main function\nfunction main() {\n    const workouts = [];\n    let running = true;\n\n    while (running) {\n        displayMenu();\n        const choice = prompt(\"Choose an option (1-3):\");\n\n        switch (choice) {\n            case '1': // Log a workout\n                const type = prompt(\"Enter the type of workout (e.g., Running, Cycling):\");\n                const duration = prompt(\"Enter the duration of the workout (in minutes):\");\n                const calories = prompt(\"Enter the calories burned:\");\n\n                const workout = {\n                    type: type,\n                    duration: parseInt(duration),\n                    calories: parseInt(calories)\n                };\n\n                workouts.push(workout);\n                console.log(`Logged: ${type} for ${duration} minutes, burning ${calories} calories.`);\n                break;\n\n            case '2': // View workouts\n                if (workouts.length > 0) {\n                    console.log(\"\\nYour Workouts:\");\n                    workouts.forEach((workout, index) => {\n                        console.log(`${index + 1}. Type: ${workout.type}, Duration: ${workout.duration} minutes, Calories: ${workout.calories}`);\n                    });\n                } else {\n                    console.log(\"No workouts logged yet.\");\n                }\n                break;\n\n            case '3': // Exit\n                console.log(\"Exiting the workout tracker. Goodbye!\");\n                running = false;\n                break;\n\n            default:\n                console.log(\"Invalid option. Please choose a valid option (1-3).\");\n                break;\n        }\n    }\n}\n\n// Run the program\nmain();\n",
      "text/plain": [
       "<IPython.core.display.Javascript object>"
      ]
     },
     "metadata": {},
     "output_type": "display_data"
    }
   ],
   "source": [
    "%%javascript\n",
    "\n",
    "// Function to display the menu\n",
    "function displayMenu() {\n",
    "    console.log(\"\\nWorkout Tracker Menu:\");\n",
    "    console.log(\"1. Log a workout\");\n",
    "    console.log(\"2. View workouts\");\n",
    "    console.log(\"3. Exit\");\n",
    "}\n",
    "\n",
    "// Main function\n",
    "function main() {\n",
    "    const workouts = [];\n",
    "    let running = true;\n",
    "\n",
    "    while (running) {\n",
    "        displayMenu();\n",
    "        const choice = prompt(\"Choose an option (1-3):\");\n",
    "\n",
    "        switch (choice) {\n",
    "            case '1': // Log a workout\n",
    "                const type = prompt(\"Enter the type of workout (e.g., Running, Cycling):\");\n",
    "                const duration = prompt(\"Enter the duration of the workout (in minutes):\");\n",
    "                const calories = prompt(\"Enter the calories burned:\");\n",
    "\n",
    "                const workout = {\n",
    "                    type: type,\n",
    "                    duration: parseInt(duration),\n",
    "                    calories: parseInt(calories)\n",
    "                };\n",
    "\n",
    "                workouts.push(workout);\n",
    "                console.log(`Logged: ${type} for ${duration} minutes, burning ${calories} calories.`);\n",
    "                break;\n",
    "\n",
    "            case '2': // View workouts\n",
    "                if (workouts.length > 0) {\n",
    "                    console.log(\"\\nYour Workouts:\");\n",
    "                    workouts.forEach((workout, index) => {\n",
    "                        console.log(`${index + 1}. Type: ${workout.type}, Duration: ${workout.duration} minutes, Calories: ${workout.calories}`);\n",
    "                    });\n",
    "                } else {\n",
    "                    console.log(\"No workouts logged yet.\");\n",
    "                }\n",
    "                break;\n",
    "\n",
    "            case '3': // Exit\n",
    "                console.log(\"Exiting the workout tracker. Goodbye!\");\n",
    "                running = false;\n",
    "                break;\n",
    "\n",
    "            default:\n",
    "                console.log(\"Invalid option. Please choose a valid option (1-3).\");\n",
    "                break;\n",
    "        }\n",
    "    }\n",
    "}\n",
    "\n",
    "// Run the program\n",
    "main();\n"
   ]
  }
 ],
 "metadata": {
  "kernelspec": {
   "display_name": "venv",
   "language": "python",
   "name": "python3"
  },
  "language_info": {
   "codemirror_mode": {
    "name": "ipython",
    "version": 3
   },
   "file_extension": ".py",
   "mimetype": "text/x-python",
   "name": "python",
   "nbconvert_exporter": "python",
   "pygments_lexer": "ipython3",
   "version": "3.12.3"
  },
  "orig_nbformat": 4
 },
 "nbformat": 4,
 "nbformat_minor": 2
}
