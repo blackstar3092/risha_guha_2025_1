{
 "cells": [
  {
   "cell_type": "raw",
   "metadata": {
    "vscode": {
     "languageId": "raw"
    }
   },
   "source": [
    "---\n",
    "layout: post\n",
    "title: 3.4 Hacks\n",
    "description: Python and Javascript Popcorn and Homework Hacks for 3.4\n",
    "categories: [Javascript]\n",
    "permalink: /sprint/2/hacks_3-4\n",
    "type: ccc\n",
    "author: Risha Guha\n",
    "menu: nav/sprint_2.html\n",
    "---"
   ]
  },
  {
   "cell_type": "markdown",
   "metadata": {},
   "source": [
    "## Python Popcorn and Homework Hacks"
   ]
  },
  {
   "cell_type": "code",
   "execution_count": 1,
   "metadata": {},
   "outputs": [
    {
     "name": "stdout",
     "output_type": "stream",
     "text": [
      "The title 'Levitating' appears 12 times.\n",
      "The 50th word is 'like'.\n",
      "First and last verse have been swapped.\n",
      "New song part created by concatenating two verses.\n",
      " I got you, moonlight, you're my starlight (you are my starlight) I need you all night, come on, dance with me (come on, dance with me, baby) I'm levitating You, moonlight, you're my starlight (you're the moonlight) I need you all night, come on, dance with me I'm levitating\n",
      "\n",
      " You want me, I want you, baby My sugarboo, I'm levitating The Milky Way, we're renegading Yeah, yeah, yeah, yeah, yeah I got you, moonlight, you're my starlight I need you all night, come on, dance with me I'm levitating You, moonlight, you're my starlight (you're the moonlight) I need you all night, come on, dance with me I'm levitating \n"
     ]
    }
   ],
   "source": [
    "#Popcorn Hack 1\n",
    "\n",
    "lyrics = \"If you wanna run away with me, I know a galaxy And I can take you for a ride I had a premonition that we fell into a rhythm Where the music don't stop for life Glitter in the sky, glitter in my eyes Shining just the way I like If you're feeling like you need a little bit of company You met me at the perfect time \\n You want me, I want you, baby My sugarboo, I'm levitating The Milky Way, we're renegading Yeah, yeah, yeah, yeah, yeah I got you, moonlight, you're my starlight I need you all night, come on, dance with me I'm levitating You, moonlight, you're my starlight (you're the moonlight) I need you all night, come on, dance with me I'm levitating \\n I believe that you're for me, I feel it in our energy I see us written in the stars We can go wherever, so let's do it now or never, baby Nothing's ever, ever too far Glitter in the sky, glitter in our eyes Shining just the way we are I feel like we're forever, every time we get together But whatever, let's get lost on Mars \\n You want me, I want you, baby My sugarboo, I'm levitating The Milky Way, we're renegading Yeah, yeah, yeah, yeah, yeah I got you, moonlight, you're my starlight I need you all night, come on, dance with me I'm levitating You, moonlight, you're my starlight (you're the moonlight) I need you all night, come on, dance with me I'm levitating (whoo) \\n You can fly away with me tonight You can fly away with me tonight Baby, let me take you for a ride Yeah, yeah, yeah, yeah, yeah I'm levitating (whoo) You can fly away with me tonight You can fly away with me tonight Baby, let me take you for a ride Yeah, yeah, yeah, yeah, yeah (whoo) \\n My love is like a rocket, watch it blast off And I'm feeling so electric, dance my __ off And even if I wanted to, I can't stop Yeah, yeah, yeah, yeah, yeah \\n My love is like a rocket, watch it blast off And I'm feeling so electric, dance my __ off And even if I wanted to, I can't stop Yeah, yeah, yeah, yeah, yeah \\n You want me, I want you, baby My sugarboo, I'm levitating The Milky Way, we're renegading I got you (yeah), moonlight, you're my starlight I need you all night (all night), come on, dance with me I'm levitating (whoo) \\n You can fly away with me tonight (tonight) You can fly away with me tonight Baby, let me take you for a ride Yeah, yeah, yeah, yeah, yeah (take you for a ride) I'm levitating (whoo) You can fly away with me tonight (tonight) You can fly away with me tonight Baby, let me take you for a ride Yeah, yeah, yeah, yeah, yeah (let me take you for a ride) \\n I got you, moonlight, you're my starlight (you are my starlight) I need you all night, come on, dance with me (come on, dance with me, baby) I'm levitating You, moonlight, you're my starlight (you're the moonlight) I need you all night, come on, dance with me I'm levitating\"\n",
    "\n",
    "song_title = \"Levitating\"\n",
    "\n",
    "title_count = lyrics.lower().count(song_title.lower())\n",
    "print(f\"The title '{song_title}' appears {title_count} times.\")\n",
    "\n",
    "words = lyrics.split()\n",
    "\n",
    "if len(words) >= 50:\n",
    "    word_50th = words[49] \n",
    "    print(f\"The 50th word is '{word_50th}'.\")\n",
    "else:\n",
    "    print(\"The lyrics have fewer than 50 words.\")\n",
    "\n",
    "\n",
    "verses = lyrics.split(\"\\n\") \n",
    "verses[0], verses[-1] = verses[-1], verses[0] \n",
    "new_lyrics = \"\\n\\n\".join(verses)\n",
    "print(\"First and last verse have been swapped.\")\n",
    "\n",
    "new_song_part = verses[0] + \"\\n\\n\" + verses[1]\n",
    "print(\"New song part created by concatenating two verses.\")\n",
    "print(new_song_part)\n"
   ]
  },
  {
   "cell_type": "markdown",
   "metadata": {},
   "source": [
    "##  Javascript Popcorn and Homework Hacks"
   ]
  },
  {
   "cell_type": "code",
   "execution_count": 2,
   "metadata": {
    "vscode": {
     "languageId": "javascript"
    }
   },
   "outputs": [
    {
     "data": {
      "application/javascript": "\n/* Popcorn Hack 1 */\n\nconst flower = \"Lily\";\nconst animal = \"Dragon\";\n\nconst newCreature = `${flower}${animal}`;\n\nconsole.log(\"The new creature is called a '\" + newCreature + \"'.\");\n\nconst friend1 = \"Vibha\";\nconst friend2 = \"Ava\";\nconst creature = newCreature;\nconst forest = \"CSP Forest\";\n\nconst story = `\nIn the middle of the desolate ${forest}, ${friend1} and ${friend2} stumbled upon a strange computer. Naturally, they pressed a button on the computer in the middle of the abandoned forest!\n\n\"Did you hear that?\" ${friend2} whispered.\n\n\"It looks like we summoned a ${creature}!\" ${friend1} gasped, holding the computer. \"I've read about them in the ancient Github archives, but I never thought I'd see one.\"\n\nSuddenly, the ${creature} flew into view. Its shiny dragon-like scales gleamed in the light, and its mane bloomed like a field of lillies. Its eyes, sharp yet oddly peaceful, fixed on the two adventurers.\n\nThe ${creature} roared, and the two friends ran out of the ${forest}, never to return.\n`;\n\nconsole.log(story);\n",
      "text/plain": [
       "<IPython.core.display.Javascript object>"
      ]
     },
     "metadata": {},
     "output_type": "display_data"
    }
   ],
   "source": [
    "%%javascript\n",
    "\n",
    "/* Popcorn Hack 1 */\n",
    "\n",
    "const flower = \"Lily\";\n",
    "const animal = \"Dragon\";\n",
    "\n",
    "const newCreature = `${flower}${animal}`;\n",
    "\n",
    "console.log(\"The new creature is called a '\" + newCreature + \"'.\");\n",
    "\n",
    "const friend1 = \"Vibha\";\n",
    "const friend2 = \"Ava\";\n",
    "const creature = newCreature;\n",
    "const forest = \"CSP Forest\";\n",
    "\n",
    "const story = `\n",
    "In the middle of the desolate ${forest}, ${friend1} and ${friend2} stumbled upon a strange computer. Naturally, they pressed a button on the computer in the middle of the abandoned forest!\n",
    "\n",
    "\"Did you hear that?\" ${friend2} whispered.\n",
    "\n",
    "\"It looks like we summoned a ${creature}!\" ${friend1} gasped, holding the computer. \"I've read about them in the ancient Github archives, but I never thought I'd see one.\"\n",
    "\n",
    "Suddenly, the ${creature} flew into view. Its shiny dragon-like scales gleamed in the light, and its mane bloomed like a field of lillies. Its eyes, sharp yet oddly peaceful, fixed on the two adventurers.\n",
    "\n",
    "The ${creature} roared, and the two friends ran out of the ${forest}, never to return.\n",
    "`;\n",
    "\n",
    "console.log(story);\n"
   ]
  },
  {
   "cell_type": "code",
   "execution_count": 3,
   "metadata": {
    "vscode": {
     "languageId": "javascript"
    }
   },
   "outputs": [
    {
     "data": {
      "application/javascript": "\n/* Homework Hack 1 */\n\nfunction analyzeText() {\n    let inputText = document.getElementById('inputText').value.trim();\n    \n    console.log(`Original String:\\n${inputText}`);\n    \n    let totalCharacters = inputText.length;\n    console.log(`Total Characters (including spaces): ${totalCharacters}`);\n    \n    let words = inputText.match(/\\b\\w+\\b/g); \n    if (!words) {\n        words = [];\n    }\n    \n    let longestWord = \"\";\n    words.forEach(word => {\n        if (word.length > longestWord.length) {\n            longestWord = word;\n        }\n    });\n    console.log(`Longest Word: '${longestWord}' (Length: ${longestWord.length})`);\n    \n    let reversedString = inputText.split('').reverse().join('');\n    console.log(`Reversed String:\\n${reversedString}`);\n    \n    let middleIndex = Math.floor(words.length / 2);\n    let middleWord = words[middleIndex];\n    console.log(`Middle Word: '${middleWord}'`);\n    \n    document.getElementById('output').innerHTML = `\n        <p><strong>Original String:</strong><br>${inputText}</p>\n        <p><strong>Total Characters (including spaces):</strong> ${totalCharacters}</p>\n        <p><strong>Longest Word:</strong> '${longestWord}' (Length: ${longestWord.length})</p>\n        <p><strong>Reversed String:</strong><br>${reversedString}</p>\n        <p><strong>Middle Word:</strong> '${middleWord}'</p>\n    `;\n}\n\n",
      "text/plain": [
       "<IPython.core.display.Javascript object>"
      ]
     },
     "metadata": {},
     "output_type": "display_data"
    }
   ],
   "source": [
    "%%javascript\n",
    "\n",
    "/* Homework Hack 1 */\n",
    "\n",
    "function analyzeText() {\n",
    "    let inputText = document.getElementById('inputText').value.trim();\n",
    "    \n",
    "    console.log(`Original String:\\n${inputText}`);\n",
    "    \n",
    "    let totalCharacters = inputText.length;\n",
    "    console.log(`Total Characters (including spaces): ${totalCharacters}`);\n",
    "    \n",
    "    let words = inputText.match(/\\b\\w+\\b/g); \n",
    "    if (!words) {\n",
    "        words = [];\n",
    "    }\n",
    "    \n",
    "    let longestWord = \"\";\n",
    "    words.forEach(word => {\n",
    "        if (word.length > longestWord.length) {\n",
    "            longestWord = word;\n",
    "        }\n",
    "    });\n",
    "    console.log(`Longest Word: '${longestWord}' (Length: ${longestWord.length})`);\n",
    "    \n",
    "    let reversedString = inputText.split('').reverse().join('');\n",
    "    console.log(`Reversed String:\\n${reversedString}`);\n",
    "    \n",
    "    let middleIndex = Math.floor(words.length / 2);\n",
    "    let middleWord = words[middleIndex];\n",
    "    console.log(`Middle Word: '${middleWord}'`);\n",
    "    \n",
    "    document.getElementById('output').innerHTML = `\n",
    "        <p><strong>Original String:</strong><br>${inputText}</p>\n",
    "        <p><strong>Total Characters (including spaces):</strong> ${totalCharacters}</p>\n",
    "        <p><strong>Longest Word:</strong> '${longestWord}' (Length: ${longestWord.length})</p>\n",
    "        <p><strong>Reversed String:</strong><br>${reversedString}</p>\n",
    "        <p><strong>Middle Word:</strong> '${middleWord}'</p>\n",
    "    `;\n",
    "}\n",
    "\n"
   ]
  }
 ],
 "metadata": {
  "kernelspec": {
   "display_name": "venv",
   "language": "python",
   "name": "python3"
  },
  "language_info": {
   "codemirror_mode": {
    "name": "ipython",
    "version": 3
   },
   "file_extension": ".py",
   "mimetype": "text/x-python",
   "name": "python",
   "nbconvert_exporter": "python",
   "pygments_lexer": "ipython3",
   "version": "3.12.3"
  },
  "orig_nbformat": 4
 },
 "nbformat": 4,
 "nbformat_minor": 2
}
