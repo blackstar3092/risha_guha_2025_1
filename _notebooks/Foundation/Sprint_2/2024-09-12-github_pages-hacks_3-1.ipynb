{
 "cells": [
  {
   "cell_type": "raw",
   "metadata": {
    "vscode": {
     "languageId": "raw"
    }
   },
   "source": [
    "---\n",
    "layout: post\n",
    "title: 3.1 Hacks\n",
    "description: Python and Javascript Popcorn and Homework Hacks for 3.1\n",
    "categories: [Javascript]\n",
    "permalink: /sprint/2/hacks_3-1\n",
    "type: ccc\n",
    "author: Risha Guha\n",
    "menu: nav/sprint_2.html\n",
    "---"
   ]
  },
  {
   "cell_type": "markdown",
   "metadata": {},
   "source": [
    "## Python Popcorn and Homework Hacks"
   ]
  },
  {
   "cell_type": "code",
   "execution_count": 1,
   "metadata": {},
   "outputs": [
    {
     "name": "stdout",
     "output_type": "stream",
     "text": [
      "CSP Group is: Risha Vibha and Ava\n"
     ]
    }
   ],
   "source": [
    "#Popcorn Hack 1\n",
    "\n",
    "player_one = \"Risha\"\n",
    "player_two = \"Vibha\"\n",
    "player_three = \"Ava\"\n",
    "\n",
    "print(\"CSP Group is: \" + player_one + \" \" + player_two + \" and \" + player_three)"
   ]
  },
  {
   "cell_type": "code",
   "execution_count": 2,
   "metadata": {},
   "outputs": [
    {
     "name": "stdout",
     "output_type": "stream",
     "text": [
      "A blueberry is blue\n"
     ]
    }
   ],
   "source": [
    "#Popcorn Hack 2\n",
    "\n",
    "fruits = {\n",
    "    \"apple\": \"red\",\n",
    "    \"orange\": \"orange\",\n",
    "    \"banana\": \"yellow\",\n",
    "    \"blueberry\": \"blue\"\n",
    "}\n",
    "\n",
    "print (\"A blueberry is \" + fruits[\"blueberry\"] )"
   ]
  },
  {
   "cell_type": "markdown",
   "metadata": {},
   "source": [
    "##  Javascript Popcorn and Homework Hacks"
   ]
  },
  {
   "cell_type": "code",
   "execution_count": 3,
   "metadata": {
    "vscode": {
     "languageId": "javascript"
    }
   },
   "outputs": [
    {
     "data": {
      "application/javascript": "\n/* Popcorn Hack 1 */\n\nlet array = [\n    \"this is a string\",\n    94,\n    true,\n    [3, 6, 9]\n]\n\nconsole.log(\"Mixed Array: \", mixedArray)\n",
      "text/plain": [
       "<IPython.core.display.Javascript object>"
      ]
     },
     "metadata": {},
     "output_type": "display_data"
    }
   ],
   "source": [
    "%%javascript\n",
    "\n",
    "/* Popcorn Hack 1 */\n",
    "\n",
    "let array = [\n",
    "    \"this is a string\",\n",
    "    94,\n",
    "    true,\n",
    "    [3, 6, 9]\n",
    "]\n",
    "\n",
    "console.log(\"Mixed Array: \", mixedArray)"
   ]
  },
  {
   "cell_type": "code",
   "execution_count": 4,
   "metadata": {
    "vscode": {
     "languageId": "javascript"
    }
   },
   "outputs": [
    {
     "data": {
      "application/javascript": "\n/* Homework Hack 1 */\n\nlet Class = \"CSP\";\nlet period = 4;\nlet isStudent = true;\nconst schoolName = \"Del Norte High School\";\n\nconsole.log(\"Class taken: \" + Class);\nconsole.log(\"Period: \" + period);\nconsole.log(\"Is Student: \" + isStudent);\nconsole.log(\"School Name: \" + schoolName);\n\nfunction introduceClass() {\n    let introduction = `The class I am taking is ${Class}, I am in Period ${period} and this class is being taken at ${schoolName}. Am I a student? ${isStudent}.`;\n    console.log(introduction);\n}\nintroduceClass();\n",
      "text/plain": [
       "<IPython.core.display.Javascript object>"
      ]
     },
     "metadata": {},
     "output_type": "display_data"
    }
   ],
   "source": [
    "%%javascript\n",
    "\n",
    "/* Homework Hack 1 */\n",
    "\n",
    "let Class = \"CSP\";\n",
    "let period = 4;\n",
    "let isStudent = true;\n",
    "const schoolName = \"Del Norte High School\";\n",
    "\n",
    "console.log(\"Class taken: \" + Class);\n",
    "console.log(\"Period: \" + period);\n",
    "console.log(\"Is Student: \" + isStudent);\n",
    "console.log(\"School Name: \" + schoolName);\n",
    "\n",
    "function introduceClass() {\n",
    "    let introduction = `The class I am taking is ${Class}, I am in Period ${period} and this class is being taken at ${schoolName}. Am I a student? ${isStudent}.`;\n",
    "    console.log(introduction);\n",
    "}\n",
    "introduceClass();\n"
   ]
  },
  {
   "cell_type": "code",
   "execution_count": 5,
   "metadata": {
    "vscode": {
     "languageId": "javascript"
    }
   },
   "outputs": [
    {
     "data": {
      "application/javascript": "\n/* Homework Hack 2 */\n\nlet score1Math = 85;\nlet score1English = 90;\nlet score1Science = 85;\n\naverage = (score1Math + score1English + score1Science) / 3\n\nlet student = [\n    {\n        name: \"Student 1\",\n        age: 16,\n        averageGrade: student1Average\n    },\n];\n\nconsole.log(\"Student Information:\");\n\nconsole.log(`Name: ${student.name}, Age: ${student.age}, Average Grade: ${student.averageGrade}`);\n",
      "text/plain": [
       "<IPython.core.display.Javascript object>"
      ]
     },
     "metadata": {},
     "output_type": "display_data"
    }
   ],
   "source": [
    "%%javascript\n",
    "\n",
    "/* Homework Hack 2 */\n",
    "\n",
    "let score1Math = 85;\n",
    "let score1English = 90;\n",
    "let score1Science = 85;\n",
    "\n",
    "average = (score1Math + score1English + score1Science) / 3\n",
    "\n",
    "let student = [\n",
    "    {\n",
    "        name: \"Student 1\",\n",
    "        age: 16,\n",
    "        averageGrade: student1Average\n",
    "    },\n",
    "];\n",
    "\n",
    "console.log(\"Student Information:\");\n",
    "\n",
    "console.log(`Name: ${student.name}, Age: ${student.age}, Average Grade: ${student.averageGrade}`);"
   ]
  }
 ],
 "metadata": {
  "kernelspec": {
   "display_name": "venv",
   "language": "python",
   "name": "python3"
  },
  "language_info": {
   "codemirror_mode": {
    "name": "ipython",
    "version": 3
   },
   "file_extension": ".py",
   "mimetype": "text/x-python",
   "name": "python",
   "nbconvert_exporter": "python",
   "pygments_lexer": "ipython3",
   "version": "3.12.3"
  },
  "orig_nbformat": 4
 },
 "nbformat": 4,
 "nbformat_minor": 2
}
