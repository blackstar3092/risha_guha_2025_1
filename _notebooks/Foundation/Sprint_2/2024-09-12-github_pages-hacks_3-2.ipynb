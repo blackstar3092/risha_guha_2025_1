{
 "cells": [
  {
   "cell_type": "raw",
   "metadata": {
    "vscode": {
     "languageId": "raw"
    }
   },
   "source": [
    "---\n",
    "layout: post\n",
    "title: 3.2 Hacks\n",
    "description: Python and Javascript Popcorn and Homework Hacks for 3.2\n",
    "categories: [Javascript]\n",
    "permalink: /sprint/2/hacks_3-2\n",
    "type: ccc\n",
    "author: Risha Guha\n",
    "menu: nav/sprint_2.html\n",
    "---"
   ]
  },
  {
   "cell_type": "markdown",
   "metadata": {},
   "source": [
    "## Python Popcorn and Homework Hacks"
   ]
  },
  {
   "cell_type": "code",
   "execution_count": 1,
   "metadata": {},
   "outputs": [
    {
     "name": "stdout",
     "output_type": "stream",
     "text": [
      "Set is{1, 2, 3, 4, 5}\n",
      "New Set: {1, 2, 3, 4, 5, 6}\n",
      "New Set: {1, 3, 4, 5, 6}\n",
      "Union Set and Set B:{1, 3, 4, 5, 6, 7, 8, 9}\n",
      "Length of Set is 5\n"
     ]
    }
   ],
   "source": [
    "#Popcorn Hack 1\n",
    "\n",
    "set = {1,2,3,4,5}\n",
    "\n",
    "print(\"Set is\" + str(set))\n",
    "\n",
    "set.add(6)\n",
    "print(\"New Set: \" + str(set))\n",
    "\n",
    "set.remove(2)\n",
    "print(\"New Set: \" + str(set))\n",
    "\n",
    "set_b = {7,8,9}\n",
    "union = set.union(set_b)\n",
    "print(\"Union Set and Set B:\" + str(union))\n",
    "\n",
    "#BONUS: ###########\n",
    "\n",
    "print(\"Length of Set is \" + str(len(set)))\n",
    "\n",
    "set.clear()\n"
   ]
  },
  {
   "cell_type": "code",
   "execution_count": 2,
   "metadata": {},
   "outputs": [
    {
     "name": "stdout",
     "output_type": "stream",
     "text": [
      "26\n",
      "Python \n",
      "LEARNING PYTHON IS NOT FUN\n",
      "Learning Python is not good\n"
     ]
    }
   ],
   "source": [
    "# Popcorn Hack 2\n",
    "\n",
    "string = \"Learning Python is not fun\"\n",
    "\n",
    "print(str(len(string)))\n",
    "\n",
    "substring = string[9:16]\n",
    "print(substring)\n",
    "\n",
    "string_capital = string.upper()\n",
    "print(string_capital)\n",
    "\n",
    "replaced_string = string.replace(\"fun\", \"good\")\n",
    "print(replaced_string)"
   ]
  },
  {
   "cell_type": "code",
   "execution_count": 3,
   "metadata": {},
   "outputs": [
    {
     "name": "stdout",
     "output_type": "stream",
     "text": [
      "7\n",
      "[3, 6, 7, 9, 11]\n",
      "[3, 6, 7, 11, 13]\n"
     ]
    }
   ],
   "source": [
    "# Popcorn Hack 3\n",
    "\n",
    "list = [3, 5, 7, 9, 11]\n",
    "\n",
    "print(list[2])\n",
    "\n",
    "list[1]=6\n",
    "print(list)\n",
    "\n",
    "list.append(13)\n",
    "list.remove(list[3])\n",
    "\n",
    "print(list)\n"
   ]
  },
  {
   "cell_type": "code",
   "execution_count": 4,
   "metadata": {},
   "outputs": [
    {
     "name": "stdout",
     "output_type": "stream",
     "text": [
      "{'name': 'Risha', 'age': '15', 'favorite_subject': 'math', 'grade': 'sophomore'}\n",
      "My name is Risha\n",
      "4\n",
      "<class 'dict'>\n"
     ]
    }
   ],
   "source": [
    "# Popcorn Hack 4\n",
    "\n",
    "dictionary_personal = {\n",
    "    \"name\": \"Risha\",\n",
    "    \"age\": \"15\",\n",
    "    \"favorite_subject\": \"math\",\n",
    "    \"grade\": \"sophomore\"\n",
    "}\n",
    "\n",
    "print(dictionary_personal)\n",
    "\n",
    "print(\"My name is \" + dictionary_personal[\"name\"])\n",
    "\n",
    "print(len(dictionary_personal))\n",
    "\n",
    "print(type(dictionary_personal))"
   ]
  },
  {
   "cell_type": "code",
   "execution_count": 5,
   "metadata": {},
   "outputs": [
    {
     "name": "stdout",
     "output_type": "stream",
     "text": [
      "['piano', 'cybersecurity', 'badminton']\n",
      "{'full_name': 'Risha Guha', 'years': 15, 'location': 'San Diego', 'favorite_food': 'pasta', 'activities': ['piano', 'cybersecurity', 'badminton']}\n",
      "Is badminton available today? False\n",
      "I have 3 activities.\n",
      "('piano', 'badminton')\n",
      "{'logic', 'math', 'writing'}\n",
      "None\n",
      "total cost: $45\n"
     ]
    }
   ],
   "source": [
    "# Homework Hack 1\n",
    "\n",
    "personal_info = {\n",
    "    \"full_name\": \"Risha Guha\",\n",
    "    \"years\": 15,\n",
    "    \"location\": \"San Diego\",\n",
    "    \"favorite_food\": \"pasta\"\n",
    "}\n",
    "\n",
    "# Homework Hack 2\n",
    "\n",
    "activities = [\"piano\", \"cybersecurity\", \"badminton\"]\n",
    "print(activities)\n",
    "\n",
    "# Homework Hack 3\n",
    "personal_info[\"activities\"] = activities\n",
    "\n",
    "print(personal_info)\n",
    "\n",
    "# Homework Hack 4\n",
    "# Activity is Badminton\n",
    "activity_available = False\n",
    "\n",
    "print(\"Is badminton available today? \" + str(activity_available))\n",
    "\n",
    "# Homework Hack 5\n",
    "\n",
    "total_activities = len(activities)\n",
    "print(\"I have \" + str(total_activities) + \" activities.\")\n",
    "\n",
    "# Homework Hack 6\n",
    "\n",
    "favorite_activites = (\"piano\", \"badminton\")\n",
    "print(favorite_activites)\n",
    "\n",
    "# Homework Hack 7\n",
    "\n",
    "skills = {\"logic\", \"math\", \"writing\"}\n",
    "print(skills)\n",
    "\n",
    "# Homework Hack 8\n",
    "\n",
    "new_skill = None\n",
    "\n",
    "print(new_skill)\n",
    "\n",
    "# Homework Hack 9\n",
    "\n",
    "total_cost = 5*len(activities) + 10*len(skills)\n",
    "print(\"total cost: $\" + str(total_cost))"
   ]
  },
  {
   "cell_type": "markdown",
   "metadata": {},
   "source": [
    "##  Javascript Popcorn and Homework Hacks"
   ]
  },
  {
   "cell_type": "code",
   "execution_count": 6,
   "metadata": {
    "vscode": {
     "languageId": "javascript"
    }
   },
   "outputs": [
    {
     "data": {
      "application/javascript": "\n/* Popcorn Hack 1 */\n\nlet set1 = new Set([1, 2, 3]);\n\nlet set2 = new Set([4, 5, 6]);\n\nconsole.log(\"set1:\", set1);\nconsole.log(\"set2:\", set2);\n\nset1.add(7);\nset1.delete(1);\n\nlet unionSet = new Set([...set1, ...set2]);\nconsole.log(\"Union of set1 and set2:\", unionSet);\n",
      "text/plain": [
       "<IPython.core.display.Javascript object>"
      ]
     },
     "metadata": {},
     "output_type": "display_data"
    }
   ],
   "source": [
    "%%javascript\n",
    "\n",
    "/* Popcorn Hack 1 */\n",
    "\n",
    "let set1 = new Set([1, 2, 3]);\n",
    "\n",
    "let set2 = new Set([4, 5, 6]);\n",
    "\n",
    "console.log(\"set1:\", set1);\n",
    "console.log(\"set2:\", set2);\n",
    "\n",
    "set1.add(7);\n",
    "set1.delete(1);\n",
    "\n",
    "let unionSet = new Set([...set1, ...set2]);\n",
    "console.log(\"Union of set1 and set2:\", unionSet);"
   ]
  },
  {
   "cell_type": "code",
   "execution_count": 7,
   "metadata": {
    "vscode": {
     "languageId": "javascript"
    }
   },
   "outputs": [
    {
     "data": {
      "application/javascript": "\n/* Popcorn Hack 2 */\n\nlet application = {\n    name: \"CS Kid\",\n    age: 21,\n    experiences: [\"Game Developer\", \"Intern\", \"Comp Sci Major\"],\n    money: 34000\n};\n\nconsole.log(\"Application:\", application);\nconsole.log(\"Money:\", application.money);\n",
      "text/plain": [
       "<IPython.core.display.Javascript object>"
      ]
     },
     "metadata": {},
     "output_type": "display_data"
    }
   ],
   "source": [
    "%%javascript\n",
    "\n",
    "/* Popcorn Hack 2 */\n",
    "\n",
    "let application = {\n",
    "    name: \"CS Kid\",\n",
    "    age: 21,\n",
    "    experiences: [\"Game Developer\", \"Intern\", \"Comp Sci Major\"],\n",
    "    money: 34000\n",
    "};\n",
    "\n",
    "console.log(\"Application:\", application);\n",
    "console.log(\"Money:\", application.money);\n"
   ]
  },
  {
   "cell_type": "code",
   "execution_count": 8,
   "metadata": {
    "vscode": {
     "languageId": "javascript"
    }
   },
   "outputs": [
    {
     "data": {
      "application/javascript": "\nfunction createApplication() {\n    let name = prompt(\"Name? \");\n    let age = prompt(\"Age?\");\n    let experiences = prompt(\"List your experiences (separated by commas)\");\n\n    let application = {\n        name: name,\n        age: age,\n        experiences: experiences.split(\",\")\n    };\n\n    console.log(\"Applicant's Information:\", application);\n}\n\ncreateApplication();\n",
      "text/plain": [
       "<IPython.core.display.Javascript object>"
      ]
     },
     "metadata": {},
     "output_type": "display_data"
    }
   ],
   "source": [
    "%%javascript\n",
    "\n",
    "/* Homework Hack 1 */\n",
    "\n",
    "function createApplication() {\n",
    "    let name = prompt(\"Name? \");\n",
    "    let age = prompt(\"Age?\");\n",
    "    let experiences = prompt(\"List your experiences (separated by commas)\");\n",
    "\n",
    "    let application = {\n",
    "        name: name,\n",
    "        age: age,\n",
    "        experiences: experiences.split(\",\")\n",
    "    };\n",
    "\n",
    "    console.log(\"Applicant's Information:\", application);\n",
    "}\n",
    "\n",
    "createApplication();\n"
   ]
  }
 ],
 "metadata": {
  "kernelspec": {
   "display_name": "venv",
   "language": "python",
   "name": "python3"
  },
  "language_info": {
   "codemirror_mode": {
    "name": "ipython",
    "version": 3
   },
   "file_extension": ".py",
   "mimetype": "text/x-python",
   "name": "python",
   "nbconvert_exporter": "python",
   "pygments_lexer": "ipython3",
   "version": "3.12.3"
  },
  "orig_nbformat": 4
 },
 "nbformat": 4,
 "nbformat_minor": 2
}
