{
 "cells": [
  {
   "cell_type": "raw",
   "metadata": {
    "vscode": {
     "languageId": "raw"
    }
   },
   "source": [
    "---\n",
    "layout: post\n",
    "title: Frontend Hacks\n",
    "description: Data Types, DOM, JavaScript, Input, Output, and Debugging Hacks\n",
    "categories: [Javascript]\n",
    "permalink: /github/pages/frontend-hacks\n",
    "type: ccc\n",
    "author: Risha Guha\n",
    "menu: nav/github_pages.html\n",
    "---"
   ]
  },
  {
   "cell_type": "markdown",
   "metadata": {},
   "source": [
    "\n",
    "# Hacks Below\n",
    "\n",
    "- HTML(see index.md)\n",
    "- Data Types\n",
    "- DOM\n",
    "- JavaScript\n",
    "- Input\n",
    "- Output\n",
    "- Debugging"
   ]
  },
  {
   "cell_type": "markdown",
   "metadata": {},
   "source": [
    "## Data Types Hacks"
   ]
  },
  {
   "cell_type": "code",
   "execution_count": 21,
   "metadata": {
    "vscode": {
     "languageId": "javascript"
    }
   },
   "outputs": [
    {
     "data": {
      "application/javascript": "\nconsole.log(\"Object: assigning key-value objects\");\nvar obj_risha = {\n    name: \"Risha\",\n    age: 15,\n    grade: 10,\n    classes: [\"AP Chemistry\", \"AP World History\", \"Honors Principles of Engineering\", \"AP Computer Science Principles\", \"AP Calculus BC\"],\n    interests: [\"Cybersecurity\", \"piano\", \"biking\"],\n    color_fav: [\"green\"],\n    food_fav: [\"pasta\"]\n};\n\n\n// print obj to the console\nconsole.log(obj_risha);\n\n// Changing favorite color from green to blue\nconsole.log(\"Object: mutating the key color_fav from green to blue\")\nobj_risha.color_fav = \"blue\"\nconsole.log(obj_risha);\nconsole.log(obj_risha.color_fav);\n\n\n// Calculating years until graduation\nconsole.log(\"Object: calculating # of years until graduation from grade key\")\nlet yearstograduation = 12 - obj_risha.grade\nconsole.log(\"Years until I graduate:\", yearstograduation)\n\n// Determining types of field:\nconsole.log(\"Type of var grade:\", typeof obj_risha.grade)\nconsole.log(\"Type of var classes:\", typeof obj_risha.classes)\nconsole.log(\"Type of var color_fav:\", typeof obj_risha.color_fav)\nconsole.log(\"Type of var food_fav:\", typeof obj_risha.food_fav)\n",
      "text/plain": [
       "<IPython.core.display.Javascript object>"
      ]
     },
     "metadata": {},
     "output_type": "display_data"
    }
   ],
   "source": [
    "%%js\n",
    "\n",
    "console.log(\"Object: assigning key-value objects\");\n",
    "var obj_risha = {\n",
    "    name: \"Risha\",\n",
    "    age: 15,\n",
    "    grade: 10,\n",
    "    classes: [\"AP Chemistry\", \"AP World History\", \"Honors Principles of Engineering\", \"AP Computer Science Principles\", \"AP Calculus BC\"],\n",
    "    interests: [\"Cybersecurity\", \"piano\", \"biking\"],\n",
    "    color_fav: [\"green\"],\n",
    "    food_fav: [\"pasta\"]\n",
    "};\n",
    "\n",
    "\n",
    "// print obj to the console\n",
    "console.log(obj_risha);\n",
    "\n",
    "// Changing favorite color from green to blue\n",
    "console.log(\"Object: mutating the key color_fav from green to blue\")\n",
    "obj_risha.color_fav = \"blue\"\n",
    "console.log(obj_risha);\n",
    "console.log(obj_risha.color_fav);\n",
    "\n",
    "\n",
    "// Calculating years until graduation\n",
    "console.log(\"Object: calculating # of years until graduation from grade key\")\n",
    "let yearstograduation = 12 - obj_risha.grade\n",
    "console.log(\"Years until I graduate:\", yearstograduation)\n",
    "\n",
    "// Determining types of field:\n",
    "console.log(\"Type of var grade:\", typeof obj_risha.grade)\n",
    "console.log(\"Type of var classes:\", typeof obj_risha.classes)\n",
    "console.log(\"Type of var color_fav:\", typeof obj_risha.color_fav)\n",
    "console.log(\"Type of var food_fav:\", typeof obj_risha.food_fav)\n"
   ]
  },
  {
   "cell_type": "markdown",
   "metadata": {},
   "source": [
    "### DOM Hacks"
   ]
  },
  {
   "cell_type": "code",
   "execution_count": 3,
   "metadata": {
    "vscode": {
     "languageId": "html"
    }
   },
   "outputs": [
    {
     "data": {
      "text/html": [
       "\n",
       "<div style=\"background-color: #05034b;\"></div>\n",
       "<a id=\"aboutLink\" href=\"about/\">\n",
       "    <button class=\"block\"><b>About Page</b></button>\n",
       "</a>\n",
       "<p></p>\n",
       "<a id=\"toolsLink\" href=\"tools/\">\n",
       "    <button class=\"block\"><b>Tools Page</b></button>\n",
       "</a>\n",
       "<p></p>\n",
       "<p style=\"color: white;\"> Use the buttons above to navigate to important pages on this site. </p>\n",
       "<p style=\"color: white;\" id=\"switchedParagraph\"> Not Switched Yet!</p>\n",
       "</div>\n",
       "\n",
       "<script>\n",
       "const aboutLink = document.getElementById(\"aboutLink\");\n",
       "const toolsLink = document.getElementById(\"toolsLink\");\n",
       "const switchedText = document.getElementById(\"switchedParagraph\");\n",
       "const switchButton = document.getElementById(\"switchLinks\"); // Get the new button\n",
       "\n",
       "const switchLinks = () => {\n",
       "    const aboutHref = aboutLink.href;\n",
       "    const toolsHref = toolsLink.href;\n",
       "\n",
       "    aboutLink.href = toolsHref;\n",
       "    toolsLink.href = aboutHref;\n",
       "\n",
       "    switchedText.textContent = \"Switched!\";\n",
       "};\n",
       "\n",
       "// Add event listeners to the buttons\n",
       "aboutLink.addEventListener(\"click\", switchLinks);\n",
       "toolsLink.addEventListener(\"click\", switchLinks);\n",
       "switchButton.addEventListener(\"click\", switchLinks); // Add event listener to the new button\n",
       "</script>\n",
       "\n",
       "<a>\n",
       "    <button class=\"block\" id=\"switchLinks\"><b>Switch!</b></button>\n",
       "</a>\n"
      ],
      "text/plain": [
       "<IPython.core.display.HTML object>"
      ]
     },
     "metadata": {},
     "output_type": "display_data"
    }
   ],
   "source": [
    "%%html\n",
    "\n",
    "<div style=\"background-color: #05034b;\"></div>\n",
    "<a id=\"aboutLink\" href=\"about/\">\n",
    "    <button class=\"block\"><b>About Page</b></button>\n",
    "</a>\n",
    "<p></p>\n",
    "<a id=\"toolsLink\" href=\"tools/\">\n",
    "    <button class=\"block\"><b>Tools Page</b></button>\n",
    "</a>\n",
    "<p></p>\n",
    "<p style=\"color: white;\"> Use the buttons above to navigate to important pages on this site. </p>\n",
    "<p style=\"color: white;\" id=\"switchedParagraph\"> Not Switched Yet!</p>\n",
    "</div>\n",
    "\n",
    "<script>\n",
    "const aboutLink = document.getElementById(\"aboutLink\");\n",
    "const toolsLink = document.getElementById(\"toolsLink\");\n",
    "const switchedText = document.getElementById(\"switchedParagraph\");\n",
    "const switchButton = document.getElementById(\"switchLinks\"); // Get the new button\n",
    "\n",
    "const switchLinks = () => {\n",
    "    const aboutHref = aboutLink.href;\n",
    "    const toolsHref = toolsLink.href;\n",
    "\n",
    "    aboutLink.href = toolsHref;\n",
    "    toolsLink.href = aboutHref;\n",
    "\n",
    "    switchedText.textContent = \"Switched!\";\n",
    "};\n",
    "\n",
    "// Add event listeners to the buttons\n",
    "aboutLink.addEventListener(\"click\", switchLinks);\n",
    "toolsLink.addEventListener(\"click\", switchLinks);\n",
    "switchButton.addEventListener(\"click\", switchLinks); // Add event listener to the new button\n",
    "</script>\n",
    "\n",
    "<a>\n",
    "    <button class=\"block\" id=\"switchLinks\"><b>Switch!</b></button>\n",
    "</a>"
   ]
  },
  {
   "cell_type": "markdown",
   "metadata": {},
   "source": [
    "## JavaScript Hacks"
   ]
  },
  {
   "cell_type": "code",
   "execution_count": 33,
   "metadata": {
    "vscode": {
     "languageId": "javascript"
    }
   },
   "outputs": [
    {
     "data": {
      "application/javascript": "\nlet a = 2343;\nlet b = 393821;\n\nif (a > b) {\n  console.log(\"a is greater\");\n} else if (b > a) {\n  console.log(\"b is greater\");\n} else {\n  console.log(\"both are equal\");\n}\n\n// Perform arithmetic operations\nlet x = 10;\nlet y = 5;\n\nlet addition = x + y;\nlet subtraction = x - y;\nlet multiplication = x * y;\nlet division = x / y;\n\nconsole.log(\"Addition:\", addition);\nconsole.log(\"Subtraction:\", subtraction);\nconsole.log(\"Multiplication:\", multiplication);\nconsole.log(\"Division:\", division);   \n",
      "text/plain": [
       "<IPython.core.display.Javascript object>"
      ]
     },
     "metadata": {},
     "output_type": "display_data"
    }
   ],
   "source": [
    "%%js\n",
    "\n",
    "let a = 2343;\n",
    "let b = 393821;\n",
    "\n",
    "if (a > b) {\n",
    "  console.log(\"a is greater\");\n",
    "} else if (b > a) {\n",
    "  console.log(\"b is greater\");\n",
    "} else {\n",
    "  console.log(\"both are equal\");\n",
    "}\n",
    "\n",
    "// Perform arithmetic operations\n",
    "let x = 10;\n",
    "let y = 5;\n",
    "\n",
    "let addition = x + y;\n",
    "let subtraction = x - y;\n",
    "let multiplication = x * y;\n",
    "let division = x / y;\n",
    "\n",
    "console.log(\"Addition:\", addition);\n",
    "console.log(\"Subtraction:\", subtraction);\n",
    "console.log(\"Multiplication:\", multiplication);\n",
    "console.log(\"Division:\", division);   "
   ]
  },
  {
   "cell_type": "markdown",
   "metadata": {},
   "source": [
    "## Input Hacks"
   ]
  },
  {
   "cell_type": "code",
   "execution_count": 39,
   "metadata": {
    "vscode": {
     "languageId": "html"
    }
   },
   "outputs": [
    {
     "data": {
      "text/html": [
       "\n",
       "<!-- Help Message -->\n",
       "<h3>Input scores, press tab to add each new number.</h3>\n",
       "<!-- Totals -->\n",
       "<ul>\n",
       "<li>\n",
       "    Total : <span id=\"total\">0.0</span>\n",
       "    Count : <span id=\"count\">0.0</span>\n",
       "    Average : <span id=\"average\">0.0</span>\n",
       "    Grade: <span id=\"Grade\">N/A</span>\n",
       "</li>\n",
       "</ul>\n",
       "<!-- Rows added using scores ID -->\n",
       "<div id=\"scores\">\n",
       "    <!-- javascript generated inputs -->\n",
       "</div>\n",
       "\n",
       "<script>\n",
       "// Executes on input event and calculates totals\n",
       "function calculator(event) {\n",
       "    var key = event.key;\n",
       "    // Check if the pressed key is the \"Tab\" key (key code 9) or \"Enter\" key (key code 13)\n",
       "    if (key === \"Tab\" || key === \"Enter\") { \n",
       "        event.preventDefault(); // Prevent default behavior (tabbing to the next element)\n",
       "   \n",
       "        var array = document.getElementsByName('score'); // setup array of scores\n",
       "        var total = 0;  // running total\n",
       "        var count = 0;  // count of input elements with valid values\n",
       "\n",
       "        for (var i = 0; i < array.length; i++) {  // iterate through array\n",
       "            var value = array[i].value;\n",
       "            if (parseFloat(value)) {\n",
       "                var parsedValue = parseFloat(value);\n",
       "                total += parsedValue;  // add to running total\n",
       "                count++;\n",
       "            }\n",
       "        }\n",
       "\n",
       "        // update totals\n",
       "        document.getElementById('total').innerHTML = total.toFixed(2); // show two decimals\n",
       "        document.getElementById('count').innerHTML = count;\n",
       "\n",
       "        if (count > 0) {\n",
       "            document.getElementById('average').innerHTML = (total / count).toFixed(2);\n",
       "\n",
       "            var average = parseFloat(document.getElementById('average').innerHTML);\n",
       "            var grade = \"\";\n",
       "            if (average >= 90) {\n",
       "                grade = \"A\";\n",
       "            } else if (average >= 80) {\n",
       "                grade = \"B\";\n",
       "            } else if (average >= 70) {\n",
       "                grade = \"C\";\n",
       "            } else if (average >= 60) {\n",
       "                grade = \"D\";\n",
       "            } else {\n",
       "                grade = \"F\";\n",
       "            }\n",
       "            document.getElementById('Grade').innerHTML  \n",
       " = grade;\n",
       "      } else {\n",
       "        document.getElementById('average').innerHTML = \"0.0\";\n",
       "        document.getElementById('Grade').innerHTML = \"N/A\";\n",
       "      }\n",
       "        } else {\n",
       "            document.getElementById('average').innerHTML = \"0.0\";\n",
       "        }\n",
       "\n",
       "        // adds newInputLine, only if all array values satisfy parseFloat \n",
       "        if (count === document.getElementsByName('score').length) {\n",
       "            newInputLine(count); // make a new input line\n",
       "        }\n",
       "    }\n",
       "\n",
       "// Creates a new input box\n",
       "function newInputLine(index) {\n",
       "\n",
       "    // Add a label for each score element\n",
       "    var title = document.createElement('label');\n",
       "    title.htmlFor = index;\n",
       "    title.innerHTML = index + \". \";    \n",
       "    document.getElementById(\"scores\").appendChild(title); // add to HTML\n",
       "\n",
       "    // Setup score element and attributes\n",
       "    var score = document.createElement(\"input\"); // input element\n",
       "    score.id =  index;  // id of input element\n",
       "    score.onkeydown = calculator // Each key triggers event (using function as a value)\n",
       "    score.type = \"number\"; // Use text type to allow typing multiple characters\n",
       "    score.name = \"score\";  // name is used to group all \"score\" elements (array)\n",
       "    score.style.textAlign = \"right\";\n",
       "    score.style.width = \"5em\";\n",
       "    document.getElementById(\"scores\").appendChild(score);  // add to HTML\n",
       "\n",
       "    // Create and add blank line after input box\n",
       "    var br = document.createElement(\"br\");  // line break element\n",
       "    document.getElementById(\"scores\").appendChild(br); // add to HTML\n",
       "\n",
       "    // Set focus on the new input line\n",
       "    document.getElementById(index).focus();\n",
       "}\n",
       "\n",
       "// Creates 1st input box on Window load\n",
       "newInputLine(0);\n",
       "\n",
       "</script>\n"
      ],
      "text/plain": [
       "<IPython.core.display.HTML object>"
      ]
     },
     "metadata": {},
     "output_type": "display_data"
    }
   ],
   "source": [
    "%%html\n",
    "\n",
    "<!-- Help Message -->\n",
    "<h3>Input scores, press tab to add each new number.</h3>\n",
    "<!-- Totals -->\n",
    "<ul>\n",
    "<li>\n",
    "    Total : <span id=\"total\">0.0</span>\n",
    "    Count : <span id=\"count\">0.0</span>\n",
    "    Average : <span id=\"average\">0.0</span>\n",
    "    Grade: <span id=\"Grade\">N/A</span>\n",
    "</li>\n",
    "</ul>\n",
    "<!-- Rows added using scores ID -->\n",
    "<div id=\"scores\">\n",
    "    <!-- javascript generated inputs -->\n",
    "</div>\n",
    "\n",
    "<script>\n",
    "// Executes on input event and calculates totals\n",
    "function calculator(event) {\n",
    "    var key = event.key;\n",
    "    // Check if the pressed key is the \"Tab\" key (key code 9) or \"Enter\" key (key code 13)\n",
    "    if (key === \"Tab\" || key === \"Enter\") { \n",
    "        event.preventDefault(); // Prevent default behavior (tabbing to the next element)\n",
    "   \n",
    "        var array = document.getElementsByName('score'); // setup array of scores\n",
    "        var total = 0;  // running total\n",
    "        var count = 0;  // count of input elements with valid values\n",
    "\n",
    "        for (var i = 0; i < array.length; i++) {  // iterate through array\n",
    "            var value = array[i].value;\n",
    "            if (parseFloat(value)) {\n",
    "                var parsedValue = parseFloat(value);\n",
    "                total += parsedValue;  // add to running total\n",
    "                count++;\n",
    "            }\n",
    "        }\n",
    "\n",
    "        // update totals\n",
    "        document.getElementById('total').innerHTML = total.toFixed(2); // show two decimals\n",
    "        document.getElementById('count').innerHTML = count;\n",
    "\n",
    "        if (count > 0) {\n",
    "            document.getElementById('average').innerHTML = (total / count).toFixed(2);\n",
    "\n",
    "            var average = parseFloat(document.getElementById('average').innerHTML);\n",
    "            var grade = \"\";\n",
    "            if (average >= 90) {\n",
    "                grade = \"A\";\n",
    "            } else if (average >= 80) {\n",
    "                grade = \"B\";\n",
    "            } else if (average >= 70) {\n",
    "                grade = \"C\";\n",
    "            } else if (average >= 60) {\n",
    "                grade = \"D\";\n",
    "            } else {\n",
    "                grade = \"F\";\n",
    "            }\n",
    "            document.getElementById('Grade').innerHTML  \n",
    " = grade;\n",
    "      } else {\n",
    "        document.getElementById('average').innerHTML = \"0.0\";\n",
    "        document.getElementById('Grade').innerHTML = \"N/A\";\n",
    "      }\n",
    "        } else {\n",
    "            document.getElementById('average').innerHTML = \"0.0\";\n",
    "        }\n",
    "\n",
    "        // adds newInputLine, only if all array values satisfy parseFloat \n",
    "        if (count === document.getElementsByName('score').length) {\n",
    "            newInputLine(count); // make a new input line\n",
    "        }\n",
    "    }\n",
    "\n",
    "// Creates a new input box\n",
    "function newInputLine(index) {\n",
    "\n",
    "    // Add a label for each score element\n",
    "    var title = document.createElement('label');\n",
    "    title.htmlFor = index;\n",
    "    title.innerHTML = index + \". \";    \n",
    "    document.getElementById(\"scores\").appendChild(title); // add to HTML\n",
    "\n",
    "    // Setup score element and attributes\n",
    "    var score = document.createElement(\"input\"); // input element\n",
    "    score.id =  index;  // id of input element\n",
    "    score.onkeydown = calculator // Each key triggers event (using function as a value)\n",
    "    score.type = \"number\"; // Use text type to allow typing multiple characters\n",
    "    score.name = \"score\";  // name is used to group all \"score\" elements (array)\n",
    "    score.style.textAlign = \"right\";\n",
    "    score.style.width = \"5em\";\n",
    "    document.getElementById(\"scores\").appendChild(score);  // add to HTML\n",
    "\n",
    "    // Create and add blank line after input box\n",
    "    var br = document.createElement(\"br\");  // line break element\n",
    "    document.getElementById(\"scores\").appendChild(br); // add to HTML\n",
    "\n",
    "    // Set focus on the new input line\n",
    "    document.getElementById(index).focus();\n",
    "}\n",
    "\n",
    "// Creates 1st input box on Window load\n",
    "newInputLine(0);\n",
    "\n",
    "</script>\n"
   ]
  },
  {
   "cell_type": "markdown",
   "metadata": {},
   "source": [
    "## Output Hacks"
   ]
  },
  {
   "cell_type": "code",
   "execution_count": null,
   "metadata": {
    "vscode": {
     "languageId": "html"
    }
   },
   "outputs": [],
   "source": []
  },
  {
   "cell_type": "markdown",
   "metadata": {},
   "source": [
    "## Debugging Hacks"
   ]
  },
  {
   "cell_type": "code",
   "execution_count": 5,
   "metadata": {
    "vscode": {
     "languageId": "javascript"
    }
   },
   "outputs": [
    {
     "data": {
      "application/javascript": "\nvar alphabet = \"abcdefghijklmnopqrstuvwxyz\";\nvar alphabetList = [];\n\nfor (var i = 0; i < 10; i++) {\n\talphabetList.push(alphabet[i]);\n}\n\nconsole.log(alphabetList);\n",
      "text/plain": [
       "<IPython.core.display.Javascript object>"
      ]
     },
     "metadata": {},
     "output_type": "display_data"
    }
   ],
   "source": [
    "%%js\n",
    "\n",
    "var alphabet = \"abcdefghijklmnopqrstuvwxyz\";\n",
    "var alphabetList = [];\n",
    "\n",
    "for (var i = 0; i < 10; i++) {\n",
    "\talphabetList.push(alphabet[i]);\n",
    "}\n",
    "\n",
    "console.log(alphabetList);"
   ]
  },
  {
   "cell_type": "markdown",
   "metadata": {},
   "source": [
    "What I changed: I changed \n",
    "\n",
    "```alphabetList.push(i);``` to ```alphabetList.push(alphabet[i]);```\n",
    "\n",
    "This allows me to actually call the alphabet variable when listing the first 10 letters; previously, it was only outputing the variable ``i``. "
   ]
  },
  {
   "cell_type": "code",
   "execution_count": 4,
   "metadata": {
    "vscode": {
     "languageId": "javascript"
    }
   },
   "outputs": [
    {
     "data": {
      "application/javascript": "\nlet letterNumber = 5\n\nfor (var i = 0; i < alphabetList.length; i++) {\n  if (i === letterNumber - 1) {\n    console.log(alphabetList[i] + \" is letter number \" + (letterNumber) + \" in the alphabet\");  \n\n  }\n}\n",
      "text/plain": [
       "<IPython.core.display.Javascript object>"
      ]
     },
     "metadata": {},
     "output_type": "display_data"
    }
   ],
   "source": [
    "%%js\n",
    "\n",
    "var alphabet = \"abcdefghijklmnopqrstuvwxyz\";\n",
    "var alphabetList = [];\n",
    "\n",
    "for (var i = 0; i < 10; i++) {\n",
    "\talphabetList.push(alphabet[i]);\n",
    "}\n",
    "\n",
    "console.log(alphabetList);\n",
    "\n",
    "//New Code Step below\n",
    "\n",
    "let letterNumber = 5\n",
    "\n",
    "for (var i = 0; i < alphabetList.length; i++) {\n",
    "  if (i === letterNumber - 1) {\n",
    "    console.log(alphabetList[i] + \" is letter number \" + (letterNumber) + \" in the alphabet\");  \n",
    "\n",
    "  }\n",
    "}"
   ]
  },
  {
   "cell_type": "markdown",
   "metadata": {},
   "source": [
    "What I changed: \n",
    "\n",
    "I changed \n",
    "\n",
    "```i === letterNumber``` to ```i === letterNumber - 1```\n",
    "\n",
    "and ```letterNumber + \" is letter number 1 in the alphabet\"``` to ```alphabetList[i] + \" is letter number \" + (letterNumber) + \" in the alphabet\"```\n",
    "\n",
    "This, once again, allows me to actually output the letter instead of just a number. Also, by subtracting a number from letterNumber, we account for the 0 number in all arrays/lists. "
   ]
  },
  {
   "cell_type": "code",
   "execution_count": 6,
   "metadata": {
    "vscode": {
     "languageId": "javascript"
    }
   },
   "outputs": [
    {
     "data": {
      "application/javascript": "\nlet odds = [];\nlet i = 1;\n\nwhile (i <= 10) {\n  odds.push(i);\n  i += 2;\n}\n\nconsole.log(odds);\n",
      "text/plain": [
       "<IPython.core.display.Javascript object>"
      ]
     },
     "metadata": {},
     "output_type": "display_data"
    }
   ],
   "source": [
    "%%js\n",
    "\n",
    "let odds = [];\n",
    "let i = 1;\n",
    "\n",
    "while (i <= 10) {\n",
    "  odds.push(i);\n",
    "  i += 2;\n",
    "}\n",
    "\n",
    "console.log(odds);"
   ]
  },
  {
   "cell_type": "markdown",
   "metadata": {},
   "source": [
    "What I changed: I changed the starting value to 1 because otherwise, adding 2 to each value will always output even numbers. I also changed the function name to odds instead of evens for consistency."
   ]
  }
 ],
 "metadata": {
  "kernelspec": {
   "display_name": "Python 3",
   "language": "python",
   "name": "python3"
  },
  "language_info": {
   "codemirror_mode": {
    "name": "ipython",
    "version": 3
   },
   "file_extension": ".py",
   "mimetype": "text/x-python",
   "name": "python",
   "nbconvert_exporter": "python",
   "pygments_lexer": "ipython3",
   "version": "3.12.3"
  },
  "orig_nbformat": 4
 },
 "nbformat": 4,
 "nbformat_minor": 2
}
