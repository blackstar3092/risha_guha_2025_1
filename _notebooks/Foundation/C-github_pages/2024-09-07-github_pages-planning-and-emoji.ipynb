{
 "cells": [
  {
   "cell_type": "raw",
   "metadata": {
    "vscode": {
     "languageId": "raw"
    }
   },
   "source": [
    "---\n",
    "layout: post\n",
    "title: GitHub Planning and Emojis\n",
    "description: Planning For Project + Emojis\n",
    "categories: [Javascript]\n",
    "permalink: /github/pages/planning-and-emoji\n",
    "type: ccc\n",
    "author: Risha Guha\n",
    "menu: nav/github_pages.html\n",
    "---"
   ]
  },
  {
   "cell_type": "markdown",
   "metadata": {},
   "source": [
    "\n",
    "## Planning my project\n",
    "### Attempted Goals\n",
    "\n",
    "- Create a submenu that points to several Notebooks.\n",
    "- Notebook Types:\n",
    "    - Planning Document with Goals (this page)\n",
    "    - Perform actions through JavaScript\n",
    "    - Multiple Subpages for topic details\n",
    "\n",
    "**Tools Hack**\n",
    "- Upload Wikipedia images to index.md to showcase dynamic content!"
   ]
  },
  {
   "cell_type": "markdown",
   "metadata": {},
   "source": [
    "### Accomplished Goals\n",
    "\n",
    "- Submenu was *successful* - it directs user to correct notebooks\n",
    "- Notebooks:\n",
    "    - Planning Document with Goals and Accomplishments\n",
    "    - Topic: **Travel Locations**\n",
    "        - In the Brazil page, I included a JavaScript cell that chooses random fast facts about the Amazon rainforest\n",
    "        - In the Italy page, I included a JavaScript cell that chooses an Italian dish for the user to try\n",
    "\n",
    "\n",
    "My Tools Hack was successful. One difficulty I faced was aligning the text for all three images to the center of each image. I solved this by using the ``.grid-item {text-align: center;`` function. \n",
    "\n",
    "If I want to change the iteration method from ``for`` to ``forEach``, I would create an array (using ``const``) with the image file locations and the ``forEach`` function to iterate through them."
   ]
  },
  {
   "cell_type": "code",
   "execution_count": 3,
   "metadata": {},
   "outputs": [
    {
     "name": "stdout",
     "output_type": "stream",
     "text": [
      "I had fun writing these blogs! 👍 ✏️\n",
      "I am looking forward to more work with Jupyter notebooks and code cells! 💻\n"
     ]
    }
   ],
   "source": [
    "import emoji\n",
    "from emoji import emojize \n",
    "\n",
    "print(emojize(\"I had fun writing these blogs! :thumbs_up: :pencil:\"))\n",
    "print(emojize(\"I am looking forward to more work with Jupyter notebooks and code cells! :laptop:\"))\n"
   ]
  }
 ],
 "metadata": {
  "kernelspec": {
   "display_name": "Python 3",
   "language": "python",
   "name": "python3"
  },
  "language_info": {
   "codemirror_mode": {
    "name": "ipython",
    "version": 3
   },
   "file_extension": ".py",
   "mimetype": "text/x-python",
   "name": "python",
   "nbconvert_exporter": "python",
   "pygments_lexer": "ipython3",
   "version": "3.12.3"
  },
  "orig_nbformat": 4
 },
 "nbformat": 4,
 "nbformat_minor": 2
}
