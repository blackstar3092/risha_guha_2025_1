{
 "cells": [
  {
   "cell_type": "raw",
   "metadata": {
    "vscode": {
     "languageId": "raw"
    }
   },
   "source": [
    "---\n",
    "layout: post\n",
    "title: GitHub Planning \n",
    "description: Planning For Project\n",
    "categories: [Javascript]\n",
    "permalink: /github/pages/planning\n",
    "type: ccc\n",
    "author: Risha Guha\n",
    "menu: nav/github_pages.html\n",
    "---"
   ]
  },
  {
   "cell_type": "markdown",
   "metadata": {},
   "source": [
    "\n",
    "## Planning my project\n",
    "### Attempted Goals\n",
    "\n",
    "- Create a submenu that points to several Notebooks.\n",
    "- Notebook Types:\n",
    "    - Planning Document with Goals (this page)\n",
    "    - Perform actions through JavaScript\n",
    "    - Multiple Subpages for topic details"
   ]
  },
  {
   "cell_type": "markdown",
   "metadata": {},
   "source": [
    "### Accomplished Goals\n",
    "\n",
    "- Submenu was *successful* - it directs user to correct notebooks\n",
    "- Notebooks:\n",
    "    - Planning Document with Goals and Accomplishments\n",
    "    - Topic: **Travel Locations**\n",
    "        - In the Brazil page, I included a JavaScript cell that chooses random fast facts about the Amazon rainforest\n",
    "        - In the Italy page, I included a JavaScript cell that chooses an Italian dish for the user to try"
   ]
  }
 ],
 "metadata": {
  "kernelspec": {
   "display_name": "Python 3",
   "language": "python",
   "name": "python3"
  },
  "language_info": {
   "codemirror_mode": {
    "name": "ipython",
    "version": 3
   },
   "file_extension": ".py",
   "mimetype": "text/x-python",
   "name": "python",
   "nbconvert_exporter": "python",
   "pygments_lexer": "ipython3",
   "version": "3.11.9"
  },
  "orig_nbformat": 4
 },
 "nbformat": 4,
 "nbformat_minor": 2
}
