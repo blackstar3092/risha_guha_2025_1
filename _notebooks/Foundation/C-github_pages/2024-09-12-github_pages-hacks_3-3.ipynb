{
 "cells": [
  {
   "cell_type": "raw",
   "metadata": {
    "vscode": {
     "languageId": "raw"
    }
   },
   "source": [
    "---\n",
    "layout: post\n",
    "title: 3.3 Hacks\n",
    "description: Python and Javascript Popcorn and Homework Hacks for 3.3\n",
    "categories: [Javascript]\n",
    "permalink: /github/pages/hacks_3-3\n",
    "type: ccc\n",
    "author: Risha Guha\n",
    "menu: nav/github_pages.html\n",
    "---"
   ]
  },
  {
   "cell_type": "markdown",
   "metadata": {},
   "source": [
    "## Python Popcorn and Homework Hacks"
   ]
  },
  {
   "cell_type": "code",
   "execution_count": 1,
   "metadata": {},
   "outputs": [
    {
     "name": "stdout",
     "output_type": "stream",
     "text": [
      "sum_list = 104\n"
     ]
    }
   ],
   "source": [
    "#Popcorn Hack 1\n",
    "\n",
    "num_list = [3, 7, 11, 17, 19, 22, 25]\n",
    "\n",
    "sum_list = sum(num_list)\n",
    "print(\"sum_list = \" + str(sum_list))"
   ]
  },
  {
   "cell_type": "code",
   "execution_count": 2,
   "metadata": {},
   "outputs": [
    {
     "name": "stdout",
     "output_type": "stream",
     "text": [
      "Popcorn cost is $45\n"
     ]
    }
   ],
   "source": [
    "#Popcorn Hack 2\n",
    "\n",
    "popcorn_price = int(input())\n",
    "popcorn_bags = int(input())\n",
    "popcorn_cost = popcorn_price * popcorn_bags\n",
    "\n",
    "print(\"Popcorn cost is $\" + str(popcorn_cost))"
   ]
  },
  {
   "cell_type": "code",
   "execution_count": 3,
   "metadata": {},
   "outputs": [
    {
     "name": "stdout",
     "output_type": "stream",
     "text": [
      "total_sum = 595\n"
     ]
    }
   ],
   "source": [
    "# Popcorn Hack 3\n",
    "\n",
    "num = int(input())\n",
    "total_sum = 0\n",
    "for i in range (1, num + 1):\n",
    "    total_sum += i\n",
    "\n",
    "print(\"total_sum = \" + str(total_sum))"
   ]
  },
  {
   "cell_type": "code",
   "execution_count": 4,
   "metadata": {},
   "outputs": [
    {
     "name": "stdout",
     "output_type": "stream",
     "text": [
      "Arithmetic Mean: 4.666666666666667\n",
      "Median: 5.0\n"
     ]
    }
   ],
   "source": [
    "# Homework Hack 1\n",
    "\n",
    "def compute_mean_median(numbers):\n",
    "    mean = sum(numbers) / len(numbers)\n",
    "    sorted_numbers = sorted(numbers)\n",
    "    n = len(sorted_numbers)\n",
    "    \n",
    "    if n % 2 == 0: \n",
    "        median = (sorted_numbers[n // 2 - 1] + sorted_numbers[n // 2]) / 2\n",
    "    else:\n",
    "        median = sorted_numbers[n // 2]\n",
    "    \n",
    "    print(\"Arithmetic Mean: \" + str(mean))\n",
    "    print(\"Median: \" + str(median))\n",
    "\n",
    "numbers = [5, 2, 9, 1, 5, 6]\n",
    "compute_mean_median(numbers)\n"
   ]
  },
  {
   "cell_type": "code",
   "execution_count": 5,
   "metadata": {},
   "outputs": [
    {
     "name": "stdout",
     "output_type": "stream",
     "text": [
      "Collatz sequence: [6, 3, 10, 5, 16, 8, 4, 2, 1]\n"
     ]
    }
   ],
   "source": [
    "# Homework Hack 2\n",
    "\n",
    "def collatz_sequence(a):\n",
    "    sequence = [a]\n",
    "    while a != 1:\n",
    "        if a % 2 == 0:\n",
    "            a = a // 2 \n",
    "        else:\n",
    "            a = 3 * a + 1 \n",
    "        sequence.append(a)\n",
    "    \n",
    "    print(\"Collatz sequence:\", sequence)\n",
    "\n",
    "# Example usage:\n",
    "collatz_sequence(6)"
   ]
  },
  {
   "cell_type": "markdown",
   "metadata": {},
   "source": [
    "##  Javascript Popcorn and Homework Hacks"
   ]
  },
  {
   "cell_type": "code",
   "execution_count": 6,
   "metadata": {
    "vscode": {
     "languageId": "javascript"
    }
   },
   "outputs": [
    {
     "data": {
      "application/javascript": "\n/* Popcorn Hack 1 */\n\nfunction calculate() {\n    let result = ((10 + 6) * 4) / 2 - 0;\n    return result;\n}\n\nconsole.log(calculate());\n",
      "text/plain": [
       "<IPython.core.display.Javascript object>"
      ]
     },
     "metadata": {},
     "output_type": "display_data"
    }
   ],
   "source": [
    "%%javascript\n",
    "\n",
    "/* Popcorn Hack 1 */\n",
    "\n",
    "function calculate() {\n",
    "    let result = ((10 + 6) * 4) / 2 - 0;\n",
    "    return result;\n",
    "}\n",
    "\n",
    "console.log(calculate());"
   ]
  },
  {
   "cell_type": "code",
   "execution_count": 7,
   "metadata": {
    "vscode": {
     "languageId": "javascript"
    }
   },
   "outputs": [
    {
     "data": {
      "application/javascript": "\n/* Popcorn Hack 2 */\n\nfunction sandwich() {\n    let ingredients = []; \n    let addMore = true;\n    while (addMore) {\n        let ingredient = prompt(\"Enter an ingredient for your sandwich (or type 'done' to finish):\");\n        if (ingredient.toLowerCase() === 'done') {\n            addMore = false;  // Stop the loop if the user is done\n        } else {\n            ingredients.push(ingredient); \n        }\n    }\n\n    let sandwichName = prompt(\"Give your sandwich a name:\");\n    console.log(`Your sandwich '${sandwichName}' includes: ${ingredients.join(\", \")}`);\n}\n\n// Example usage:\nsandwich();\n",
      "text/plain": [
       "<IPython.core.display.Javascript object>"
      ]
     },
     "metadata": {},
     "output_type": "display_data"
    }
   ],
   "source": [
    "%%javascript\n",
    "\n",
    "/* Popcorn Hack 2 */\n",
    "\n",
    "function sandwich() {\n",
    "    let ingredients = []; \n",
    "    let addMore = true;\n",
    "    while (addMore) {\n",
    "        let ingredient = prompt(\"Enter an ingredient for your sandwich (or type 'done' to finish):\");\n",
    "        if (ingredient.toLowerCase() === 'done') {\n",
    "            addMore = false;  // Stop the loop if the user is done\n",
    "        } else {\n",
    "            ingredients.push(ingredient); \n",
    "        }\n",
    "    }\n",
    "\n",
    "    let sandwichName = prompt(\"Give your sandwich a name:\");\n",
    "    console.log(`Your sandwich '${sandwichName}' includes: ${ingredients.join(\", \")}`);\n",
    "}\n",
    "\n",
    "// Example usage:\n",
    "sandwich();\n"
   ]
  },
  {
   "cell_type": "code",
   "execution_count": 8,
   "metadata": {
    "vscode": {
     "languageId": "javascript"
    }
   },
   "outputs": [
    {
     "data": {
      "application/javascript": "\n/* Homework Hack 1 */\n\nfunction gcd(a, b) {\n    while (b !== 0) {\n        let temp = b;\n        b = a % b;\n        a = temp;\n    }\n    return a;\n}\n\nfunction lcm(a, b) {\n    // LCM formula: (a * b) / GCD(a, b)\n    return (a * b) / gcd(a, b);\n}\n\nfunction computeGCDandLCM(a, b) {\n    let gcdValue = gcd(a, b);\n    let lcmValue = lcm(a, b);\n    \n    return {\n        GCD: gcdValue,\n        LCM: lcmValue\n    };\n}\n\n// Example usage:\nlet result = computeGCDandLCM(12, 18);\nconsole.log(result);  // Output: { GCD: 6, LCM: 36 }\n",
      "text/plain": [
       "<IPython.core.display.Javascript object>"
      ]
     },
     "metadata": {},
     "output_type": "display_data"
    }
   ],
   "source": [
    "%%javascript\n",
    "\n",
    "/* Homework Hack 1 */\n",
    "\n",
    "function gcd(a, b) {\n",
    "    while (b !== 0) {\n",
    "        let temp = b;\n",
    "        b = a % b;\n",
    "        a = temp;\n",
    "    }\n",
    "    return a;\n",
    "}\n",
    "\n",
    "function lcm(a, b) {\n",
    "    // LCM formula: (a * b) / GCD(a, b)\n",
    "    return (a * b) / gcd(a, b);\n",
    "}\n",
    "\n",
    "function computeGCDandLCM(a, b) {\n",
    "    let gcdValue = gcd(a, b);\n",
    "    let lcmValue = lcm(a, b);\n",
    "    \n",
    "    return {\n",
    "        GCD: gcdValue,\n",
    "        LCM: lcmValue\n",
    "    };\n",
    "}\n",
    "\n",
    "// Example usage:\n",
    "let result = computeGCDandLCM(12, 18);\n",
    "console.log(result);  // Output: { GCD: 6, LCM: 36 }"
   ]
  },
  {
   "cell_type": "code",
   "execution_count": 9,
   "metadata": {
    "vscode": {
     "languageId": "javascript"
    }
   },
   "outputs": [
    {
     "data": {
      "application/javascript": "\n/* Homework Hack 2 */\n\nfunction primeFactors(n) {\n    let factors = [];  // Array to store prime factors\n    let divisor = 2;\n\n    // Divide n by 2 until it's odd\n    while (n % divisor === 0) {\n        factors.push(divisor);\n        n = n / divisor;\n    }\n\n    // Check for odd factors starting from 3\n    divisor = 3;\n    while (n > 1) {\n        while (n % divisor === 0) {\n            factors.push(divisor);\n            n = n / divisor;\n        }\n        divisor += 2;  // Only check odd numbers\n    }\n\n    // If the input is a prime number, return the array with just n\n    return factors.length > 0 ? factors : [n];\n}\n\n// Example usage:\nlet result = primeFactors(28);\nconsole.log(result);  // Output: [2, 2, 7]\n",
      "text/plain": [
       "<IPython.core.display.Javascript object>"
      ]
     },
     "metadata": {},
     "output_type": "display_data"
    }
   ],
   "source": [
    "%%javascript\n",
    "\n",
    "/* Homework Hack 2 */\n",
    "\n",
    "function primeFactors(n) {\n",
    "    let factors = [];  // Array to store prime factors\n",
    "    let divisor = 2;\n",
    "\n",
    "    // Divide n by 2 until it's odd\n",
    "    while (n % divisor === 0) {\n",
    "        factors.push(divisor);\n",
    "        n = n / divisor;\n",
    "    }\n",
    "\n",
    "    // Check for odd factors starting from 3\n",
    "    divisor = 3;\n",
    "    while (n > 1) {\n",
    "        while (n % divisor === 0) {\n",
    "            factors.push(divisor);\n",
    "            n = n / divisor;\n",
    "        }\n",
    "        divisor += 2;  // Only check odd numbers\n",
    "    }\n",
    "\n",
    "    // If the input is a prime number, return the array with just n\n",
    "    return factors.length > 0 ? factors : [n];\n",
    "}\n",
    "\n",
    "// Example usage:\n",
    "let result = primeFactors(28);\n",
    "console.log(result);  // Output: [2, 2, 7]"
   ]
  }
 ],
 "metadata": {
  "kernelspec": {
   "display_name": "venv",
   "language": "python",
   "name": "python3"
  },
  "language_info": {
   "codemirror_mode": {
    "name": "ipython",
    "version": 3
   },
   "file_extension": ".py",
   "mimetype": "text/x-python",
   "name": "python",
   "nbconvert_exporter": "python",
   "pygments_lexer": "ipython3",
   "version": "3.12.3"
  },
  "orig_nbformat": 4
 },
 "nbformat": 4,
 "nbformat_minor": 2
}
