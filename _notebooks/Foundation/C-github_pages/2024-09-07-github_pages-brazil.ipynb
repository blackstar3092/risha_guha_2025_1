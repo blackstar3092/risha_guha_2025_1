{
 "cells": [
  {
   "cell_type": "raw",
   "metadata": {
    "vscode": {
     "languageId": "raw"
    }
   },
   "source": [
    "---\n",
    "layout: post\n",
    "title: Travel Guide - Brazil\n",
    "description: Learn all about Brazil and the Amazon rainforest!\n",
    "categories: [Javascript]\n",
    "permalink: /github/pages/brazil\n",
    "type: ccc\n",
    "author: Risha Guha\n",
    "menu: nav/github_pages.html\n",
    "---"
   ]
  },
  {
   "cell_type": "markdown",
   "metadata": {},
   "source": [
    "\n",
    "## All About Brazil!\n",
    "\n",
    "Italy is the largest country in South America. It has all of the amazing characteristics of these categories:\n",
    "\n",
    "- Natural Wonders\n",
    "- Culture in Cities\n",
    "- Lifestyle\n",
    "- Fast Facts"
   ]
  },
  {
   "cell_type": "markdown",
   "metadata": {},
   "source": [
    "## Natural Wonders\n",
    "- **Amazon Rainforest:** The world's largest rainforest, covering over half of Brazil's territory, is home to incredible biodiversity.\n",
    "- **Iguazu Falls:** One of the Seven Natural Wonders of the World, these majestic waterfalls are a breathtaking sight.\n",
    "- **Pantanal:** The world's largest wetland area, known for its diverse wildlife including jaguars, caimans, and a variety of bird species.\n",
    "- **Lençóis Maranhenses National Park:** This unique park features white sand dunes that fill with rainwater, creating stunning turquoise lagoons.\n"
   ]
  },
  {
   "cell_type": "markdown",
   "metadata": {},
   "source": [
    "## Culture in Cities\n",
    "- **Rio de Janeiro:** The iconic city known for its Carnival, Copacabana Beach, and Christ the Redeemer statue.\n",
    "- **Salvador:** The first capital of Brazil, with a rich colonial history and vibrant Afro-Brazilian culture.\n",
    "- **São Paulo:** The largest city in South America, a major financial and cultural center.\n",
    "- **Brasilia:** The modern capital city, designed by Oscar Niemeyer, with unique architecture and urban planning."
   ]
  },
  {
   "cell_type": "markdown",
   "metadata": {
    "vscode": {
     "languageId": "javascript"
    }
   },
   "source": [
    "## Lifestyle \n",
    "- **Football (Soccer):** Brazil is a football powerhouse, with numerous World Cup victories and passionate fans.\n",
    "- **Carnaval:** One of the world's most famous celebrations, featuring colorful costumes, music, and dancing.\n",
    "- **Churrasco:** The Brazilian barbecue, a popular social event featuring grilled meats.\n",
    "- **Capoeira:** A martial art and dance form with African and Portuguese influences"
   ]
  },
  {
   "cell_type": "code",
   "execution_count": 1,
   "metadata": {
    "vscode": {
     "languageId": "javascript"
    }
   },
   "outputs": [
    {
     "data": {
      "application/javascript": "\nfunction getRandomBrazilFact() {\n    const brazilFacts = [\n      \"Brazil is the world's largest Portuguese-speaking country.\",\n      \"The Amazon Rainforest covers over half of Brazil's territory.\",\n      \"Brazil is the birthplace of capoeira, a martial art and dance form.\",\n      \"The Christ the Redeemer statue in Rio de Janeiro is one of the Seven Wonders of the Modern World.\",\n      \"Brazil is the largest coffee producer in the world.\",\n      \"The Amazon River is the second-longest river in the world.\",\n      \"Brazil is home to the Pantanal, the world's largest wetland area.\",\n      \"Brazil has won the FIFA World Cup five times, more than any other country.\",\n      \"The Carnival in Rio de Janeiro is one of the largest and most famous celebrations in the world.\",\n      \"The Lençóis Maranhenses National Park features white sand dunes that fill with rainwater, creating stunning turquoise lagoons.\",\n      \"Brazil is home to the Iguazu Falls, one of the Seven Natural Wonders of the World.\",\n      \"The city of Salvador was the first capital of Brazil and has a rich Afro-Brazilian culture.\",\n      \"Brazil is known for its vibrant music scene, including bossa nova, samba, and forró.\",\n      \"The Brazilian cuisine is diverse, influenced by Portuguese, African, and indigenous cultures.\",\n      \"Brazil is home to the largest population of Japanese people outside of Japan.\"\n    ];\n  \n    const randomIndex = Math.floor(Math.random() * brazilFacts.length);\n    return brazilFacts[randomIndex];\n  }\n  \n  const randomFact = getRandomBrazilFact();\n  console.log(\"Your random Brazil fact is: \" + randomFact);\n",
      "text/plain": [
       "<IPython.core.display.Javascript object>"
      ]
     },
     "metadata": {},
     "output_type": "display_data"
    }
   ],
   "source": [
    "%%javascript\n",
    "\n",
    "function getRandomBrazilFact() {\n",
    "    const brazilFacts = [\n",
    "      \"Brazil is the world's largest Portuguese-speaking country.\",\n",
    "      \"The Amazon Rainforest covers over half of Brazil's territory.\",\n",
    "      \"Brazil is the birthplace of capoeira, a martial art and dance form.\",\n",
    "      \"The Christ the Redeemer statue in Rio de Janeiro is one of the Seven Wonders of the Modern World.\",\n",
    "      \"Brazil is the largest coffee producer in the world.\",\n",
    "      \"The Amazon River is the second-longest river in the world.\",\n",
    "      \"Brazil is home to the Pantanal, the world's largest wetland area.\",\n",
    "      \"Brazil has won the FIFA World Cup five times, more than any other country.\",\n",
    "      \"The Carnival in Rio de Janeiro is one of the largest and most famous celebrations in the world.\",\n",
    "      \"The Lençóis Maranhenses National Park features white sand dunes that fill with rainwater, creating stunning turquoise lagoons.\",\n",
    "      \"Brazil is home to the Iguazu Falls, one of the Seven Natural Wonders of the World.\",\n",
    "      \"The city of Salvador was the first capital of Brazil and has a rich Afro-Brazilian culture.\",\n",
    "      \"Brazil is known for its vibrant music scene, including bossa nova, samba, and forró.\",\n",
    "      \"The Brazilian cuisine is diverse, influenced by Portuguese, African, and indigenous cultures.\",\n",
    "      \"Brazil is home to the largest population of Japanese people outside of Japan.\"\n",
    "    ];\n",
    "  \n",
    "    const randomIndex = Math.floor(Math.random() * brazilFacts.length);\n",
    "    return brazilFacts[randomIndex];\n",
    "  }\n",
    "  \n",
    "  const randomFact = getRandomBrazilFact();\n",
    "  console.log(\"Your random Brazil fact is: \" + randomFact);"
   ]
  }
 ],
 "metadata": {
  "kernelspec": {
   "display_name": "Python 3",
   "language": "python",
   "name": "python3"
  },
  "language_info": {
   "codemirror_mode": {
    "name": "ipython",
    "version": 3
   },
   "file_extension": ".py",
   "mimetype": "text/x-python",
   "name": "python",
   "nbconvert_exporter": "python",
   "pygments_lexer": "ipython3",
   "version": "3.12.3"
  },
  "orig_nbformat": 4
 },
 "nbformat": 4,
 "nbformat_minor": 2
}
