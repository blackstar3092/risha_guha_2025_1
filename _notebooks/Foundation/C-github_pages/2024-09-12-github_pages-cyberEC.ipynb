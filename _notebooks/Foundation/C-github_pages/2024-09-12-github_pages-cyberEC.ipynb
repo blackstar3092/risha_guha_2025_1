{
 "cells": [
  {
   "cell_type": "raw",
   "metadata": {
    "vscode": {
     "languageId": "raw"
    }
   },
   "source": [
    "---\n",
    "layout: post\n",
    "title: Cybersecurity Extra Credit\n",
    "description: Extra Credit for Cybersecurity Panel\n",
    "categories: [Javascript]\n",
    "permalink: /github/pages/cyber_extracredit\n",
    "type: ccc\n",
    "author: Risha Guha\n",
    "menu: nav/github_pages.html\n",
    "---"
   ]
  },
  {
   "cell_type": "markdown",
   "metadata": {},
   "source": [
    "I organized the event! Thank you!"
   ]
  }
 ],
 "metadata": {
  "kernelspec": {
   "display_name": "venv",
   "language": "python",
   "name": "python3"
  },
  "language_info": {
   "codemirror_mode": {
    "name": "ipython",
    "version": 3
   },
   "file_extension": ".py",
   "mimetype": "text/x-python",
   "name": "python",
   "nbconvert_exporter": "python",
   "pygments_lexer": "ipython3",
   "version": "3.12.3"
  },
  "orig_nbformat": 4
 },
 "nbformat": 4,
 "nbformat_minor": 2
}
