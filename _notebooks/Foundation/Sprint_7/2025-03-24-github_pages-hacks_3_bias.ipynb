{
  "cells": [
    {
      "cell_type": "code",
      "execution_count": null,
      "metadata": {
        "vscode": {
          "languageId": "yaml"
        }
      },
      "outputs": [],
      "source": [
        "---\n",
        "layout: post\n",
        "title: Computer Bias Homework\n",
        "description: Homework Hacks and Popcorn Hacks\n",
        "categories: [Javascript]\n",
        "permalink: /sprint/7/hacks_3\n",
        "type: ccc\n",
        "author: Risha Guha\n",
        "menu: nav/sprint_7.html\n",
        "---"
      ]
    },
    {
      "cell_type": "markdown",
      "metadata": {},
      "source": [
        "## Popcorn Hacks\n",
        "\n",
        "### Popcorn Hack 1\n",
        "\n",
        "A movie that demonstrates bias is *The Blind Side* which tells the (based-on-a-true-story) story of Michael Oher, a homeless Black teenager who is taken in by a wealthy white family, the Tuohys, and eventually becomes an NFL player. This story demonstrates bias because it promotes savior complex and race-based messaging about the potential and success of a person. \n",
        "\n",
        "### Popcorn Hack 2: \n",
        "\n",
        "An example of when technology didn't work very well was when our \"smart\" microwave was overly sensitive and refused to turn on unless the door was closed, despite the door being shut. This caused frustration and didn't allow us to eat hot food for many weeks. One way technology could be improved is to increase its longevity, especially when integrated into other items (such as with the IoT). Then, resources and money could be saved.  \n",
        "\n",
        "### Popcorn Hack 3: \n",
        "\n",
        "Bias could sneak into fitness tracking apps by the app attempting to promote a specific weight or BMI, despite a person having genetic factors or health conditions contributing to their current weight. It could also suggest exercises and diets that are not fit for people with disabilities or chronic diseases. This could be mitigated by having the app ask for preexisting health conditions to factor in when offering these solutions."
      ]
    },
    {
      "cell_type": "markdown",
      "metadata": {},
      "source": [
        "## Homework Hack"
      ]
    },
    {
      "cell_type": "markdown",
      "metadata": {
        "id": "CUwV6JjZboQc"
      },
      "source": [
        "One of the software tools that I utilize daily is Spotify. Based on my listening history, liked songs, and followed artists, its algorithm curates playlists like \"Discover Weekly\" and \"Daily Mixes.\" While such personalization may be useful, it is also subject to certain apparent prejudices. For one, I have observed that Spotify suggests music sounding highly similar to what I am listening to already, with a bias towards promoting mainstream artists or genres that I previously listened to. Consequently, it is hard to break out of a music bubble or find emerging artists and international sounds.\n",
        "\n",
        "This bias has its roots in Spotify's recommendation system, which is heavily centered on user behavior and listening patterns. The algorithm is engineered for engagement — it works out what keeps me listening and doubles down on it, rather than maximizing diversity or novelty. Indie artists, niche genres, and new voices get pushed out by popular content with higher engagement metrics as a consequence.\n",
        "\n",
        "To reduce this kind of algorithmic bias, Spotify can add more deliberate discovery features that prioritize diversity in genre, language, and artist exposure. Features like a \"random explore\" mode, spotlighting underrepresented artists, or periodic rearranging of algorithmic playlists can nudge users to expand their musical preferences. Additionally, training the algorithm on a more diverse set of cultural data and feedback from diverse listeners can make the platform more inclusive and dynamic for everyone."
      ]
    }
  ],
  "metadata": {
    "colab": {
      "provenance": []
    },
    "kernelspec": {
      "display_name": "venv",
      "language": "python",
      "name": "python3"
    },
    "language_info": {
      "codemirror_mode": {
        "name": "ipython",
        "version": 3
      },
      "file_extension": ".py",
      "mimetype": "text/x-python",
      "name": "python",
      "nbconvert_exporter": "python",
      "pygments_lexer": "ipython3",
      "version": "3.12.3"
    }
  },
  "nbformat": 4,
  "nbformat_minor": 0
}
