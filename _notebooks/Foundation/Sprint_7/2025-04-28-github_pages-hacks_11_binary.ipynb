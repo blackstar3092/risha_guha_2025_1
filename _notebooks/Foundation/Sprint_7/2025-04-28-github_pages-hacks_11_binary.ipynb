{
  "cells": [
    {
      "cell_type": "raw",
      "metadata": {
        "vscode": {
          "languageId": "raw"
        }
      },
      "source": [
        "---\n",
        "layout: post\n",
        "title: Binary (Base 2)\n",
        "description: Homework Hacks and Popcorn Hacks\n",
        "categories: [Javascript]\n",
        "permalink: /sprint/7/hacks_11\n",
        "type: ccc\n",
        "author: Risha Guha\n",
        "menu: nav/sprint_7.html\n",
        "---"
      ]
    },
    {
      "cell_type": "markdown",
      "metadata": {},
      "source": [
        "## Popcorn Hacks\n",
        "\n",
        "\n",
        "### Popcorn Hack 1"
      ]
    },
    {
      "cell_type": "code",
      "execution_count": 1,
      "metadata": {},
      "outputs": [
        {
          "name": "stdout",
          "output_type": "stream",
          "text": [
            "The decimal representation of 0101 is 5.\n"
          ]
        }
      ],
      "source": [
        "def binary_to_decimal(binary_str):\n",
        "    decimal = 0\n",
        "    for i in range(len(binary_str)):\n",
        "        decimal += int(binary_str[-(i + 1)]) * (2 ** i)\n",
        "    return decimal\n",
        "\n",
        "#Get user input\n",
        "binary_input = input(\"Enter a binary number: \")\n",
        "decimal_output = binary_to_decimal(binary_input)\n",
        "print(f\"The decimal representation of {binary_input} is {decimal_output}.\")"
      ]
    },
    {
      "cell_type": "markdown",
      "metadata": {},
      "source": [
        "### Popcorn Hack 2"
      ]
    },
    {
      "cell_type": "code",
      "execution_count": 5,
      "metadata": {},
      "outputs": [
        {
          "name": "stdout",
          "output_type": "stream",
          "text": [
            "Add the following binary numbers:\n",
            "Number 1: 11100101\n",
            "Number 2: 11001011\n",
            "Oops! The correct answer was 110110000.\n",
            "Your score: -5 points.\n"
          ]
        }
      ],
      "source": [
        "import random\n",
        "import time\n",
        "\n",
        "def binary_addition_battle():\n",
        "    # Generate two random binary numbers (up to 8 bits)\n",
        "    num1 = bin(random.randint(0, 255))[2:]\n",
        "    num2 = bin(random.randint(0, 255))[2:]\n",
        "    \n",
        "    # Show the binary numbers\n",
        "    print(f\"Add the following binary numbers:\")\n",
        "    print(f\"Number 1: {num1}\")\n",
        "    print(f\"Number 2: {num2}\")\n",
        "    \n",
        "    # Start the timer\n",
        "    start_time = time.time()\n",
        "    \n",
        "    # Ask the user for the sum\n",
        "    user_answer = input(\"Your answer (in binary): \")\n",
        "    \n",
        "    # End the timer\n",
        "    end_time = time.time()\n",
        "    \n",
        "    # Calculate the correct binary sum\n",
        "    correct_answer = bin(int(num1, 2) + int(num2, 2))[2:]\n",
        "    \n",
        "    # Check if the answer is correct\n",
        "    if user_answer == correct_answer:\n",
        "        print(f\"Correct! You took {end_time - start_time:.2f} seconds.\")\n",
        "        print(f\"Your score: +10 points!\")\n",
        "    else:\n",
        "        print(f\"Oops! The correct answer was {correct_answer}.\")\n",
        "        print(f\"Your score: -5 points.\")\n",
        "\n",
        "# Run the game\n",
        "binary_addition_battle()"
      ]
    },
    {
      "cell_type": "markdown",
      "metadata": {},
      "source": [
        "### Popcorn Hack 3"
      ]
    },
    {
      "cell_type": "code",
      "execution_count": 7,
      "metadata": {},
      "outputs": [
        {
          "name": "stdout",
          "output_type": "stream",
          "text": [
            "🧠 Binary Subtraction Challenge! 🧠\n",
            "\n",
            "Problem 1: 10011 - 0\n",
            "❌ Incorrect. The correct answer was 10011.\n",
            "\n",
            "Problem 2: 110000 - 100100\n",
            "❌ Incorrect. The correct answer was 1100.\n",
            "\n",
            "Problem 3: 111111 - 10100\n",
            "❌ Incorrect. The correct answer was 101011.\n",
            "\n",
            "🎯 You got 0/3 correct!\n",
            "Thanks for practicing!\n"
          ]
        }
      ],
      "source": [
        "import random\n",
        "\n",
        "def binary_subtraction(bin1, bin2):\n",
        "    max_len = max(len(bin1), len(bin2))\n",
        "    bin1 = bin1.zfill(max_len)\n",
        "    bin2 = bin2.zfill(max_len)\n",
        "\n",
        "    result = ''\n",
        "    borrow = 0\n",
        "\n",
        "    for i in range(max_len-1, -1, -1):\n",
        "        bit1 = int(bin1[i])\n",
        "        bit2 = int(bin2[i])\n",
        "\n",
        "        sub = bit1 - bit2 - borrow\n",
        "\n",
        "        if sub == 0 or sub == 1:\n",
        "            result = str(sub) + result\n",
        "            borrow = 0\n",
        "        elif sub == -1:\n",
        "            result = '1' + result\n",
        "            borrow = 1\n",
        "        elif sub == -2:\n",
        "            result = '0' + result\n",
        "            borrow = 1\n",
        "\n",
        "    result = result.lstrip('0') or '0'\n",
        "    return result\n",
        "\n",
        "print(\"🧠 Binary Subtraction Challenge! 🧠\")\n",
        "score = 0\n",
        "total_questions = 3\n",
        "\n",
        "for question_num in range(1, total_questions + 1):\n",
        "    num1 = random.randint(8, 63)\n",
        "    num2 = random.randint(0, num1)\n",
        "\n",
        "    bin1 = bin(num1)[2:]\n",
        "    bin2 = bin(num2)[2:]\n",
        "\n",
        "    print(f\"\\nProblem {question_num}: {bin1} - {bin2}\")\n",
        "    user_answer = input(\"Your answer: \").strip()\n",
        "\n",
        "    correct_answer = binary_subtraction(bin1, bin2)\n",
        "\n",
        "    if user_answer == correct_answer:\n",
        "        print(\"✅ Correct!\")\n",
        "        score += 1\n",
        "    else:\n",
        "        print(f\"❌ Incorrect. The correct answer was {correct_answer}.\")\n",
        "\n",
        "print(f\"\\n🎯 You got {score}/{total_questions} correct!\")\n",
        "print(\"Thanks for practicing!\")"
      ]
    },
    {
      "cell_type": "markdown",
      "metadata": {},
      "source": [
        "## Homework Hacks"
      ]
    },
    {
      "cell_type": "code",
      "execution_count": 1,
      "metadata": {},
      "outputs": [
        {
          "name": "stdout",
          "output_type": "stream",
          "text": [
            "👾 Welcome to Binary Battle Royale! 👾\n",
            "\n",
            "⚡ Round 1 ⚡\n",
            "Subtract these two binary numbers: 10111 - 10000\n",
            "❌ Incorrect. The correct answer was 111.\n",
            "\n",
            "⚡ Round 2 ⚡\n",
            "Convert this binary number to decimal: 10\n",
            "✅ Correct!\n",
            "\n",
            "⚡ Round 3 ⚡\n",
            "Convert this binary number to decimal: 11101\n",
            "❌ Incorrect. The correct answer was 29.\n",
            "\n",
            "🏆 Game Over! 🏆\n",
            "Your final score: 1/3\n",
            "👍 Good effort! Keep practicing!\n"
          ]
        }
      ],
      "source": [
        "import random\n",
        "import time\n",
        "\n",
        "def binary_addition(a, b):\n",
        "    return bin(int(a, 2) + int(b, 2))[2:]\n",
        "\n",
        "def binary_subtraction(a, b):\n",
        "    if int(a, 2) < int(b, 2):\n",
        "        return \"Error\"\n",
        "    return bin(int(a, 2) - int(b, 2))[2:]\n",
        "\n",
        "def decimal_to_binary(n):\n",
        "    return bin(n)[2:]\n",
        "\n",
        "def binary_to_decimal(b):\n",
        "    return int(b, 2)\n",
        "\n",
        "def binary_battle_royale():\n",
        "    print(\"👾 Welcome to Binary Battle Royale! 👾\")\n",
        "    score = 0\n",
        "    total_rounds = 3\n",
        "\n",
        "    for round_num in range(1, total_rounds + 1):\n",
        "        print(f\"\\n⚡ Round {round_num} ⚡\")\n",
        "        mode = random.choice([\"addition\", \"subtraction\", \"dec_to_bin\", \"bin_to_dec\"])\n",
        "\n",
        "        if mode == \"addition\":\n",
        "            num1 = bin(random.randint(0, 15))[2:]\n",
        "            num2 = bin(random.randint(0, 15))[2:]\n",
        "            print(f\"Add these two binary numbers: {num1} + {num2}\")\n",
        "            user_answer = input(\"Your answer (binary): \").strip()\n",
        "            correct_answer = binary_addition(num1, num2)\n",
        "            if user_answer == correct_answer:\n",
        "                print(\"✅ Correct!\")\n",
        "                score += 1\n",
        "            else:\n",
        "                print(f\"❌ Incorrect. The correct answer was {correct_answer}.\")\n",
        "\n",
        "        elif mode == \"subtraction\":\n",
        "            num1_val = random.randint(8, 31)\n",
        "            num2_val = random.randint(0, num1_val)\n",
        "            num1 = bin(num1_val)[2:]\n",
        "            num2 = bin(num2_val)[2:]\n",
        "            print(f\"Subtract these two binary numbers: {num1} - {num2}\")\n",
        "            user_answer = input(\"Your answer (binary): \").strip()\n",
        "            correct_answer = binary_subtraction(num1, num2)\n",
        "            if user_answer == correct_answer:\n",
        "                print(\"✅ Correct!\")\n",
        "                score += 1\n",
        "            else:\n",
        "                print(f\"❌ Incorrect. The correct answer was {correct_answer}.\")\n",
        "\n",
        "        elif mode == \"dec_to_bin\":\n",
        "            decimal_number = random.randint(0, 31)\n",
        "            print(f\"Convert this decimal number to binary: {decimal_number}\")\n",
        "            user_answer = input(\"Your answer (binary): \").strip()\n",
        "            correct_answer = decimal_to_binary(decimal_number)\n",
        "            if user_answer == correct_answer:\n",
        "                print(\"✅ Correct!\")\n",
        "                score += 1\n",
        "            else:\n",
        "                print(f\"❌ Incorrect. The correct answer was {correct_answer}.\")\n",
        "\n",
        "        elif mode == \"bin_to_dec\":\n",
        "            binary_number = bin(random.randint(0, 31))[2:]\n",
        "            print(f\"Convert this binary number to decimal: {binary_number}\")\n",
        "            user_answer = input(\"Your answer (decimal): \").strip()\n",
        "            correct_answer = str(binary_to_decimal(binary_number))\n",
        "            if user_answer == correct_answer:\n",
        "                print(\"✅ Correct!\")\n",
        "                score += 1\n",
        "            else:\n",
        "                print(f\"❌ Incorrect. The correct answer was {correct_answer}.\")\n",
        "\n",
        "    print(\"\\n🏆 Game Over! 🏆\")\n",
        "    print(f\"Your final score: {score}/{total_rounds}\")\n",
        "    if score == total_rounds:\n",
        "        print(\"🌟 Amazing job! You're a Binary Master!\")\n",
        "    elif score >= total_rounds // 2:\n",
        "        print(\"👍 Good effort! Keep practicing!\")\n",
        "    else:\n",
        "        print(\"💡 Don't worry — review the rules and try again!\")\n",
        "\n",
        "# --- Start the game ---\n",
        "binary_battle_royale()"
      ]
    },
    {
      "cell_type": "markdown",
      "metadata": {},
      "source": [
        "To convert a binary number into a decimal number, multiply each bit by 2 raised to its position index (starting from the right at 0) and sum the results. The binary number 11111111 = 255 in decimal."
      ]
    }
  ],
  "metadata": {
    "colab": {
      "provenance": []
    },
    "kernelspec": {
      "display_name": "venv",
      "language": "python",
      "name": "python3"
    },
    "language_info": {
      "codemirror_mode": {
        "name": "ipython",
        "version": 3
      },
      "file_extension": ".py",
      "mimetype": "text/x-python",
      "name": "python",
      "nbconvert_exporter": "python",
      "pygments_lexer": "ipython3",
      "version": "3.12.3"
    }
  },
  "nbformat": 4,
  "nbformat_minor": 0
}
