{
  "cells": [
    {
      "cell_type": "code",
      "execution_count": null,
      "metadata": {
        "vscode": {
          "languageId": "yaml"
        }
      },
      "outputs": [],
      "source": [
        "---\n",
        "layout: post\n",
        "title: Crowdsourcing Homework\n",
        "description: Homework Hacks and Popcorn Hacks\n",
        "categories: [Javascript]\n",
        "permalink: /sprint/7/hacks_4\n",
        "type: ccc\n",
        "author: Risha Guha\n",
        "menu: nav/sprint_7.html\n",
        "---"
      ]
    },
    {
      "cell_type": "markdown",
      "metadata": {},
      "source": [
        "## Popcorn Hacks\n",
        "\n",
        "### Mango Intro\n",
        "\n",
        "Mango Introduction: Rating: 8, because it was creative but I didn't quite understand what was going on. Also some music would be nice. \n",
        "\n",
        "### Popcorn Hacks 1 and 2: Discussed during lesson\n",
        "\n",
        "### Popcorn Hack 3:\n",
        "\n",
        "- One example of a software that uses crowdsourcing is Waze Map Updates. This software allows drivers to submit notifications of accidents, traffic jams, and police sightings to warn other Waze users. This is an example of crowdsourcing because it directly uses information from the crowd to provide value to users (a primary component of crowdsourced software)"
      ]
    },
    {
      "cell_type": "markdown",
      "metadata": {},
      "source": [
        "\n",
        "## Homework Hack"
      ]
    },
    {
      "cell_type": "markdown",
      "metadata": {
        "id": "CUwV6JjZboQc"
      },
      "source": [
        "Songs to add to playlist:\n",
        "\n",
        "- Birds of a Feather: Billie Eilish\n",
        "- Espresso: Sabrina Carpenter\n",
        "\n",
        "I believe that crowdsourcing will benefit the playlist because it will allow us to have a varied music experience as many people will contribute alternating ideas to the overall playlist. It will help increase the diversity of the music and introduce people to music they may not have heard before. "
      ]
    }
  ],
  "metadata": {
    "colab": {
      "provenance": []
    },
    "kernelspec": {
      "display_name": "venv",
      "language": "python",
      "name": "python3"
    },
    "language_info": {
      "codemirror_mode": {
        "name": "ipython",
        "version": 3
      },
      "file_extension": ".py",
      "mimetype": "text/x-python",
      "name": "python",
      "nbconvert_exporter": "python",
      "pygments_lexer": "ipython3",
      "version": "3.12.3"
    }
  },
  "nbformat": 4,
  "nbformat_minor": 0
}
