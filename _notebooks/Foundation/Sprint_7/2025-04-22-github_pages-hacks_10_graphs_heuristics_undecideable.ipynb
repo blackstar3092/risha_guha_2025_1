{
  "cells": [
    {
      "cell_type": "raw",
      "metadata": {
        "vscode": {
          "languageId": "raw"
        }
      },
      "source": [
        "---\n",
        "layout: post\n",
        "title: Undecidable Problems, Graphs, and Heuristics\n",
        "description: Homework Hacks and Popcorn Hacks\n",
        "categories: [Javascript]\n",
        "permalink: /sprint/7/hacks_10\n",
        "type: ccc\n",
        "author: Risha Guha\n",
        "menu: nav/sprint_7.html\n",
        "---"
      ]
    },
    {
      "cell_type": "markdown",
      "metadata": {},
      "source": [
        "# Undecidable Problems"
      ]
    },
    {
      "cell_type": "markdown",
      "metadata": {},
      "source": [
        "## Popcorn Hacks\n",
        "\n",
        "\n",
        "### Popcorn Hack 1\n",
        "\n",
        "Algorithms cannot be used to solve an undecidable problem, so it is false.\n",
        "\n",
        "### Popcorn Hack 2\n",
        "\n",
        "Using a program that works most of the time in the case of an undecidable problem is a good idea, so true. \n",
        "\n",
        "### Popcorn Hack 3\n",
        "\n",
        "Answer is D, as all of the other problems are undecidable problems proven to not exist. \n",
        "\n",
        "## Homework Hack:\n",
        "\n",
        "Modern operating systems and web browsers are built with safeguards to handle situations like infinite loops or scripts that run too long, which could otherwise freeze your system or crash your browser. These mechanisms are meant to keep things running smoothly and protect users from unresponsive programs.\n",
        "\n",
        "**In Operating Systems**\n",
        "\n",
        "1. Process Scheduling & Preemption:\n",
        "Operating systems like Windows, macOS, and Linux use preemptive multitasking. That means they give each process (like a code or app) a slice of CPU time. If code enters an infinite loop, the OS doesn't freeze—it just moves on and gives CPU time to other processes.\n",
        "\n",
        "2. Watchdogs and Resource Limits:\n",
        "On systems like Linux, administrators can set CPU time limits using tools like ulimit or cgroups. If a script goes rogue and uses too much CPU for too long, the OS can automatically kill it.\n",
        "\n",
        "Example:\n",
        "Running a Python script with ulimit -t 5 limits it to 5 seconds of CPU time. After that, the system sends a SIGXCPU signal and stops the process.\n",
        "\n",
        "**In Web Browsers**\n",
        "\n",
        "1. Script Timeouts:\n",
        "Browsers like Chrome, Firefox, and Safari are especially cautious about infinite loops in JavaScript. If a script runs too long without yielding control back (like in a while(true) loop), the browser steps in.\n",
        "\n",
        "Real-World Example:\n",
        "- Chrome: “Page Unresponsive – You can wait for it to become responsive or exit the page.”\n",
        "- Firefox: “A script on this page may be busy, or it may have stopped responding.”\n",
        "\n",
        "These messages give users the option to stop the script, preventing browser crashes.\n",
        "\n",
        "2. setTimeout and requestAnimationFrame:\n",
        "Browsers encourage asynchronous design. Functions like setTimeout() and requestAnimationFrame() help prevent long blocking operations by letting scripts break their tasks into smaller chunks and yield back control regularly.\n",
        "\n",
        "3. Developer Console Warnings:\n",
        "If a script causes high memory use or performance issues, the browser’s dev tools often flag it. For instance, Chrome may show:\n",
        "- “Long-running script detected”\n",
        "- This helps developers debug inefficient code.\n",
        "\n",
        "**Recovery & Isolation**\n",
        "\n",
        "1. Process Isolation (Browser Sandboxing):\n",
        "Modern browsers run each tab in a separate process. So if a script crashes one tab, it won’t take down the whole browser.\n",
        "\n",
        "2. Automatic Tab Suspension:\n",
        "Browsers like Edge and Chrome now suspend inactive tabs to save resources. If a background tab is running a long script, it might be frozen or deprioritized.\n",
        "Summary\n",
        "\n",
        "In short, both operating systems and browsers are equipped to detect infinite loops or excessively long-running scripts. They do this using process management, timeout detection, script throttling, and user prompts. These systems make sure that even if your code goes wild, it doesn’t take the whole system down with it."
      ]
    },
    {
      "cell_type": "markdown",
      "metadata": {},
      "source": [
        "# Graphs and Heuristics\n",
        "\n",
        "### Popcorn Hack 1\n",
        "\n",
        "False: Graphs are not always bidirectional so this statement is false. \n",
        "\n",
        "### Popcorn Hack 2\n",
        "\n",
        "True: Heuristics are always faster, but with speed comes limited accuracy, as the progam may skip over specific necessary actions. \n",
        "\n",
        "### Popcorn Hack 3\n",
        "\n",
        "True: Heuristic-based approach doesn't guarantee the optimal solution, but it comes closer than algorithmic approaches within reasonable time. \n",
        "\n",
        "## Homework Hack:\n",
        "\n",
        "Social Network Analysis (SNA) is the study of relationships and interactions within a network of individuals, groups, or organizations—most often visualized and analyzed using graph theory.\n",
        "\n",
        "**How Graphs Represent Social Networks**\n",
        "\n",
        "In graph theory terms:\n",
        "\n",
        "- Nodes (Vertices) = represent users or entities.\n",
        "- Think of each person on Instagram, Twitter, or LinkedIn as a dot on a graph.\n",
        "\n",
        "- Edges (Links) = represent relationships or interactions.\n",
        "- These could be follows, friendships, mentions, likes, retweets, etc.\n",
        "\n",
        "Edges can be:\n",
        "\n",
        "- Directed (e.g., Twitter follow: A follows B, but B might not follow back)\n",
        "- Undirected (e.g., Facebook friends: A and B are mutually connected)\n",
        "- Weighted (more frequent interaction = higher weight)\n",
        "\n",
        "This structure allows platforms to model not just who is connected, but how strong or important those connections are.\n",
        "\n",
        "**Real-World Example: Twitter (X)**\n",
        "\n",
        "Twitter is a perfect real-world case of graph theory in action.\n",
        "\n",
        "- Nodes = Users\n",
        "- Edges = Follow relationships (directed), Retweets, Mentions (directed & often weighted)\n",
        "\n",
        "How Twitter Uses Graph Theory:\n",
        "\n",
        "- Influencer Detection: By calculating centrality (like PageRank), Twitter can find users who have the most influence or reach.\n",
        "- Community Detection: Clustering algorithms find groups of users who interact frequently (echo chambers, interest groups).\n",
        "- Recommendation Systems: \"Who to Follow\" suggestions rely heavily on analyzing graph structures (mutual follows, follower overlap).\n",
        "- Trend Propagation: Understanding how tweets spread helps find the key nodes that help a hashtag go viral"
      ]
    }
  ],
  "metadata": {
    "colab": {
      "provenance": []
    },
    "kernelspec": {
      "display_name": "venv",
      "language": "python",
      "name": "python3"
    },
    "language_info": {
      "codemirror_mode": {
        "name": "ipython",
        "version": 3
      },
      "file_extension": ".py",
      "mimetype": "text/x-python",
      "name": "python",
      "nbconvert_exporter": "python",
      "pygments_lexer": "ipython3",
      "version": "3.12.3"
    }
  },
  "nbformat": 4,
  "nbformat_minor": 0
}
