{
  "cells": [
    {
      "cell_type": "raw",
      "metadata": {
        "vscode": {
          "languageId": "raw"
        }
      },
      "source": [
        "---\n",
        "layout: post\n",
        "title: Undecidable Problems, Graphs, and Heuristics\n",
        "description: Homework Hacks and Popcorn Hacks\n",
        "categories: [Javascript]\n",
        "permalink: /sprint/7/hacks_10\n",
        "type: ccc\n",
        "author: Risha Guha\n",
        "menu: nav/sprint_7.html\n",
        "---"
      ]
    },
    {
      "cell_type": "markdown",
      "metadata": {},
      "source": [
        "# Undecidable Problems"
      ]
    },
    {
      "cell_type": "markdown",
      "metadata": {},
      "source": [
        "## Popcorn Hacks\n",
        "\n",
        "\n",
        "### Popcorn Hack 1\n",
        "\n",
        "Algorithms cannot be used to solve an undecidable problem, so it is false.\n",
        "\n",
        "### Popcorn Hack 2\n",
        "\n",
        "Using a program that works most of the time in the case of an undecidable problem is a good idea, so true. \n",
        "\n",
        "### Popcorn Hack 3\n",
        "\n",
        "Answer is D, as all of the other problems are undecidable problems proven to not exist. \n",
        "\n",
        "## Homework Hack:\n",
        "\n"
      ]
    },
    {
      "cell_type": "markdown",
      "metadata": {},
      "source": [
        "# Graphs and Heuristics\n",
        "\n",
        "### Popcorn Hack 1\n",
        "\n",
        "False: Graphs are not always bidirectional so this statement is false. \n",
        "\n",
        "### Popcorn Hack 2\n",
        "\n",
        "True: Heuristics are always faster, but with speed comes limited accuracy, as the progam may skip over specific necessary actions. \n",
        "\n",
        "### Popcorn Hack 3\n",
        "\n",
        "True: "
      ]
    }
  ],
  "metadata": {
    "colab": {
      "provenance": []
    },
    "kernelspec": {
      "display_name": "venv",
      "language": "python",
      "name": "python3"
    },
    "language_info": {
      "codemirror_mode": {
        "name": "ipython",
        "version": 3
      },
      "file_extension": ".py",
      "mimetype": "text/x-python",
      "name": "python",
      "nbconvert_exporter": "python",
      "pygments_lexer": "ipython3",
      "version": "3.12.3"
    }
  },
  "nbformat": 4,
  "nbformat_minor": 0
}
