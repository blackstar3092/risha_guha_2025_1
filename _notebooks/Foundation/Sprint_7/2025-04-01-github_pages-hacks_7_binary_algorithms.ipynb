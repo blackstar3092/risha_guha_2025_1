{
  "cells": [
    {
      "cell_type": "code",
      "execution_count": null,
      "metadata": {
        "vscode": {
          "languageId": "yaml"
        }
      },
      "outputs": [],
      "source": [
        "---\n",
        "layout: post\n",
        "title: Binary Algorithms Homework\n",
        "description: Homework Hacks and Popcorn Hacks\n",
        "categories: [Javascript]\n",
        "permalink: /sprint/7/hacks_7\n",
        "type: ccc\n",
        "author: Risha Guha\n",
        "menu: nav/sprint_7.html\n",
        "---"
      ]
    },
    {
      "cell_type": "markdown",
      "metadata": {},
      "source": [
        "## Popcorn Hacks\n",
        "\n",
        "\n",
        "### Popcorn Hack 1: C\n",
        "\n",
        "In order to effectively implement binary search algorithm, the length of the number list does not necessarily have to be even. If the number list is odd, it will still be split into two slightly uneven halves. Additionally, even if the function has duplicate values, it will not affect the midpoint calculations, thus ensuring that the binary search algorithm still works efficiently. The value of the target is also not factored into the index number, so the value of the target can be equal to -1. \n",
        "\n",
        "This leaves us with the answer of C: the values in numList must be in sorted order. If the values are not in sorted order, the algorithm can not effectively increase or decrease its index number based on the size of the value selected; it will instead be arbitrary causing the algorithm to fail. "
      ]
    },
    {
      "cell_type": "markdown",
      "metadata": {},
      "source": [
        "### Pop Quiz 2: A and D\n",
        "\n",
        "A and D do not include multifactor authentication because they only require one step to log in, whereas the other steps all require more than one. "
      ]
    },
    {
      "cell_type": "markdown",
      "metadata": {},
      "source": [
        "### Pop Quiz 3: B\n",
        "\n",
        "This is an example of symmetric encryption because Finn and Gwen are using the same key to decode the map, which is \"symmetric.\" "
      ]
    },
    {
      "cell_type": "markdown",
      "metadata": {},
      "source": [
        "### Popcorn Hack 4\n",
        "\n",
        "People can make safe passwords by using a combination of letters, numbers, cases, and symbols. Longer passwords are generally stronger. People should also change their passwords frequently and avoid using common passwords."
      ]
    },
    {
      "cell_type": "markdown",
      "metadata": {},
      "source": [
        "## Homework Hack: On Form"
      ]
    }
  ],
  "metadata": {
    "colab": {
      "provenance": []
    },
    "kernelspec": {
      "display_name": "venv",
      "language": "python",
      "name": "python3"
    },
    "language_info": {
      "codemirror_mode": {
        "name": "ipython",
        "version": 3
      },
      "file_extension": ".py",
      "mimetype": "text/x-python",
      "name": "python",
      "nbconvert_exporter": "python",
      "pygments_lexer": "ipython3",
      "version": "3.12.3"
    }
  },
  "nbformat": 4,
  "nbformat_minor": 0
}
