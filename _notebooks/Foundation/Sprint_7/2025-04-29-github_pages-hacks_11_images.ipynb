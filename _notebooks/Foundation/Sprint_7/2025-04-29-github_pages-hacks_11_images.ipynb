{
  "cells": [
    {
      "cell_type": "raw",
      "metadata": {
        "vscode": {
          "languageId": "raw"
        }
      },
      "source": [
        "---\n",
        "layout: post\n",
        "title: Digital Images\n",
        "description: Homework Hacks and Popcorn Hacks\n",
        "categories: [Javascript]\n",
        "permalink: /sprint/7/hacks_13\n",
        "type: ccc\n",
        "author: Risha Guha\n",
        "menu: nav/sprint_7.html\n",
        "---"
      ]
    },
    {
      "cell_type": "markdown",
      "metadata": {},
      "source": [
        "## Popcorn Hacks\n",
        "\n",
        "\n",
        "### Popcorn Hack 1\n",
        "\n",
        "The best format for transparent background is a PNG file because it uses the least data and is good at handling lossy compression."
      ]
    },
    {
      "cell_type": "markdown",
      "metadata": {},
      "source": [
        "### Popcorn Hack 2\n",
        "\n"
      ]
    },
    {
      "cell_type": "markdown",
      "metadata": {},
      "source": [
        "### Popcorn Hack 3"
      ]
    },
    {
      "cell_type": "markdown",
      "metadata": {},
      "source": [
        "## Homework Hacks"
      ]
    }
  ],
  "metadata": {
    "colab": {
      "provenance": []
    },
    "kernelspec": {
      "display_name": "venv",
      "language": "python",
      "name": "python3"
    },
    "language_info": {
      "codemirror_mode": {
        "name": "ipython",
        "version": 3
      },
      "file_extension": ".py",
      "mimetype": "text/x-python",
      "name": "python",
      "nbconvert_exporter": "python",
      "pygments_lexer": "ipython3",
      "version": "3.12.3"
    }
  },
  "nbformat": 4,
  "nbformat_minor": 0
}
