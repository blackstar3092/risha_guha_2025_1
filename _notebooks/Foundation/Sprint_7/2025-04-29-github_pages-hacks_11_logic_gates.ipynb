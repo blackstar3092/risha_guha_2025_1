{
  "cells": [
    {
      "cell_type": "raw",
      "metadata": {
        "vscode": {
          "languageId": "raw"
        }
      },
      "source": [
        "---\n",
        "layout: post\n",
        "title: Logic Gates\n",
        "description: Homework Hacks and Popcorn Hacks\n",
        "categories: [Javascript]\n",
        "permalink: /sprint/7/hacks_12\n",
        "type: ccc\n",
        "author: Risha Guha\n",
        "menu: nav/sprint_7.html\n",
        "---"
      ]
    },
    {
      "cell_type": "markdown",
      "metadata": {},
      "source": [
        "## Popcorn Hack 1\n",
        "\n",
        "AND Gate\n",
        "\n",
        "- Security System: A building door unlocks only if a keycard is scanned AND a fingerprint matches.\n",
        "- Both conditions must be true at the same time (Keycard present AND fingerprint match) for the output (unlock) to happen.\n",
        "\n",
        "OR Gate\n",
        "- Emergency Exit Alarm: If door A is opened OR door B is opened, the alarm will sound.\n",
        "- Only one condition needs to be true to trigger the alarm (either door A or door B).\n",
        "\n",
        "NOT Gate (Inverter)\n",
        "- Automatic Night Lights: A sensor turns the lights on when it detects NOT daylight (i.e., when it’s dark).\n",
        "- It flips the input: if the sensor detects no light (input = 0), the NOT gate switches it to output = 1 (turn light ON).\n",
        "\n",
        "NAND Gate\n",
        "\n",
        "- Microwave Oven Safety: The microwave won't start unless door is closed AND start button pressed — if not both, it blocks operation (safety fail-safe).\n",
        "- Prevents operation unless both conditions are met exactly; otherwise, it stops.\n",
        "\n",
        "NOR Gate\n",
        "\n",
        "- Motion Sensors at Night: If no motion detected and no light detected, it triggers night mode (e.g., locks doors, sets alarms).\n",
        "- Only when both sensors detect nothing will it trigger night mode (both inputs 0 → output 1).\n",
        "\n",
        "XOR Gate (Exclusive OR)\n",
        "- Two-Button Start Machines: In some factory machines, you need to press only one button (not both) to start — Button A XOR Button B.\n",
        "- If exactly one input is pressed, the machine starts. Pressing none or both = no start.\n",
        "\n",
        "XNOR Gate (Exclusive NOR)\n",
        "- Password Checker: A system where login access is granted only if both typed password and saved password match exactly.\n",
        "- If both inputs are the same (both 1s or both 0s), access is allowed (XNOR checks for equality)."
      ]
    },
    {
      "cell_type": "markdown",
      "metadata": {},
      "source": [
        "## Popcorn Hack 2\n",
        "\n",
        "A. (X AND Y) OR Z because X and Y both have to be 1 OR z has to be 1. "
      ]
    },
    {
      "cell_type": "markdown",
      "metadata": {},
      "source": [
        "## Homework Hack"
      ]
    },
    {
      "cell_type": "code",
      "execution_count": 1,
      "metadata": {},
      "outputs": [
        {
          "name": "stdout",
          "output_type": "stream",
          "text": [
            "1\n",
            "0\n",
            "0\n",
            "0\n"
          ]
        }
      ],
      "source": [
        "def secure_entry_system(keycard, pin, voice_auth):\n",
        "    def AND(a, b):\n",
        "        return a & b  # AND logic\n",
        "\n",
        "    return AND(AND(keycard, pin), voice_auth)\n",
        "\n",
        "# Test cases\n",
        "print(secure_entry_system(1, 1, 1)) \n",
        "print(secure_entry_system(1, 1, 0))  \n",
        "print(secure_entry_system(0, 1, 1))  \n",
        "print(secure_entry_system(1, 0, 1))"
      ]
    }
  ],
  "metadata": {
    "colab": {
      "provenance": []
    },
    "kernelspec": {
      "display_name": "venv",
      "language": "python",
      "name": "python3"
    },
    "language_info": {
      "codemirror_mode": {
        "name": "ipython",
        "version": 3
      },
      "file_extension": ".py",
      "mimetype": "text/x-python",
      "name": "python",
      "nbconvert_exporter": "python",
      "pygments_lexer": "ipython3",
      "version": "3.12.3"
    }
  },
  "nbformat": 4,
  "nbformat_minor": 0
}
