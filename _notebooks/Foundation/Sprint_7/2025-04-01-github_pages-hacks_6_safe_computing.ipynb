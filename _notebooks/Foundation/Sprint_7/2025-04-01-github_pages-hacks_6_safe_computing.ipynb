{
  "cells": [
    {
      "cell_type": "code",
      "execution_count": null,
      "metadata": {
        "vscode": {
          "languageId": "yaml"
        }
      },
      "outputs": [],
      "source": [
        "---\n",
        "layout: post\n",
        "title: Safe Computing Homework\n",
        "description: Homework Hacks and Popcorn Hacks\n",
        "categories: [Javascript]\n",
        "permalink: /sprint/7/hacks_6\n",
        "type: ccc\n",
        "author: Risha Guha\n",
        "menu: nav/sprint_7.html\n",
        "---"
      ]
    },
    {
      "cell_type": "markdown",
      "metadata": {},
      "source": [
        "## Popcorn Hacks\n",
        "\n",
        "\n",
        "### Popcorn Hack 1: A\n",
        "\n",
        "One's fingerprint is considered PII because it can identify an individual person, whereas the other options do not fully identify the individual person. However, each of the options do provide small pieces of PII. "
      ]
    },
    {
      "cell_type": "markdown",
      "metadata": {},
      "source": [
        "### Pop Quiz 2: A and D\n",
        "\n",
        "A and D do not include multifactor authentication because they only require one step to log in, whereas the other steps all require more than one. "
      ]
    },
    {
      "cell_type": "markdown",
      "metadata": {},
      "source": [
        "### Pop Quiz 3: B\n",
        "\n",
        "This is an example of symmetric encryption because Finn and Gwen are using the same key to decode the map, which is \"symmetric.\" "
      ]
    },
    {
      "cell_type": "markdown",
      "metadata": {},
      "source": [
        "### Popcorn Hack 4\n",
        "\n",
        "People can make safe passwords by using a combination of letters, numbers, cases, and symbols. Longer passwords are generally stronger. People should also change their passwords frequently and avoid using common passwords."
      ]
    },
    {
      "cell_type": "markdown",
      "metadata": {},
      "source": [
        "## Homework Hack: On Form"
      ]
    }
  ],
  "metadata": {
    "colab": {
      "provenance": []
    },
    "kernelspec": {
      "display_name": "venv",
      "language": "python",
      "name": "python3"
    },
    "language_info": {
      "codemirror_mode": {
        "name": "ipython",
        "version": 3
      },
      "file_extension": ".py",
      "mimetype": "text/x-python",
      "name": "python",
      "nbconvert_exporter": "python",
      "pygments_lexer": "ipython3",
      "version": "3.12.3"
    }
  },
  "nbformat": 4,
  "nbformat_minor": 0
}
