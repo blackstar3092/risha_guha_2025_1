{
 "cells": [
  {
   "cell_type": "raw",
   "metadata": {
    "vscode": {
     "languageId": "raw"
    }
   },
   "source": [
    "---\n",
    "layout: post\n",
    "title: Beneficial and Harmful Effects Hacks\n",
    "description: Homework Hacks and Popcorn Hacks\n",
    "categories: [Javascript]\n",
    "permalink: /sprint/7/hacks_1\n",
    "type: ccc\n",
    "author: Risha Guha\n",
    "menu: nav/sprint_7.html\n",
    "---"
   ]
  },
  {
   "cell_type": "markdown",
   "metadata": {},
   "source": [
    "## Popcorn Hacks"
   ]
  },
  {
   "cell_type": "markdown",
   "metadata": {},
   "source": [
    "### Popcorn Hack 1\n",
    "\n",
    "Technological innovations impact society in both positive and negative ways because as power to complete actions grows within a society, so does the responsibility to use it wisely. Technology improves convenience, efficiency, and quality of life. \n",
    "\n",
    "Example 1: AI\n",
    "\n",
    "- **Positive:** AI can allow small businesses to analyze business patterns and trends to optimize marketing endeavors. People can also use AI to build websites, promotional flyers, and more, enabling employees to spend more time on more valuable jobs.\n",
    "- **Negative:** AI can also be a threat to small businesses because it can take over many jobs. It may also allow for nefarious threat actors to ilegitimately track business proceedings.  \n",
    "\n",
    "Example 2: Social Media\n",
    "\n",
    "- **Positive:** Social media allows people to connect with one another and share information online. It also enables them to become more informed through news sharing.\n",
    "- **Negative:** Social media can also exacerbate mental health issues in teens. It can lead to the rapid spread of misinformation. "
   ]
  },
  {
   "cell_type": "markdown",
   "metadata": {},
   "source": [
    "### Popcorn Hack 2\n",
    "\n",
    "Negative effects of technology is defined as the use of modern technology to instigate harm. Responsible coding can mitigate unintended harmful impacts of computer programs by creating and adhering to restrictions and laws that prevent exploitation, like cybersecurity measures or safety guards in AI. "
   ]
  },
  {
   "cell_type": "markdown",
   "metadata": {},
   "source": [
    "### Popcorn Hack 3\n",
    "\n",
    "It is crucial to understand the unintended consequences of technology because without understanding, it will be impossible to address these major issues.\n",
    "\n",
    "- Dopamine-driven tech changes how entire groups think and make decisions.\n",
    "- Social media and other engagement-focused platforms train people to chase quick dopamine hits, making it harder to focus on long-term issues.\n",
    "- Big problems like climate change, responsible AI, and policy-making get pushed aside because people are more drawn to instant rewards.\n",
    "- Over time, this can shift what society values, making it harder to solve complex problems that require sustained attention.\n",
    "- If we don’t recognize this, we might end up in a world where important issues get ignored because people's attention is too scattered."
   ]
  },
  {
   "cell_type": "markdown",
   "metadata": {},
   "source": [
    "## Homework Hacks"
   ]
  },
  {
   "cell_type": "markdown",
   "metadata": {},
   "source": [
    "### Homework Hack 1\n",
    "\n",
    "AI Innovation: AI-Powered Dream Analysis\n",
    "\n",
    "Original Use: AI is commonly used for sleep tracking and detecting disorders like sleep apnea.\n",
    "\n",
    "New Use: Advanced AI could analyze brainwave patterns during sleep to interpret dreams and provide insights into mental health, creativity, or problem-solving by syncing with neural interfaces or smart headbands.\n",
    "\n",
    "Benefits:\n",
    "- Could help people understand subconscious thoughts, leading to better emotional well-being.\n",
    "- May enhance creativity by helping artists, writers, or innovators turn dreams into tangible ideas.\n",
    "\n",
    "Risks:\n",
    "\n",
    "- Raises ethical concerns about privacy"
   ]
  },
  {
   "cell_type": "markdown",
   "metadata": {},
   "source": [
    "### Homework Hack 2\n",
    "\n",
    "Problem: AI in News & Social Media Spreading Misinformation\n",
    "\n",
    "Risk: AI algorithms prioritize engagement, often promoting sensational or misleading content over factual information. This spreads false news quickly, influencing public opinion, politics, and even health decisions.\n",
    "\n",
    "Solutions:\n",
    "- Fact-Checking AI: Implement AI models trained to detect and flag misinformation in real-time before it spreads. These models would cross-check sources and highlight potential inaccuracies. \n",
    "- User Awareness & Transparency: Platforms should display credibility scores and source reliability indicators next to news articles. AI should also explain why it recommended certain content. Tools like NewsGuard can help with this.\n",
    "\n",
    "Reflection: AI is a powerful tool, but it can amplify misinformation and negatively impact society. Ethical AI development ensures that technology serves truth without distorting it Responsible AI should empower users with factual information rather than manipulate them with sensationalized or misleading content. This can create a more informed and successful society."
   ]
  },
  {
   "cell_type": "markdown",
   "metadata": {},
   "source": [
    "### Homework Hack 3\n",
    "\n",
    "AI Example: Facebook’s Content Moderation Algorithm\n",
    "\n",
    "Event: Facebook's AI-based content moderation system was designed to automatically flag and remove harmful content, such as hate speech, graphic violence, or misinformation. However, the algorithm's reliance on machine learning models led to unintended consequences, including the censorship of legitimate content. The system sometimes removed posts that did not violate community guidelines or, in some cases, it failed to catch harmful content due to its inability to understand context, irony, or cultural nuances. For example, posts from marginalized communities discussing sensitive issues were often flagged, while hate speech or harmful content was overlooked.\n",
    "\n",
    "Response: Facebook faced significant backlash for these issues and made several updates to its AI system. The company attempted to improve its content moderation by incorporating more human oversight and enhancing the AI's understanding of context. Facebook also invested in training its models to recognize the subtleties of language, including sarcasm and regional dialects, and worked with external fact-checkers to improve accuracy. However, these changes have been criticized as insufficient, with many users arguing that Facebook’s content moderation system still isn’t fully effective or fair.\n",
    "\n",
    "Prevention:\n",
    "\n",
    "- Improved Context-Awareness: AI models should be trained to better understand context, including cultural differences, tone, and language nuances, which could help prevent the over-flagging of harmless content.\n",
    "- Hybrid Model of AI and Human Moderators: To ensure accuracy, AI should work in conjunction with human moderators who can make nuanced decisions and review content that the algorithm might misinterpret. Continuous feedback from users could also help refine the system over time.\n",
    "\n",
    "By ensuring that AI systems are better equipped to interpret content contextually, developers can avoid over-censorship and improve the system's overall fairness and effectiveness."
   ]
  }
 ],
 "metadata": {
  "kernelspec": {
   "display_name": "venv",
   "language": "python",
   "name": "python3"
  },
  "language_info": {
   "codemirror_mode": {
    "name": "ipython",
    "version": 3
   },
   "file_extension": ".py",
   "mimetype": "text/x-python",
   "name": "python",
   "nbconvert_exporter": "python",
   "pygments_lexer": "ipython3",
   "version": "3.12.3"
  },
  "orig_nbformat": 4
 },
 "nbformat": 4,
 "nbformat_minor": 2
}
