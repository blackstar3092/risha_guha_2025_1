{
 "cells": [
  {
   "cell_type": "code",
   "execution_count": null,
   "metadata": {
    "vscode": {
     "languageId": "plaintext"
    }
   },
   "outputs": [],
   "source": [
    "---\n",
    "layout: post\n",
    "title: Sprint 7 Tech Talks\n",
    "description: Mr. Mort's Tech Talks for \n",
    "permalink: /sprint/7/tech_talks\n",
    "type: ccc\n",
    "author: Risha Guha\n",
    "menu: nav/sprint_7.html\n",
    "---"
   ]
  },
  {
   "cell_type": "markdown",
   "metadata": {},
   "source": [
    "## Tech Talk 1: UI Needs\n",
    "\n",
    "Use a Github Pages theme\n",
    "\n",
    "### Responsive:\n",
    "- Responsive (UI responds to window sizes)\n",
    "- Can combine multiple different UIs\n",
    "- Place items in responsive menus\n",
    "- Don't put styling in the individual md files (define global stylization)\n",
    "\n",
    "### Login Menu design\n",
    "- Dropdown menus in the login and profile screen\n",
    "- Bootstrap tables\n",
    "- Tailwind and Bootstrap good for this stuff\n",
    "- Don't do flowing design (Do figma)\n",
    "\n",
    "### Jekyll\n",
    "- Files at top of frontmatter (layout and things)\n",
    "- Set up bootstrap layout\n",
    "- Base.html within the layouts folder: Very important\n",
    "- Include all styling within this bootstrap area (don't need CSS in mds)"
   ]
  }
 ],
 "metadata": {
  "language_info": {
   "name": "python"
  }
 },
 "nbformat": 4,
 "nbformat_minor": 2
}
