{
  "cells": [
    {
      "cell_type": "raw",
      "metadata": {
        "vscode": {
          "languageId": "raw"
        }
      },
      "source": [
        "---\n",
        "layout: post\n",
        "title: Big O and Algorithmic Efficiency\n",
        "description: Homework Hacks and Popcorn Hacks\n",
        "categories: [Javascript]\n",
        "permalink: /sprint/7/hacks_9\n",
        "type: ccc\n",
        "author: Risha Guha\n",
        "menu: nav/sprint_7.html\n",
        "---"
      ]
    },
    {
      "cell_type": "markdown",
      "metadata": {},
      "source": [
        "## Popcorn Hacks\n",
        "\n",
        "\n",
        "### Popcorn Hack 1"
      ]
    },
    {
      "cell_type": "code",
      "execution_count": 1,
      "metadata": {},
      "outputs": [
        {
          "name": "stdout",
          "output_type": "stream",
          "text": [
            "Third item (O(1)): 3\n",
            "All items (O(n)):\n",
            "1\n",
            "2\n",
            "3\n",
            "4\n",
            "5\n"
          ]
        }
      ],
      "source": [
        "arr = [1, 2, 3, 4, 5]\n",
        "\n",
        "# Constant time O(1): Accessing the third item (index 2)\n",
        "print(\"Third item (O(1)):\", arr[2])\n",
        "\n",
        "# Linear time O(n): Printing all items\n",
        "print(\"All items (O(n)):\")\n",
        "for item in arr:\n",
        "    print(item)"
      ]
    },
    {
      "cell_type": "markdown",
      "metadata": {},
      "source": [
        "arr[2] accesses the third element in constant time, no matter the size of the array. This means that once the number is found, the program ends. \n",
        "\n",
        "The for loop goes through each item once, resulting in linear time complexity, which is why it's better to use constant time. "
      ]
    },
    {
      "cell_type": "markdown",
      "metadata": {},
      "source": [
        "### Popcorn Hack 2"
      ]
    },
    {
      "cell_type": "code",
      "execution_count": 3,
      "metadata": {},
      "outputs": [
        {
          "name": "stdout",
          "output_type": "stream",
          "text": [
            "(1, 2)\n",
            "(1, 3)\n",
            "(2, 3)\n"
          ]
        }
      ],
      "source": [
        "def print_unique_pairs(arr):\n",
        "    n = len(arr)\n",
        "    for i in range(n):\n",
        "        for j in range(i + 1, n):\n",
        "            print(f\"({arr[i]}, {arr[j]})\")\n",
        "\n",
        "# Example usage\n",
        "arr = [1, 2, 3]\n",
        "print_unique_pairs(arr)"
      ]
    },
    {
      "cell_type": "markdown",
      "metadata": {},
      "source": [
        "Explanation: \n",
        "\n",
        "The outer loop runs n times. For each iteration of the outer loop, the inner loop runs fewer times (n - i - 1), but in the worst case this still results in a total of roughly n(n-1)/2 iterations — which is quadratic time. This is generating all combinations of 2 elements from n, which is (n2)(2n​) and scales as O(n²)"
      ]
    },
    {
      "cell_type": "markdown",
      "metadata": {},
      "source": [
        "### Popcorn Hack 3\n",
        "\n",
        "Question 1: B\n",
        "\n",
        "Factorial time gets larger at a rate greater than exponentially with the increase of a single number. Quadratic and exponential are also inefficient. \n",
        "\n",
        "Question 2: C\n",
        "\n",
        "Quad"
      ]
    },
    {
      "cell_type": "markdown",
      "metadata": {},
      "source": [
        "## Homework Hack"
      ]
    },
    {
      "cell_type": "markdown",
      "metadata": {},
      "source": [
        "### Homework Hack 1\n",
        "\n"
      ]
    },
    {
      "cell_type": "code",
      "execution_count": 1,
      "metadata": {},
      "outputs": [
        {
          "name": "stdout",
          "output_type": "stream",
          "text": [
            "Constant Time Output: 5\n",
            "\n",
            "Linear Time Output:\n",
            "5\n",
            "10\n",
            "15\n",
            "20\n",
            "25\n",
            "\n",
            "Quadratic Time Output:\n",
            "(5, 10)\n",
            "(5, 15)\n",
            "(5, 20)\n",
            "(5, 25)\n",
            "(10, 15)\n",
            "(10, 20)\n",
            "(10, 25)\n",
            "(15, 20)\n",
            "(15, 25)\n",
            "(20, 25)\n"
          ]
        }
      ],
      "source": [
        "def operate(arr, complexity):\n",
        "    if complexity == \"constant\":\n",
        "        return arr[0] if arr else None\n",
        "\n",
        "    elif complexity == \"linear\":\n",
        "        for item in arr:\n",
        "            print(item)\n",
        "\n",
        "    elif complexity == \"quadratic\":\n",
        "        n = len(arr)\n",
        "        for i in range(n):\n",
        "            for j in range(i + 1, n):\n",
        "                print(f\"({arr[i]}, {arr[j]})\")\n",
        "\n",
        "    else:\n",
        "        print(\"Unsupported time complexity\")\n",
        "\n",
        "arr = [5, 10, 15, 20, 25]\n",
        "print(\"Constant Time Output:\", operate(arr, \"constant\"))\n",
        "print(\"\\nLinear Time Output:\")\n",
        "operate(arr, \"linear\")\n",
        "print(\"\\nQuadratic Time Output:\")\n",
        "operate(arr, \"quadratic\")\n"
      ]
    }
  ],
  "metadata": {
    "colab": {
      "provenance": []
    },
    "kernelspec": {
      "display_name": "venv",
      "language": "python",
      "name": "python3"
    },
    "language_info": {
      "codemirror_mode": {
        "name": "ipython",
        "version": 3
      },
      "file_extension": ".py",
      "mimetype": "text/x-python",
      "name": "python",
      "nbconvert_exporter": "python",
      "pygments_lexer": "ipython3",
      "version": "3.12.3"
    }
  },
  "nbformat": 4,
  "nbformat_minor": 0
}
