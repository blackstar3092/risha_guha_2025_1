{
  "cells": [
    {
      "cell_type": "raw",
      "metadata": {
        "vscode": {
          "languageId": "raw"
        }
      },
      "source": [
        "---\n",
        "layout: post\n",
        "title: Lists and Filtering Algorithms Homework\n",
        "description: Homework Hacks and Popcorn Hacks\n",
        "categories: [Javascript]\n",
        "permalink: /sprint/7/hacks_8\n",
        "type: ccc\n",
        "author: Risha Guha\n",
        "menu: nav/sprint_7.html\n",
        "---"
      ]
    },
    {
      "cell_type": "markdown",
      "metadata": {},
      "source": [
        "## Popcorn Hacks\n",
        "\n",
        "\n",
        "### Popcorn Hack 1"
      ]
    },
    {
      "cell_type": "code",
      "execution_count": null,
      "metadata": {},
      "outputs": [
        {
          "name": "stdout",
          "output_type": "stream",
          "text": [
            "Updated movie list: ['The Matrix', 'Interstellar', 'The Hunger Games', 'Harry Potter and the Goblet of Fire', 'Inside Out']\n"
          ]
        }
      ],
      "source": [
        "movies = [\"The Matrix\", \"Captain Marvel\", \"The Hunger Games\", \"Harry Potter and the Goblet of Fire\"]\n",
        "movies[1] = \"Interstellar\"\n",
        "movies.append(\"Inside Out\")\n",
        "\n",
        "print(\"Updated movie list:\", movies)\n"
      ]
    },
    {
      "cell_type": "markdown",
      "metadata": {},
      "source": [
        "### Popcorn Hack 2"
      ]
    },
    {
      "cell_type": "code",
      "execution_count": 3,
      "metadata": {},
      "outputs": [
        {
          "name": "stdout",
          "output_type": "stream",
          "text": [
            "Sorted ages eligible for voting: [18, 19, 20, 21, 34]\n"
          ]
        }
      ],
      "source": [
        "ages = [15, 20, 34, 16, 18, 21, 14, 19]\n",
        "ages.sort()\n",
        "eligible_to_vote = [age for age in ages if age >= 18]\n",
        "print(\"Sorted ages eligible for voting:\", eligible_to_vote)\n"
      ]
    },
    {
      "cell_type": "markdown",
      "metadata": {},
      "source": [
        "## Homework Hack"
      ]
    },
    {
      "cell_type": "markdown",
      "metadata": {},
      "source": [
        "### Homework Hack 1\n",
        "\n",
        "Video Notes:\n",
        "\n",
        "#1: \n",
        "\n",
        "- Python lists can store multiple items, even of different data types (numbers, strings, etc.)\n",
        "- Can create a list using square brackets, like my_list = [1, 2, 3]\n",
        "- Lists are ordered, so can access items by their index—starting from 0. Negative indexing counts from the end\n",
        "- Lists are mutable, which means I can change, add, or remove elements anytime\n",
        "- Methods like .append(), .insert(), .remove(), and .sort() make it super easy to manipulate lists\n",
        "- Can slice a list using [start:stop] to get a portion of it without touching the original\n",
        "- Nested lists (lists inside lists) are possible, and I can access inner elements with double indexing like list[0][1]\n",
        "\n",
        "#2: Python Comprehensions\n",
        "\n",
        "- List comprehensions offer a concise way to create lists by embedding a for loop directly within square brackets.​\n",
        "- Can include conditional logic, allowing for filtering elements during list creation.​\n",
        "- Set comprehensions use curly braces {} and are similar to list comprehensions but automatically eliminate duplicate elements.​\n",
        "- Dictionary comprehensions allow for constructing dictionaries using a syntax like {key: value for item in iterable}.​\n",
        "- Comprehensions can be nested, enabling the creation of complex data structures in a readable manner.​\n",
        "- Using comprehensions can lead to more efficient and readable code compared to traditional loops.​\n",
        "- Use comprehensions sparingly to maintain code clarity\n"
      ]
    },
    {
      "cell_type": "markdown",
      "metadata": {},
      "source": [
        "### Homework Hack 2"
      ]
    },
    {
      "cell_type": "code",
      "execution_count": 1,
      "metadata": {},
      "outputs": [
        {
          "name": "stdout",
          "output_type": "stream",
          "text": [
            "Original List:\n",
            "[1, 2, 3, 4, 5, 6, 7, 8, 9, 10, 11, 12, 13, 14, 15, 16, 17, 18, 19, 20, 21, 22, 23, 24, 25, 26, 27, 28, 29, 30]\n",
            "\n",
            "Filtered List (Divisible by 3 but not by 5):\n",
            "[3, 6, 9, 12, 18, 21, 24, 27]\n"
          ]
        }
      ],
      "source": [
        "numbers = list(range(1, 31))\n",
        "\n",
        "filtered_numbers = [num for num in numbers if num % 3 == 0 and num % 5 != 0]\n",
        "print(\"Original List:\")\n",
        "print(numbers)\n",
        "\n",
        "print(\"\\nFiltered List (Divisible by 3 but not by 5):\")\n",
        "print(filtered_numbers)\n"
      ]
    },
    {
      "cell_type": "markdown",
      "metadata": {},
      "source": [
        "### Homework Hack 3"
      ]
    },
    {
      "cell_type": "code",
      "execution_count": 6,
      "metadata": {},
      "outputs": [
        {
          "name": "stdout",
          "output_type": "stream",
          "text": [
            "🎧 Songs with Over 10 Million Total Streams:\n",
            "\n"
          ]
        },
        {
          "data": {
            "text/html": [
              "<div>\n",
              "<style scoped>\n",
              "    .dataframe tbody tr th:only-of-type {\n",
              "        vertical-align: middle;\n",
              "    }\n",
              "\n",
              "    .dataframe tbody tr th {\n",
              "        vertical-align: top;\n",
              "    }\n",
              "\n",
              "    .dataframe thead th {\n",
              "        text-align: right;\n",
              "    }\n",
              "</style>\n",
              "<table border=\"1\" class=\"dataframe\">\n",
              "  <thead>\n",
              "    <tr style=\"text-align: right;\">\n",
              "      <th></th>\n",
              "      <th>Country</th>\n",
              "      <th>Artist</th>\n",
              "      <th>Album</th>\n",
              "      <th>Genre</th>\n",
              "      <th>Release Year</th>\n",
              "      <th>Monthly Listeners (Millions)</th>\n",
              "      <th>Total Streams (Millions)</th>\n",
              "      <th>Total Hours Streamed (Millions)</th>\n",
              "      <th>Avg Stream Duration (Min)</th>\n",
              "      <th>Platform Type</th>\n",
              "      <th>Streams Last 30 Days (Millions)</th>\n",
              "      <th>Skip Rate (%)</th>\n",
              "    </tr>\n",
              "  </thead>\n",
              "  <tbody>\n",
              "    <tr>\n",
              "      <th>0</th>\n",
              "      <td>Germany</td>\n",
              "      <td>Taylor Swift</td>\n",
              "      <td>1989 (Taylor's Version)</td>\n",
              "      <td>K-pop</td>\n",
              "      <td>2019</td>\n",
              "      <td>23.10</td>\n",
              "      <td>3695.53</td>\n",
              "      <td>14240.35</td>\n",
              "      <td>4.28</td>\n",
              "      <td>Free</td>\n",
              "      <td>118.51</td>\n",
              "      <td>2.24</td>\n",
              "    </tr>\n",
              "    <tr>\n",
              "      <th>1</th>\n",
              "      <td>Brazil</td>\n",
              "      <td>The Weeknd</td>\n",
              "      <td>After Hours</td>\n",
              "      <td>R&amp;B</td>\n",
              "      <td>2022</td>\n",
              "      <td>60.60</td>\n",
              "      <td>2828.16</td>\n",
              "      <td>11120.44</td>\n",
              "      <td>3.90</td>\n",
              "      <td>Premium</td>\n",
              "      <td>44.87</td>\n",
              "      <td>23.98</td>\n",
              "    </tr>\n",
              "    <tr>\n",
              "      <th>2</th>\n",
              "      <td>United States</td>\n",
              "      <td>Post Malone</td>\n",
              "      <td>Austin</td>\n",
              "      <td>Reggaeton</td>\n",
              "      <td>2023</td>\n",
              "      <td>42.84</td>\n",
              "      <td>1425.46</td>\n",
              "      <td>4177.49</td>\n",
              "      <td>4.03</td>\n",
              "      <td>Free</td>\n",
              "      <td>19.46</td>\n",
              "      <td>4.77</td>\n",
              "    </tr>\n",
              "    <tr>\n",
              "      <th>3</th>\n",
              "      <td>Italy</td>\n",
              "      <td>Ed Sheeran</td>\n",
              "      <td>Autumn Variations</td>\n",
              "      <td>K-pop</td>\n",
              "      <td>2018</td>\n",
              "      <td>73.24</td>\n",
              "      <td>2704.33</td>\n",
              "      <td>12024.08</td>\n",
              "      <td>3.26</td>\n",
              "      <td>Premium</td>\n",
              "      <td>166.05</td>\n",
              "      <td>25.12</td>\n",
              "    </tr>\n",
              "    <tr>\n",
              "      <th>4</th>\n",
              "      <td>Italy</td>\n",
              "      <td>Ed Sheeran</td>\n",
              "      <td>Autumn Variations</td>\n",
              "      <td>R&amp;B</td>\n",
              "      <td>2023</td>\n",
              "      <td>7.89</td>\n",
              "      <td>3323.25</td>\n",
              "      <td>13446.32</td>\n",
              "      <td>4.47</td>\n",
              "      <td>Free</td>\n",
              "      <td>173.43</td>\n",
              "      <td>15.82</td>\n",
              "    </tr>\n",
              "    <tr>\n",
              "      <th>...</th>\n",
              "      <td>...</td>\n",
              "      <td>...</td>\n",
              "      <td>...</td>\n",
              "      <td>...</td>\n",
              "      <td>...</td>\n",
              "      <td>...</td>\n",
              "      <td>...</td>\n",
              "      <td>...</td>\n",
              "      <td>...</td>\n",
              "      <td>...</td>\n",
              "      <td>...</td>\n",
              "      <td>...</td>\n",
              "    </tr>\n",
              "    <tr>\n",
              "      <th>495</th>\n",
              "      <td>Brazil</td>\n",
              "      <td>Karol G</td>\n",
              "      <td>MAÑANA SERÁ BONITO</td>\n",
              "      <td>Jazz</td>\n",
              "      <td>2018</td>\n",
              "      <td>18.80</td>\n",
              "      <td>2947.97</td>\n",
              "      <td>12642.83</td>\n",
              "      <td>3.59</td>\n",
              "      <td>Premium</td>\n",
              "      <td>83.30</td>\n",
              "      <td>18.58</td>\n",
              "    </tr>\n",
              "    <tr>\n",
              "      <th>496</th>\n",
              "      <td>Canada</td>\n",
              "      <td>Dua Lipa</td>\n",
              "      <td>Future Nostalgia</td>\n",
              "      <td>Classical</td>\n",
              "      <td>2023</td>\n",
              "      <td>89.68</td>\n",
              "      <td>4418.61</td>\n",
              "      <td>11843.46</td>\n",
              "      <td>3.15</td>\n",
              "      <td>Free</td>\n",
              "      <td>143.96</td>\n",
              "      <td>5.82</td>\n",
              "    </tr>\n",
              "    <tr>\n",
              "      <th>497</th>\n",
              "      <td>Germany</td>\n",
              "      <td>Karol G</td>\n",
              "      <td>MAÑANA SERÁ BONITO</td>\n",
              "      <td>Rock</td>\n",
              "      <td>2023</td>\n",
              "      <td>36.93</td>\n",
              "      <td>2642.90</td>\n",
              "      <td>8637.46</td>\n",
              "      <td>4.08</td>\n",
              "      <td>Free</td>\n",
              "      <td>76.36</td>\n",
              "      <td>15.84</td>\n",
              "    </tr>\n",
              "    <tr>\n",
              "      <th>498</th>\n",
              "      <td>Canada</td>\n",
              "      <td>SZA</td>\n",
              "      <td>SOS</td>\n",
              "      <td>Indie</td>\n",
              "      <td>2022</td>\n",
              "      <td>87.26</td>\n",
              "      <td>4320.23</td>\n",
              "      <td>12201.40</td>\n",
              "      <td>2.79</td>\n",
              "      <td>Free</td>\n",
              "      <td>84.50</td>\n",
              "      <td>13.07</td>\n",
              "    </tr>\n",
              "    <tr>\n",
              "      <th>499</th>\n",
              "      <td>Sweden</td>\n",
              "      <td>BTS</td>\n",
              "      <td>Proof</td>\n",
              "      <td>Reggaeton</td>\n",
              "      <td>2018</td>\n",
              "      <td>89.96</td>\n",
              "      <td>4804.15</td>\n",
              "      <td>12044.32</td>\n",
              "      <td>4.03</td>\n",
              "      <td>Free</td>\n",
              "      <td>92.27</td>\n",
              "      <td>34.36</td>\n",
              "    </tr>\n",
              "  </tbody>\n",
              "</table>\n",
              "<p>500 rows × 12 columns</p>\n",
              "</div>"
            ],
            "text/plain": [
              "           Country        Artist                    Album      Genre  \\\n",
              "0          Germany  Taylor Swift  1989 (Taylor's Version)      K-pop   \n",
              "1           Brazil    The Weeknd              After Hours        R&B   \n",
              "2    United States   Post Malone                   Austin  Reggaeton   \n",
              "3            Italy    Ed Sheeran        Autumn Variations      K-pop   \n",
              "4            Italy    Ed Sheeran        Autumn Variations        R&B   \n",
              "..             ...           ...                      ...        ...   \n",
              "495         Brazil       Karol G       MAÑANA SERÁ BONITO       Jazz   \n",
              "496         Canada      Dua Lipa         Future Nostalgia  Classical   \n",
              "497        Germany       Karol G       MAÑANA SERÁ BONITO       Rock   \n",
              "498         Canada           SZA                      SOS      Indie   \n",
              "499         Sweden           BTS                    Proof  Reggaeton   \n",
              "\n",
              "     Release Year  Monthly Listeners (Millions)  Total Streams (Millions)  \\\n",
              "0            2019                         23.10                   3695.53   \n",
              "1            2022                         60.60                   2828.16   \n",
              "2            2023                         42.84                   1425.46   \n",
              "3            2018                         73.24                   2704.33   \n",
              "4            2023                          7.89                   3323.25   \n",
              "..            ...                           ...                       ...   \n",
              "495          2018                         18.80                   2947.97   \n",
              "496          2023                         89.68                   4418.61   \n",
              "497          2023                         36.93                   2642.90   \n",
              "498          2022                         87.26                   4320.23   \n",
              "499          2018                         89.96                   4804.15   \n",
              "\n",
              "     Total Hours Streamed (Millions)  Avg Stream Duration (Min) Platform Type  \\\n",
              "0                           14240.35                       4.28          Free   \n",
              "1                           11120.44                       3.90       Premium   \n",
              "2                            4177.49                       4.03          Free   \n",
              "3                           12024.08                       3.26       Premium   \n",
              "4                           13446.32                       4.47          Free   \n",
              "..                               ...                        ...           ...   \n",
              "495                         12642.83                       3.59       Premium   \n",
              "496                         11843.46                       3.15          Free   \n",
              "497                          8637.46                       4.08          Free   \n",
              "498                         12201.40                       2.79          Free   \n",
              "499                         12044.32                       4.03          Free   \n",
              "\n",
              "     Streams Last 30 Days (Millions)  Skip Rate (%)  \n",
              "0                             118.51           2.24  \n",
              "1                              44.87          23.98  \n",
              "2                              19.46           4.77  \n",
              "3                             166.05          25.12  \n",
              "4                             173.43          15.82  \n",
              "..                               ...            ...  \n",
              "495                            83.30          18.58  \n",
              "496                           143.96           5.82  \n",
              "497                            76.36          15.84  \n",
              "498                            84.50          13.07  \n",
              "499                            92.27          34.36  \n",
              "\n",
              "[500 rows x 12 columns]"
            ]
          },
          "execution_count": 6,
          "metadata": {},
          "output_type": "execute_result"
        }
      ],
      "source": [
        "import pandas as pd\n",
        "\n",
        "def filter_spotify_data(file_path):\n",
        "    data = pd.read_csv(file_path)\n",
        "\n",
        "    # Filter for songs with more than 10 million total streams\n",
        "    filtered = data[data['Total Streams (Millions)'] > 10]\n",
        "    print(\"🎧 Songs with Over 10 Million Total Streams:\\n\")\n",
        "    return filtered\n",
        "    \n",
        "filter_spotify_data(\"Spotify_2024_Global_Streaming_Data.csv\")"
      ]
    },
    {
      "cell_type": "markdown",
      "metadata": {},
      "source": [
        "### Review Questions\n",
        "\n"
      ]
    }
  ],
  "metadata": {
    "colab": {
      "provenance": []
    },
    "kernelspec": {
      "display_name": "venv",
      "language": "python",
      "name": "python3"
    },
    "language_info": {
      "codemirror_mode": {
        "name": "ipython",
        "version": 3
      },
      "file_extension": ".py",
      "mimetype": "text/x-python",
      "name": "python",
      "nbconvert_exporter": "python",
      "pygments_lexer": "ipython3",
      "version": "3.12.3"
    }
  },
  "nbformat": 4,
  "nbformat_minor": 0
}
