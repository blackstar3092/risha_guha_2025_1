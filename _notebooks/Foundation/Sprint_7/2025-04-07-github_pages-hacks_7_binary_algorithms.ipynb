{
  "cells": [
    {
      "cell_type": "raw",
      "metadata": {
        "vscode": {
          "languageId": "raw"
        }
      },
      "source": [
        "---\n",
        "layout: post\n",
        "title: Binary Algorithms Homework\n",
        "description: Homework Hacks and Popcorn Hacks\n",
        "categories: [Javascript]\n",
        "permalink: /sprint/7/hacks_7\n",
        "type: ccc\n",
        "author: Risha Guha\n",
        "menu: nav/sprint_7.html\n",
        "---"
      ]
    },
    {
      "cell_type": "markdown",
      "metadata": {},
      "source": [
        "## Popcorn Hacks\n",
        "\n",
        "\n",
        "### Pop Quiz 1: C\n",
        "\n",
        "In order to effectively implement binary search algorithm, the length of the number list does not necessarily have to be even. If the number list is odd, it will still be split into two slightly uneven halves. Additionally, even if the function has duplicate values, it will not affect the midpoint calculations, thus ensuring that the binary search algorithm still works efficiently. The value of the target is also not factored into the index number, so the value of the target can be equal to -1. \n",
        "\n",
        "This leaves us with the answer of C: the values in numList must be in sorted order. If the values are not in sorted order, the algorithm can not effectively increase or decrease its index number based on the size of the value selected; it will instead be arbitrary causing the algorithm to fail. "
      ]
    },
    {
      "cell_type": "markdown",
      "metadata": {},
      "source": [
        "### Pop Quiz 2: B\n",
        "\n",
        "One disadvantage of binary search compared to linear search is that it can not be used on unsorted lists (as explained above). Option A is an advantage, rather than a disadvantage. Option C is present in both linear and binary search algorithms, which makes it neither an advantage nor a disadvantage, and finally, Option D is incorrect, as binary search will just return the first found value in the set (it does not need all unique values). "
      ]
    },
    {
      "cell_type": "markdown",
      "metadata": {},
      "source": [
        "### Popcorn Hack 3"
      ]
    },
    {
      "cell_type": "code",
      "execution_count": null,
      "metadata": {},
      "outputs": [
        {
          "name": "stdout",
          "output_type": "stream",
          "text": [
            "2\n"
          ]
        }
      ],
      "source": [
        "def binary_search(arr, target):\n",
        "    left = 0\n",
        "    right = len(arr) - 1\n",
        "\n",
        "    while left <= right:\n",
        "        mid = (left + right) // 2\n",
        "\n",
        "        if arr[mid] == target:\n",
        "            return mid\n",
        "        elif arr[mid] < target:\n",
        "            left = mid + 1\n",
        "        else:\n",
        "            right = mid - 1\n",
        "\n",
        "    return -1 \n",
        "\n",
        "letters = ['a', 'b', 'c', 'd', 'e', 'f', 'g']\n",
        "print(binary_search(letters, 'c'))\n"
      ]
    },
    {
      "cell_type": "markdown",
      "metadata": {},
      "source": [
        "## Homework Hack"
      ]
    },
    {
      "cell_type": "code",
      "execution_count": null,
      "metadata": {},
      "outputs": [
        {
          "name": "stdout",
          "output_type": "stream",
          "text": [
            "First few rows of sorted data:\n",
            "        Product  Price\n",
            "5        Eraser   0.50\n",
            "14  Paper Clips   0.89\n",
            "2        Pencil   0.99\n",
            "9    Glue Stick   1.25\n",
            "1           Pen   1.50\n",
            "Original row count: 15\n",
            "Cleaned row count: 15\n",
            "Price $1.25 was found at index 3 in the sorted list.\n",
            "Price $6.49 was found at index 12 in the sorted list.\n",
            "Price $10.00 was NOT found in the dataset.\n"
          ]
        }
      ],
      "source": [
        "import pandas as pd\n",
        "\n",
        "# Load the dataset\n",
        "data = pd.read_csv(\"school_supplies.csv\")\n",
        "\n",
        "# Drop rows with missing values\n",
        "data_cleaned = data.dropna()\n",
        "\n",
        "# Sort the data by 'Price'\n",
        "data_sorted = data_cleaned.sort_values(by=\"Price\")\n",
        "\n",
        "# Extract sorted prices as a list\n",
        "price_list = data_sorted[\"Price\"].tolist()\n",
        "\n",
        "# Preview the sorted data\n",
        "print(\"First few rows of sorted data:\")\n",
        "print(data_sorted.head())\n",
        "print(\"Original row count:\", len(data))\n",
        "print(\"Cleaned row count:\", len(data_cleaned))\n",
        "\n",
        "# Binary search function\n",
        "def binary_search(arr, target):\n",
        "    left = 0\n",
        "    right = len(arr) - 1\n",
        "    \n",
        "    while left <= right:\n",
        "        mid = (left + right) // 2\n",
        "        if arr[mid] == target:\n",
        "            return mid\n",
        "        elif arr[mid] < target:\n",
        "            left = mid + 1\n",
        "        else:\n",
        "            right = mid - 1\n",
        "    return -1 \n",
        "\n",
        "search_prices = [1.25, 6.49, 10.00]\n",
        "\n",
        "for price in search_prices:\n",
        "    result = binary_search(price_list, price)\n",
        "    if result != -1:\n",
        "        print(f\"Price ${price:.2f} was found at index {result} in the sorted list.\")\n",
        "    else:\n",
        "        print(f\"Price ${price:.2f} was NOT found in the dataset.\")\n"
      ]
    }
  ],
  "metadata": {
    "colab": {
      "provenance": []
    },
    "kernelspec": {
      "display_name": "venv",
      "language": "python",
      "name": "python3"
    },
    "language_info": {
      "codemirror_mode": {
        "name": "ipython",
        "version": 3
      },
      "file_extension": ".py",
      "mimetype": "text/x-python",
      "name": "python",
      "nbconvert_exporter": "python",
      "pygments_lexer": "ipython3",
      "version": "3.12.3"
    }
  },
  "nbformat": 4,
  "nbformat_minor": 0
}
