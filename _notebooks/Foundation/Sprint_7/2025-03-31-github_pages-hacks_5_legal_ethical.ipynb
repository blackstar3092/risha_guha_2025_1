{
  "cells": [
    {
      "cell_type": "code",
      "execution_count": null,
      "metadata": {
        "vscode": {
          "languageId": "yaml"
        }
      },
      "outputs": [],
      "source": [
        "---\n",
        "layout: post\n",
        "title: Legal and Ethical Implications Homework\n",
        "description: Homework Hacks and Popcorn Hacks\n",
        "categories: [Javascript]\n",
        "permalink: /sprint/7/hacks_5\n",
        "type: ccc\n",
        "author: Risha Guha\n",
        "menu: nav/sprint_7.html\n",
        "---"
      ]
    },
    {
      "cell_type": "markdown",
      "metadata": {},
      "source": [
        "## Popcorn Hacks\n",
        "\n",
        "\n",
        "### Popcorn Hack 1 \n",
        "\n",
        "Some ways to protect intellectual property are to ...\n",
        "\n",
        "Intellectual property includes inventions, literary and artistic works, designs, symbols, names, and images used in commerce. It grants the creator exclusive rights to use their creation for a certain period.\n",
        "\n",
        "Some ways to protect intellectual property include:\n",
        "\n",
        "- Patents\n",
        "- Copyrights \n",
        "- Trademarks\n",
        "- Trade secrets \n",
        "- Non-Disclosure Agreements (NDAs) \n",
        "- Contracts and Licensing Agreements\n",
        "- Watermarks \n",
        "\n",
        "This can protect intellectual property because it discourages malicious threat actors from being able to easily steal or reproduce this content.\n",
        "\n",
        "### MC Question: B\n",
        "\n",
        "### Popcorn Hack 2:\n",
        "\n",
        "The MIT license is an open-source software license that allows users to use, copy, modify, and distribute copies of software that developers can use with certain pieces of code.  \n",
        "\n",
        "For my repository, I can use the MIT license by obtaining a license that allows users to copy or sell our game from the Pilot City project (with due credit).\n",
        "\n",
        "### Popcorn Hack 3: \n",
        "\n",
        "A creative content license is a legal agreement that specifies how others can use, share, distribute, or modify a creator's work while maintaining the creator’s rights. These licenses help balance copyright protection with the ability to share and collaborate. \n",
        "\n",
        "Some exceptions to the copyright law are educational uses, parody uses, first sale doctrine, and more.\n",
        "\n",
        "### Popcorn Hack 4:\n",
        "\n",
        "- Use copyrighting notices\n",
        "- Watermark content\n",
        "- Credit original creator\n",
        "- Monitor usage\n",
        "- Use stock or licensed content\n",
        "\n",
        "I discussed these strategies with Ethan."
      ]
    },
    {
      "cell_type": "markdown",
      "metadata": {},
      "source": [
        "### MCQ Questions:\n",
        "\n",
        "2020: \n",
        "\n",
        "31: C\n",
        "51: A\n",
        "59: C\n",
        "\n",
        "2018:\n",
        "\n",
        "16: D\n",
        "35: D\n"
      ]
    },
    {
      "cell_type": "markdown",
      "metadata": {},
      "source": [
        "## Homework Hack"
      ]
    },
    {
      "cell_type": "markdown",
      "metadata": {
        "id": "CUwV6JjZboQc"
      },
      "source": [
        "I chose the MIT license for my personal repository because I do not have any private, restricted or top-secret content. Additionally, it enables me to still receive credit for my code but I do not have to apply for legal restrictions (unlike other more complex licenses).\n",
        "\n",
        "PILOT CITY PROJECT LICENSE (open coding society)\n",
        "\n",
        "2-3 sentence description"
      ]
    }
  ],
  "metadata": {
    "colab": {
      "provenance": []
    },
    "kernelspec": {
      "display_name": "venv",
      "language": "python",
      "name": "python3"
    },
    "language_info": {
      "codemirror_mode": {
        "name": "ipython",
        "version": 3
      },
      "file_extension": ".py",
      "mimetype": "text/x-python",
      "name": "python",
      "nbconvert_exporter": "python",
      "pygments_lexer": "ipython3",
      "version": "3.12.3"
    }
  },
  "nbformat": 4,
  "nbformat_minor": 0
}
