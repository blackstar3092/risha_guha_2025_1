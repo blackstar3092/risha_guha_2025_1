{
  "cells": [
    {
      "cell_type": "code",
      "execution_count": null,
      "metadata": {
        "vscode": {
          "languageId": "yaml"
        }
      },
      "outputs": [],
      "source": [
        "---\n",
        "layout: post\n",
        "title: Legal and Ethical Implications Homework\n",
        "description: Homework Hacks and Popcorn Hacks\n",
        "categories: [Javascript]\n",
        "permalink: /sprint/7/hacks_5\n",
        "type: ccc\n",
        "author: Risha Guha\n",
        "menu: nav/sprint_7.html\n",
        "---"
      ]
    },
    {
      "cell_type": "markdown",
      "metadata": {},
      "source": [
        "## Popcorn Hacks\n",
        "\n",
        "\n",
        "### Popcorn Hack 1 \n",
        "\n",
        "Some ways to protect intellectual property are to ...\n",
        "\n",
        "Intellectual property includes inventions, literary and artistic works, designs, symbols, names, and images used in commerce. It grants the creator exclusive rights to use their creation for a certain period.\n",
        "\n",
        "Some ways to protect intellectual property include:\n",
        "\n",
        "- Patents\n",
        "- Copyrights \n",
        "- Trademarks\n",
        "- Trade secrets \n",
        "- Non-Disclosure Agreements (NDAs) \n",
        "- Contracts and Licensing Agreements\n",
        "- Watermarks \n",
        "\n",
        "This can protect intellectual property because it discourages malicious threat actors from being able to easily steal or reproduce this content.\n",
        "\n",
        "### MC Question: B\n",
        "\n",
        "### Popcorn Hack 2:\n",
        "\n",
        "The MIT license is an open-source software license that allows users to use, copy, modify, and distribute copies of software that developers can use with certain pieces of code.  \n",
        "\n",
        "For my repository, I can use the MIT license by obtaining a license that allows users to copy or sell our game from the Pilot City project (with due credit).\n",
        "\n",
        "### Popcorn Hack 3: \n",
        "\n",
        "A creative content license is a legal agreement that specifies how others can use, share, distribute, or modify a creator's work while maintaining the creator’s rights. These licenses help balance copyright protection with the ability to share and collaborate. \n",
        "\n",
        "Some exceptions to the copyright law are educational uses, parody uses, first sale doctrine, and more.\n",
        "\n",
        "### Popcorn Hack 4:\n",
        "\n",
        "- Use copyrighting notices\n",
        "- Watermark content\n",
        "- Credit original creator\n",
        "- Monitor usage\n",
        "- Use stock or licensed content\n",
        "\n",
        "I discussed these strategies with Ethan."
      ]
    },
    {
      "cell_type": "markdown",
      "metadata": {},
      "source": [
        "### MCQ Questions:\n",
        "\n",
        "2020: \n",
        "\n",
        "31: C\n",
        "51: A\n",
        "59: C\n",
        "\n",
        "2018:\n",
        "\n",
        "16: D\n",
        "35: D\n"
      ]
    },
    {
      "cell_type": "markdown",
      "metadata": {},
      "source": [
        "## Homework Hack"
      ]
    },
    {
      "cell_type": "markdown",
      "metadata": {
        "id": "CUwV6JjZboQc"
      },
      "source": [
        "I chose the Apache license for my personal repository because I do not have any private, restricted or top-secret content. Additionally, it enables me to still receive credit for my code but I do not have to apply for legal restrictions (unlike other more complex licenses).\n",
        "\n",
        "My License Link: https://github.com/blackstar3092/risha_guha_2025_1/blob/main/LICENSE\n",
        "\n",
        "### Extra Credit:\n",
        "\n",
        "Illumina is a leading biotech company in the health and medical services sector, driven by its core values of innovation, collaboration, integrity, and accessibility. Committed to advancing genomics, Illumina develops cutting-edge sequencing kits, instruments, and analytical tools that empower researchers, clinicians, and scientists to make breakthrough discoveries in healthcare and beyond. However, they are unable to connect with younger demographics due to perceived difficulty of the topics that they are working on. Thus, they aim to increase knowledge about DNA and interest in Illumina in their social media followers through an engaging, easy to understand game. This project develops a game for the Illumina company to increase social media engagement.\n",
        "- Goal: increase engagement by 30%\n",
        "- Intended Audience: Social media followers of Illumina\n",
        "    - Incentive to win (Social media post)\n",
        "- Content: Game must have information about both Illumina and DNA sequencing\n",
        "\n",
        "**Gameplay** \n",
        "- Game similar to Block Blast (DNA Dynamite)\n",
        "- Users race to fill in the base pairs before the DNA disappears from their screen\n",
        "- If a user runs out of hearts, they must answer 3 trivia questions correctly to revive\n",
        "- Highest score stored in backend\n",
        "- Teaches users about DNA and increases engagement/understanding of gene editing\n",
        "\n",
        "Pilot City MIT License: https://github.com/blackstar3092/illumina_pc_frontend/blob/main/LICENSE"
      ]
    }
  ],
  "metadata": {
    "colab": {
      "provenance": []
    },
    "kernelspec": {
      "display_name": "venv",
      "language": "python",
      "name": "python3"
    },
    "language_info": {
      "codemirror_mode": {
        "name": "ipython",
        "version": 3
      },
      "file_extension": ".py",
      "mimetype": "text/x-python",
      "name": "python",
      "nbconvert_exporter": "python",
      "pygments_lexer": "ipython3",
      "version": "3.12.3"
    }
  },
  "nbformat": 4,
  "nbformat_minor": 0
}
