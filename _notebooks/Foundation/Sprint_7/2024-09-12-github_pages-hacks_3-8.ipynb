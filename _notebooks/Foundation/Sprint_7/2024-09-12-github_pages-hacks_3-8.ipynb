{
 "cells": [
  {
   "cell_type": "raw",
   "metadata": {
    "vscode": {
     "languageId": "raw"
    }
   },
   "source": [
    "---\n",
    "layout: post\n",
    "title: 3.8 Hacks\n",
    "description: Python and Javascript Popcorn and Homework Hacks for 3.8\n",
    "categories: [Javascript]\n",
    "permalink: /sprint/2/hacks_3-8\n",
    "type: ccc\n",
    "author: Risha Guha\n",
    "menu: nav/sprint_2.html\n",
    "---"
   ]
  },
  {
   "cell_type": "markdown",
   "metadata": {},
   "source": [
    "## Python Popcorn and Homework Hacks"
   ]
  },
  {
   "cell_type": "code",
   "execution_count": 1,
   "metadata": {},
   "outputs": [
    {
     "name": "stdout",
     "output_type": "stream",
     "text": [
      "Hello\n",
      "Hello\n",
      "Hello\n",
      "Hello\n",
      "Hello\n"
     ]
    }
   ],
   "source": [
    "#Popcorn Hack 1\n",
    "\n",
    "number = 5\n",
    "\n",
    "while number > 0: # Make sure hello only prints 5 times\n",
    "    print(\"Hello\") # Print to terminal\n",
    "    number -= 1 # subtract one to lower counter number"
   ]
  },
  {
   "cell_type": "code",
   "execution_count": 2,
   "metadata": {},
   "outputs": [
    {
     "name": "stdout",
     "output_type": "stream",
     "text": [
      "Risha\n",
      "N/A\n",
      "N/A\n",
      "Guha\n",
      "Guha\n",
      "Guha\n",
      "Risha\n",
      "N/A\n",
      "N/A\n",
      "Guha\n",
      "Guha\n",
      "Guha\n",
      "Risha\n",
      "N/A\n",
      "N/A\n",
      "Guha\n",
      "Guha\n",
      "Guha\n",
      "Risha\n",
      "N/A\n",
      "N/A\n",
      "Guha\n",
      "Guha\n",
      "Guha\n"
     ]
    }
   ],
   "source": [
    "# Popcorn Hack 2\n",
    "\n",
    "name_repeat = 0 # reset counter\n",
    "\n",
    "while name_repeat < 4:\n",
    "    # Print first name\n",
    "    print(\"Risha\")\n",
    "\n",
    "    name_middle = 0 # Middle name Counter\n",
    "    while name_middle < 2: \n",
    "        print(\"N/A\")\n",
    "        name_middle += 1\n",
    "        # Print middle name 2 times\n",
    "\n",
    "    name_last = 0 # Last name counter\n",
    "    while name_last < 3:\n",
    "        print(\"Guha\")\n",
    "        name_last += 1  \n",
    "        # Print last name 3 times\n",
    "\n",
    "    #repeat whole thing 4 times\n",
    "    name_repeat += 1"
   ]
  },
  {
   "cell_type": "code",
   "execution_count": 3,
   "metadata": {},
   "outputs": [
    {
     "name": "stdout",
     "output_type": "stream",
     "text": [
      "R\n",
      "i\n",
      "s\n",
      "h\n",
      "a\n"
     ]
    }
   ],
   "source": [
    "# Popcorn Hack 3\n",
    "\n",
    "name = \"Risha\"\n",
    "\n",
    "for i in name: \n",
    "    print(i) # print each letter in name"
   ]
  },
  {
   "cell_type": "code",
   "execution_count": 4,
   "metadata": {},
   "outputs": [
    {
     "name": "stdout",
     "output_type": "stream",
     "text": [
      "The key is player1 and the value is Risha.\n",
      "The key is player2 and the value is Vibha.\n",
      "The key is player3 and the value is Ava.\n",
      "The key is teacher and the value is Mr. Brown.\n"
     ]
    }
   ],
   "source": [
    "# Popcorn Hack 4\n",
    "\n",
    "myGroup= { \n",
    "    \"player1\": \"Risha\",\n",
    "    \"player2\": \"Vibha\",\n",
    "    \"player3\": \"Ava\",\n",
    "    \"teacher\": \"Mr. Brown\" \n",
    "} # Define dictionary about my group\n",
    "\n",
    "for key, value in myGroup.items(): # print each key and value in the statement below\n",
    "    print(f\"The key is {key} and the value is {value}.\")"
   ]
  },
  {
   "cell_type": "code",
   "execution_count": 5,
   "metadata": {},
   "outputs": [
    {
     "name": "stdout",
     "output_type": "stream",
     "text": [
      "Wrong password. Try again or press 'Forgot Password' to reset it.\n",
      "Correct password. Logging you in... \n"
     ]
    }
   ],
   "source": [
    "# Homework Hack 1\n",
    "\n",
    "# Define password\n",
    "password = \"CyberPatriot1!\"\n",
    "\n",
    "# Control while loop\n",
    "isPasswordCorrect = False\n",
    "\n",
    "# While loop doesn't proceed until password is correct\n",
    "while not isPasswordCorrect:\n",
    "    # Ask for password\n",
    "    userInput = input(\"Enter password: \")\n",
    "\n",
    "    # Check for password correct\n",
    "    if userInput == password:\n",
    "        print(\"Correct password. Logging you in... \")\n",
    "        isPasswordCorrect = True # Exit loop\n",
    "\n",
    "    else:\n",
    "        print(\"Wrong password. Try again or press 'Forgot Password' to reset it.\")\n"
   ]
  },
  {
   "cell_type": "code",
   "execution_count": 6,
   "metadata": {},
   "outputs": [
    {
     "name": "stdout",
     "output_type": "stream",
     "text": [
      "n\n",
      "a\n",
      "m\n",
      "e\n",
      "-\n",
      "h\n",
      "e\n",
      "r\n",
      "e\n"
     ]
    }
   ],
   "source": [
    "# Homework Hack 2\n",
    "\n",
    "name = input(\"Enter your name: \")\n",
    "\n",
    "for i in name: \n",
    "    print(i) # print each letter in name"
   ]
  },
  {
   "cell_type": "code",
   "execution_count": 7,
   "metadata": {},
   "outputs": [
    {
     "name": "stdout",
     "output_type": "stream",
     "text": [
      "apple\n",
      "banana\n",
      "grape\n",
      "kiwi\n",
      "mango\n",
      "strawberry\n",
      "raspberry\n"
     ]
    }
   ],
   "source": [
    "# Homework Hack 3\n",
    "\n",
    "# list fruits\n",
    "fruitList = [\"apple\", \"banana\", \"grape\", \"kiwi\", \"mango\", \"strawberry\", \"raspberry\"]\n",
    "\n",
    "# List each fruit by iterating\n",
    "\n",
    "for i in fruitList:\n",
    "    print(i)"
   ]
  }
 ],
 "metadata": {
  "kernelspec": {
   "display_name": "venv",
   "language": "python",
   "name": "python3"
  },
  "language_info": {
   "codemirror_mode": {
    "name": "ipython",
    "version": 3
   },
   "file_extension": ".py",
   "mimetype": "text/x-python",
   "name": "python",
   "nbconvert_exporter": "python",
   "pygments_lexer": "ipython3",
   "version": "3.12.3"
  },
  "orig_nbformat": 4
 },
 "nbformat": 4,
 "nbformat_minor": 2
}
