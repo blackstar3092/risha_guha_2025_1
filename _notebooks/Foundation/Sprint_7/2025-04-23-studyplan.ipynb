{
 "cells": [
  {
   "cell_type": "code",
   "execution_count": null,
   "metadata": {
    "vscode": {
     "languageId": "plaintext"
    }
   },
   "outputs": [],
   "source": [
    "---\n",
    "layout: post\n",
    "title: AP Exam Study Plan\n",
    "description: Plan of action for studying for the AP exam\n",
    "categories: ['Javascript']\n",
    "permalink: /sprint/7/studyplan\n",
    "type: ccc\n",
    "author: Risha Guha\n",
    "menu: nav/sprint_5.html\n",
    "comments: true\n",
    "---"
   ]
  },
  {
   "cell_type": "markdown",
   "metadata": {},
   "source": [
    "With the AP exam around the corner, I’ve laid out a structured and intentional plan to balance project deadlines and exam prep. Here's how it's unfolding:\n",
    "🛠️ April: Wrapping Up Projects & Shifting to Study Mode\n",
    "\n",
    "The first half of April was all about development work. I finished building and testing features like the High Score API, a unique “un-ChatGPTing” functionality, and even recorded my CPT video. By mid-month, my team began integrating machine learning features and merging them into the main project—some tasks are still in progress, but we’ve made solid strides.\n",
    "📚 Late April: Dive into Big Ideas\n",
    "\n",
    "Starting April 22, I shifted focus to AP prep. My plan includes daily sessions dedicated to studying the Big Ideas (1 through 5), paired with Khan Academy modules to reinforce the material. I’ve spaced the topics across several days for deeper absorption.\n",
    "📝 End of April – Early May: Practice Makes Progress\n",
    "\n",
    "From April 27 onward, practice becomes the priority:\n",
    "\n",
    "- Multiple Choice Practice Tests scheduled consistently from May 1–3.\n",
    "\n",
    "- Final touches like FRQ wording and submission to CollegeBoard are planned for April 28.\n",
    "\n",
    "- More MC tests and a full review of Big Ideas are set for May 9–13, followed by a full practice exam on May 14.\n",
    "\n",
    "🎯 May 15: Game Day\n",
    "\n",
    "The big day—AP Exam—is on May 15, and my schedule is designed to peak right before it, with light review and full simulation just days before.\n",
    "\n",
    "Full plan: https://docs.google.com/spreadsheets/d/1Eb0hpJi3WmTt8MjzmknTd4ZHURLJDLXAOJ3UHeqpewo/edit?pli=1&gid=552238397#gid=552238397"
   ]
  }
 ],
 "metadata": {
  "language_info": {
   "name": "python"
  }
 },
 "nbformat": 4,
 "nbformat_minor": 2
}
