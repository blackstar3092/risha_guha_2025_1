{
 "cells": [
  {
   "cell_type": "code",
   "execution_count": null,
   "metadata": {
    "vscode": {
     "languageId": "plaintext"
    }
   },
   "outputs": [],
   "source": [
    "---\n",
    "layout: post\n",
    "title: Final Exam Blog\n",
    "description: What I Did In Trimester 2\n",
    "permalink: /sprint/5/final\n",
    "type: ccc\n",
    "author: Risha Guha\n",
    "menu: nav/sprint_5.html\n",
    "---"
   ]
  },
  {
   "cell_type": "markdown",
   "metadata": {},
   "source": [
    "## 5 Things Done Over 12 Weeks"
   ]
  },
  {
   "cell_type": "markdown",
   "metadata": {},
   "source": [
    "## Full Stack Project Demo\n",
    "\n",
    "### CPT Requirements Met\n",
    "\n",
    "### N@TM Feedback"
   ]
  },
  {
   "cell_type": "markdown",
   "metadata": {},
   "source": [
    "## Project Feature Blog"
   ]
  },
  {
   "cell_type": "markdown",
   "metadata": {},
   "source": [
    "## MCQ Reflection"
   ]
  },
  {
   "cell_type": "markdown",
   "metadata": {},
   "source": [
    "## Extras\n",
    "\n",
    "### N@TM Interests and Reviews\n",
    "\n",
    "I reviewed 7 different presentations at N@TM this trimester. Some of the key ones that stood out to me were the following:\n",
    "\n",
    "Holiday Giftinator\n",
    "\n",
    "Prism\n",
    "\n",
    "**CSA Gradebook Creation Project**\n",
    "- When learning about Aadit and Eric's project to create a \"pseudo-Synergy\" for students and teachers to access CS grading data through, I was amazed by the creativity and applicability of the project to all DNHS CS students. The organization of the backend code was clear and I was inspired by the quality of their work, furthering my motivation to take CSA next year.\n",
    "\n",
    "**CSA Live Review Organization Project**\n",
    "- I also reviewed Ian's \"Live Review Timer\" project. I observed him using it in class to track classmates' progress in live reviews\n",
    "\n",
    "### Review with Ms. Pataki and Others\n",
    "\n",
    "- Before N@TM, my group reviewed our presentation with Ms. Pataki. She provided valuable feedback regarding user interface customization, ease of UX, and demo content (she emphasized a lessened transition time between various speakers in our group while presenting). We incorporated her feedback into our presentation by cleaning up the frontend before the review in the evening. We also practiced our presentation further to ensure connection and clarity between speakers. \n",
    "\n",
    "### Future Interests in Computer Science\n",
    "\n",
    "In the future, I am looking towards the following options in career pathways:\n",
    "\n",
    "- Interest: Cybersecurity: I am passionate about cybersecurity and compete in CyberPatriot yearly. I excel in this interest and plan to continue learning more about it.\n",
    "- Classes: I am planning on taking Computer Science A next year and am looking forward to learning about Java!\n",
    "- College and Career: I would like to major in a field that merges both biology and computer science, such as computational biology. The fusion of tech and biology, especially as machine learning and data modeling becomes increasingly relevant in other science fields, is fascinating to me.\n",
    "\n",
    "### Strengths and Weaknesses Review\n",
    "\n",
    "At the beginning of this trimester, I was used to working in a smaller group with a team members who were very similar to me in terms of work habits and deadline time management. When working in larger groups this trimester, I was exposed to new, innovative methods of completing tasks. These ideas, such as designs for frontend pages, backend organization, and even blog creation and group role dynamics, were different from my own methods; I learned from my team members and was able to improve my own understanding of team projects. Additionally, I learned how to work with different work styles and how to encourage teammates to work towards a common final objective.\n",
    "\n",
    "Glows:\n",
    "- Technical understanding of full stack and deployment\n",
    "- Ability to debug complex programs\n",
    "- Organization and planning (see Kanban board and burndown issues)\n",
    "\n",
    "Grows:\n",
    "- Adapting to different styles of working\n",
    "- Working across other teams (outside of my own)\n",
    "- Continue improving my understanding of technical content\n",
    "\n",
    "### Self Assessment"
   ]
  }
 ],
 "metadata": {
  "language_info": {
   "name": "python"
  }
 },
 "nbformat": 4,
 "nbformat_minor": 2
}
