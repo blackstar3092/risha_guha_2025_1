{
 "cells": [
  {
   "cell_type": "code",
   "execution_count": null,
   "metadata": {
    "vscode": {
     "languageId": "plaintext"
    }
   },
   "outputs": [],
   "source": [
    "---\n",
    "layout: post\n",
    "title: AP Exam PPR\n",
    "description: Draft 1 for AP Exam PPR\n",
    "permalink: /sprint/5/ppr\n",
    "type: ccc\n",
    "author: Risha Guha\n",
    "menu: nav/sprint_5.html\n",
    "---"
   ]
  },
  {
   "cell_type": "markdown",
   "metadata": {},
   "source": [
    "### CPT Requirements\n",
    "\n",
    "<img src=\"{{site.baseurl}}/images/trimester2final/cpt_met.png\" style=\"display: block; margin: 0 auto; width: 300px; height: auto;\">\n",
    "\n",
    "### Project Feature Blog Writeup\n",
    "\n",
    "<p></p>\n",
    "\n",
    "My feature allows a user to **input** their overall stars for a park and write detailed reviews that are visible to others. The system processes **online data streams** in the form of text and integer values in real time, efficiently managing reviews while ensuring they follow community guidelines through moderation by administrators.\n",
    "\n",
    "<span style=\"font-family: Tahoma; color:#94eaff\"><b> Feature Overview </b></span>\n",
    "\n",
    "The system consists of two primary components:\n",
    "\n",
    "<ol class=\"custom-list\">\n",
    "    <li><span class=\"highlight\">User Input & Submission</span>\n",
    "        <ul>\n",
    "            <li>Users can input a star rating (1-5) and a written review via their <b>device</b></li>\n",
    "            <li>The data is synced to the AWS-based backend server as an <b>online data stream</b>, where it's processed and stored in a SQLite database table for retrieval.</li>\n",
    "        </ul>\n",
    "    </li>\n",
    "    <li><span class=\"highlight\">Backend Processing & CRUD Operations</span>\n",
    "        <ul>\n",
    "            <li>Create: When a user submits a review, it's collected in a <b>list</b> in the database.</li>\n",
    "            <li>Read: Reviews are dynamically retrieved and displayed on the national park’s page using <b>sequencing algorithms and iteration</b></li>\n",
    "            <li>Update: Users can edit their past reviews if needed.</li>\n",
    "            <li>Delete: If a review violates guidelines, administrators can remove it.</li>\n",
    "        </ul>\n",
    "    </li>\n",
    "</ol>\n",
    "\n",
    "This rating and review system enhances user engagement and decision-making for national park visitors. With a carefully structured algorithm, a well-organized procedure, and real-time online data streams, this feature ensures a smooth and exciting experience for all users."
   ]
  },
  {
   "cell_type": "markdown",
   "metadata": {},
   "source": [
    "## Student Developed Procedure: Star Rating API\n",
    "\n",
    "<img src=\"{{site.baseurl}}/images/trimester2final/ppr/code_snip_1.png\">\n",
    "<img src=\"{{site.baseurl}}/images/trimester2final/ppr/code_snip_2.png\">\n",
    "\n",
    "This feature demonstrates accepting user input of star review numbers and storing it in the backend database for future reference.\n",
    "\n",
    "## Student Developed Procedure: Calling API in Frontend\n",
    "\n",
    "<img src=\"{{site.baseurl}}/images/trimester2final/ppr/code_snip_3.png\">\n",
    "\n",
    "This code, pulled from frontend, uses the student-built API to store data for each of the national parks."
   ]
  },
  {
   "cell_type": "markdown",
   "metadata": {},
   "source": [
    "## Lists in Student Developed Procedure: Initializing Data\n",
    "\n",
    "<img src=\"{{site.baseurl}}/images/trimester2final/ppr/code_snip_4.png\">\n",
    "\n",
    "This list initializes rating data (in list format) and sets the stage for further rating submissions.\n",
    "\n",
    "## Lists in Student Developed Procedure: Reading and Updating Lists\n",
    "\n",
    "<img src=\"{{site.baseurl}}/images/trimester2final/ppr/code_snip_5.png\">\n",
    "<img src=\"{{site.baseurl}}/images/trimester2final/ppr/code_snip_6.png\">\n",
    "\n",
    "CRUD functions update the lists frequently through integration with frontend. "
   ]
  }
 ],
 "metadata": {
  "language_info": {
   "name": "python"
  }
 },
 "nbformat": 4,
 "nbformat_minor": 2
}
