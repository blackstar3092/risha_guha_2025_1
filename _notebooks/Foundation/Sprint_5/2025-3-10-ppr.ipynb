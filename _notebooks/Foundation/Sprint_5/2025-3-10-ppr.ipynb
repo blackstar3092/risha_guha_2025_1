{
 "cells": [
  {
   "cell_type": "code",
   "execution_count": null,
   "metadata": {
    "vscode": {
     "languageId": "plaintext"
    }
   },
   "outputs": [],
   "source": [
    "---\n",
    "layout: post\n",
    "title: AP Exam PPR\n",
    "description: Draft 1 for AP Exam PPR\n",
    "permalink: /sprint/5/ppr\n",
    "type: ccc\n",
    "author: Risha Guha\n",
    "menu: nav/sprint_5.html\n",
    "---"
   ]
  },
  {
   "cell_type": "markdown",
   "metadata": {},
   "source": [
    "## Student Developed Procedure: Star Rating API\n",
    "\n",
    "<img src=\"{{site.baseurl}}/images/trimester2final/ppr/code_snip_1.png\">\n",
    "<img src=\"{{site.baseurl}}/images/trimester2final/ppr/code_snip_2.png\">\n",
    "\n",
    "## Student Developed Procedure: Calling API in Frontend\n",
    "\n",
    "<img src=\"{{site.baseurl}}/images/trimester2final/ppr/code_snip_3.png\">"
   ]
  },
  {
   "cell_type": "markdown",
   "metadata": {},
   "source": [
    "## Lists in Student Developed Procedure: Initializing Data\n",
    "\n",
    "<img src=\"{{site.baseurl}}/images/trimester2final/ppr/code_snip_4.png\">\n",
    "\n",
    "## Lists in Student Developed Procedure: Reading and Updating Lists\n",
    "\n",
    "<img src=\"{{site.baseurl}}/images/trimester2final/ppr/code_snip_5.png\">\n",
    "<img src=\"{{site.baseurl}}/images/trimester2final/ppr/code_snip_6.png\">"
   ]
  }
 ],
 "metadata": {
  "language_info": {
   "name": "python"
  }
 },
 "nbformat": 4,
 "nbformat_minor": 2
}
